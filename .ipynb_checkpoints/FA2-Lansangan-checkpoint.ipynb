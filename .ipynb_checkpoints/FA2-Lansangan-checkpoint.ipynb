{
 "cells": [
  {
   "cell_type": "markdown",
   "id": "13e08960-6109-4aa2-b3a1-1745fe6a1bf7",
   "metadata": {},
   "source": [
    "##### (3.49) Prove that:\n",
    "$$\n",
    "\\sum_{j=1}^N (X_j - 1)^2 = \\sum_{j=1}^N X_j^2 - 2\\sum_{j=1}^N X_j + N\n",
    "$$"
   ]
  },
  {
   "cell_type": "markdown",
   "id": "63a4f27c-d2e8-4680-ae59-ad2aff6b61c7",
   "metadata": {},
   "source": [
    "Proof:\n",
    "\n",
    "<b>Expanding the summand</b> we'll have,\n",
    "\n",
    "$$\n",
    "\\sum_{j=1}^N (X_j - 1)^2 = \\sum_{j=1}^N X_j^2 - 2\\sum_{j=1}^N X_j + \\sum_{j=1}^N 1\n",
    "$$\n",
    "\n",
    "Note that in $ \\sum_{j=1}^N 1 $ we just ought to add 1 Nth times. Therefore,\n",
    "\n",
    "$$\n",
    "\\sum_{j=1}^N (X_j - 1)^2 = \\sum_{j=1}^N X_j^2 - 2\\sum_{j=1}^N X_j + \\sum_{j=1}^N N\n",
    "$$\n",
    "\n",
    "As desired $\\square$"
   ]
  },
  {
   "cell_type": "markdown",
   "id": "c9100c55-70df-4240-8acb-9d60923f0323",
   "metadata": {},
   "source": [
    "##### (3.51)\n",
    "Two variables, U and V, assume the values $U_t = 3 , U_2 = -2 , U_3 = 5, and V_1 = -4, V_2 = -1 , V_3 = 6$ , respectively. Calculate\n",
    "\n",
    "###### (a)\n",
    "$$\n",
    "\\sum UV\n",
    "$$\n",
    "\n",
    "We could use python to calculate (a)"
   ]
  },
  {
   "cell_type": "code",
   "execution_count": 26,
   "id": "391cbe4a-f0e4-4eca-a2a0-5227a0c86b74",
   "metadata": {},
   "outputs": [],
   "source": [
    "u_n = [3,-2,5]\n",
    "v_n = [-4, -1, 6]"
   ]
  },
  {
   "cell_type": "markdown",
   "id": "e8927ba9-37ac-4e90-8db0-f5d5fc7f6c0d",
   "metadata": {},
   "source": [
    "Let us multiply the two list for (UV)"
   ]
  },
  {
   "cell_type": "code",
   "execution_count": 29,
   "id": "566a6520-467e-4ae1-b27d-b553ee89b7f3",
   "metadata": {},
   "outputs": [
    {
     "ename": "TypeError",
     "evalue": "can't multiply sequence by non-int of type 'list'",
     "output_type": "error",
     "traceback": [
      "\u001b[1;31m---------------------------------------------------------------------------\u001b[0m",
      "\u001b[1;31mTypeError\u001b[0m                                 Traceback (most recent call last)",
      "Cell \u001b[1;32mIn[29], line 1\u001b[0m\n\u001b[1;32m----> 1\u001b[0m u_n \u001b[38;5;241m*\u001b[39m v_n\n",
      "\u001b[1;31mTypeError\u001b[0m: can't multiply sequence by non-int of type 'list'"
     ]
    }
   ],
   "source": [
    "u_n * v_n"
   ]
  }
 ],
 "metadata": {
  "kernelspec": {
   "display_name": "Python 3 (ipykernel)",
   "language": "python",
   "name": "python3"
  },
  "language_info": {
   "codemirror_mode": {
    "name": "ipython",
    "version": 3
   },
   "file_extension": ".py",
   "mimetype": "text/x-python",
   "name": "python",
   "nbconvert_exporter": "python",
   "pygments_lexer": "ipython3",
   "version": "3.12.4"
  }
 },
 "nbformat": 4,
 "nbformat_minor": 5
}
