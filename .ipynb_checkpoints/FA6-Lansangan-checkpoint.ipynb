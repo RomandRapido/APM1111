{
 "cells": [
  {
   "cell_type": "code",
   "execution_count": 1,
   "metadata": {
    "_cell_guid": "b1076dfc-b9ad-4769-8c92-a6c4dae69d19",
    "_uuid": "8f2839f25d086af736a60e9eeb907d3b93b6e0e5"
   },
   "outputs": [],
   "source": [
    "import numpy as np\n",
    "import pandas as pd\n",
    "import itertools"
   ]
  },
  {
   "cell_type": "markdown",
   "metadata": {},
   "source": [
    "## 1) \n",
    "\n",
    "Table 1 shows a frequency distribution of grades on a final examination in\n",
    "college algebra. Find the quartiles of the distribution.\n",
    "\n",
    "| Grade    | Number of Students |\n",
    "|----------|--------------------|\n",
    "| 90-99   | 9                  |\n",
    "| 80-89    | 32                 |\n",
    "| 70-79    | 43                 |\n",
    "| 60-69    | 21                 |\n",
    "| 50-59    | 11                 |\n",
    "| 40-49    | 3                  |\n",
    "| 30-39    | 1                  |\n",
    "|----------|--------------------|\n",
    "| **Total**| **120**            |\n",
    "\n"
   ]
  },
  {
   "cell_type": "code",
   "execution_count": 3,
   "metadata": {},
   "outputs": [
    {
     "data": {
      "text/plain": [
       "{'1st Quartile (Q1)': '60-69',\n",
       " '2nd Quartile (Q2)': '70-79',\n",
       " '3rd Quartile (Q3)': '80-89'}"
      ]
     },
     "execution_count": 3,
     "metadata": {},
     "output_type": "execute_result"
    }
   ],
   "source": [
    "df_1 = pd.DataFrame({\n",
    "    'Grade': ['90-99', '80-89', '70-79', '60-69', '50-59', '40-49', '30-39'],\n",
    "    'NumberOfStudents': [9, 32, 43, 21, 11, 3, 1]\n",
    "})\n",
    "\n",
    "df_sorted = df_1.iloc[::-1].reset_index(drop=True)\n",
    "\n",
    "df_sorted['CumulativeFrequency'] = df_sorted['NumberOfStudents'].cumsum()\n",
    "\n",
    "\n",
    "total_students = df_sorted['NumberOfStudents'].sum()\n",
    "Q1_position = total_students * 0.25\n",
    "Q2_position = total_students * 0.50\n",
    "Q3_position = total_students * 0.75\n",
    "\n",
    "Q1 = df_sorted[df_sorted['CumulativeFrequency'] >= Q1_position].iloc[0]['Grade']\n",
    "Q2 = df_sorted[df_sorted['CumulativeFrequency'] >= Q2_position].iloc[0]['Grade']\n",
    "Q3 = df_sorted[df_sorted['CumulativeFrequency'] >= Q3_position].iloc[0]['Grade']\n",
    "\n",
    "\n",
    "\n",
    "quartiles = {\n",
    "    '1st Quartile (Q1)': Q1,\n",
    "    '2nd Quartile (Q2)': Q2,\n",
    "    '3rd Quartile (Q3)': Q3\n",
    "}\n",
    "\n",
    "quartiles"
   ]
  },
  {
   "cell_type": "markdown",
   "metadata": {},
   "source": [
    "## 2)\n",
    "On a final examination in statistics, the mean grade of a group of 150\n",
    "students was 78 and the standard deviation was 8.0. In algebra, however, the mean final grade of the group was 73 and the standard deviation was 7.6. In which subject was there the greater (a) absolute dispersion and (b) relative dispersion?\n",
    "\n",
    "---\n",
    "\n",
    "### Given\n",
    "\n",
    "$$\n",
    "\\begin{align*}\n",
    "N = 150 \\\\\n",
    "\\mu_{\\text{statistics}} = 78 \\\\\n",
    "\\sigma_{\\text{statistics}} = 8.0 \\\\\n",
    "\\mu_{\\text{algebra}} = 73 \\\\\n",
    "\\sigma_{\\text{algebra}} = 7.6\n",
    "\\end{align*}\n",
    "$$\n",
    "\n",
    "\n",
    "### For absolue dispersion\n",
    "\n",
    "Since stadard deviation is a type of absolute measure of dispersion, we could use them to compare which absolute dispersion is greater.\n",
    "\n",
    "$$\n",
    "\\begin{align*}\n",
    "\\sigma_{\\text{statistics}} = 8.0 \\\\\n",
    "\\sigma_{\\text{algebra}} = 7.6\n",
    "\\end{align*}\n",
    "$$\n",
    "\n",
    "sine $8.0 > 7.6$,  **Statistics class has a greater absolute dispersion**.\n",
    "\n",
    "### For absolue dispersion\n",
    "\n",
    "In our context, relative dispersion is called **Coefficient of Variation (V)** and could be calculated as follows:\n",
    "\n",
    "$$\n",
    "\\text{V}_{\\text{sub}} = \\frac{\\sigma_{\\text{sub}}}{\\overline{X}_{\\text{sub}}}\n",
    "$$\n",
    "\n",
    "This id due to the fact that we were given the standard deviation ($\\sigma$) and average grades ($\\overlie{X}$)\n",
    "\n",
    "Applying this formula:\n",
    "$$\n",
    "\\begin{align*}\n",
    "V_{\\text{statistics}} = \\frac{8.0}{78} \\\\\n",
    "V_{\\text{algebra}} = \\frac{7.6}{73}\n",
    "\\end{align*}\n",
    "$$"
   ]
  },
  {
   "cell_type": "code",
   "execution_count": 5,
   "metadata": {},
   "outputs": [
    {
     "name": "stdout",
     "output_type": "stream",
     "text": [
      "Stats: 0.10256410256410256 \n",
      "Algebra: 0.10410958904109588\n"
     ]
    }
   ],
   "source": [
    "print(f'Stats: {8.0/78} \\nAlgebra: {7.6/73}')"
   ]
  },
  {
   "cell_type": "markdown",
   "metadata": {},
   "source": [
    "$$\n",
    "\\begin{align*}\n",
    "V_{\\text{statistics}} \\approx 0.1026 \\\\\n",
    "V_{\\text{algebra}} \\approx 0.1041\n",
    "\\end{align*}\n",
    "$$\n",
    "\n",
    "or in percentage form.\n",
    "\n",
    "$$\n",
    "\\begin{align*}\n",
    "V_{\\text{statistics}} \\approx 10.26\\% \\\\\n",
    "V_{\\text{algebra}} \\approx 10.41\\%\n",
    "\\end{align*}\n",
    "$$\n",
    "\n",
    "Since $10.41 > 10.26$, **Algebra has greater relative dispersion**."
   ]
  },
  {
   "cell_type": "markdown",
   "metadata": {},
   "source": [
    "## 2)\n",
    "Prove that the mean and standard deviation of a set of standard scores are equal to 0 and 1, respectively. Use the following problem to illustrate this: Convert the set 6, 2, 8, 7, 5 into standard scores.\n",
    "\n",
    "---\n",
    "\n",
    "### Given\n",
    "$$\n",
    "\\begin{align*}\n",
    "N &= 5 \\\\\n",
    "S &= \\{6,2,8,7,5\\}\n",
    "\\end{align*}\n",
    "$$\n",
    "\n",
    "### Calculating mean and standard deviation\n",
    "The formula to be follow is as follows:\n",
    "$$\n",
    "\\begin{align*}\n",
    "\\mu = \\frac{\\sum X}{N} \\\\ \\\\\n",
    "\\sigma = \\sqrt{\\frac{\\sum (X_i - \\mu)^2}{N}}\n",
    "\\end{align*}\n",
    "$$\n",
    "\n",
    "Let us now compute\n",
    "\n",
    "$$\n",
    "\\mu = \\frac{6+2+8+7+5}{5}\n",
    "$$"
   ]
  },
  {
   "cell_type": "code",
   "execution_count": 8,
   "metadata": {},
   "outputs": [
    {
     "data": {
      "text/plain": [
       "5.6"
      ]
     },
     "execution_count": 8,
     "metadata": {},
     "output_type": "execute_result"
    }
   ],
   "source": [
    "given = [6,2,8,7,5]\n",
    "mu = sum(given)/len(given)\n",
    "mu"
   ]
  },
  {
   "cell_type": "markdown",
   "metadata": {},
   "source": [
    "$$\n",
    "\\mu = 5\n",
    "$$\n",
    "\\n\n",
    "$$\n",
    "\\sigma = \\sqrt{\\frac{\\sum (X_i - 5.6)^2}{5}}\n",
    "$$"
   ]
  },
  {
   "cell_type": "code",
   "execution_count": 10,
   "metadata": {},
   "outputs": [
    {
     "data": {
      "text/plain": [
       "2.0591260281974"
      ]
     },
     "execution_count": 10,
     "metadata": {},
     "output_type": "execute_result"
    }
   ],
   "source": [
    "x_i_minus_mu_squared = [(x-mu)**2 for x in given]\n",
    "std = (sum(x_i_minus_mu_squared) / 5)**0.5\n",
    "std"
   ]
  },
  {
   "cell_type": "markdown",
   "metadata": {},
   "source": [
    "$$\n",
    "\\sigma \\approx 2.06\n",
    "$$"
   ]
  },
  {
   "cell_type": "markdown",
   "metadata": {},
   "source": [
    "### Calculating the standard score (Z)\n",
    "\n",
    "$$\n",
    "\\begin{align*}\n",
    "Z = \\frac{X - \\mu}{\\sigma} \\\\\n",
    "Z_1 = \\frac{6 - 5.6}{2.06} \\\\\n",
    "Z_2 = \\frac{2 - 5.6}{2.06} \\\\\n",
    "Z_3 = \\frac{8 - 5.6}{2.06} \\\\\n",
    "Z_4 = \\frac{7 - 5.6}{2.06} \\\\\n",
    "Z_5 = \\frac{5 - 5.6}{2.06}\n",
    "\\end{align*}\n",
    "$$\n",
    "\n"
   ]
  },
  {
   "cell_type": "code",
   "execution_count": 13,
   "metadata": {},
   "outputs": [
    {
     "name": "stdout",
     "output_type": "stream",
     "text": [
      "[0.19425717247145302, -1.7483145522430754, 1.1655430348287172, 0.6799001036500851, -0.2913857587071791]\n",
      "Mean: 1.7763568394002506e-16 \n",
      " Std: 0.9999999999999999\n"
     ]
    }
   ],
   "source": [
    "res = [(x - mu) / std for x in given]\n",
    "print([(x - mu) / std for x in given])\n",
    "\n",
    "print(f'Mean: {sum(res)/len(res)} \\n Std: {np.std(res)}')"
   ]
  },
  {
   "cell_type": "markdown",
   "metadata": {},
   "source": [
    "$$\n",
    "\\begin{align*}\n",
    "Z_1 &\\approx 0.19 \\\\\n",
    "Z_2 &\\approx -1.75 \\\\\n",
    "Z_3 &\\approx 1.17 \\\\\n",
    "Z_4 &\\approx 0.68 \\\\\n",
    "Z_5 &\\approx -0.29\n",
    "\\end{align*}\n",
    "$$\n",
    "\n",
    "### Let us now verify\n",
    "As calculate previously **both the mean and standard deviation of a set of standard socres are equal to 0 and 1**."
   ]
  },
  {
   "cell_type": "code",
   "execution_count": 15,
   "metadata": {},
   "outputs": [
    {
     "data": {
      "text/plain": [
       "-1.1102230246251566e-17"
      ]
     },
     "execution_count": 15,
     "metadata": {},
     "output_type": "execute_result"
    }
   ],
   "source": [
    "(0.19 - 1.75 + 1.17 + 0.68 -0.29)/5"
   ]
  },
  {
   "cell_type": "markdown",
   "metadata": {},
   "source": [
    "## 4)\n",
    "Three masses are measured as 20.48, 35.97, and 62.34 g, with standard deviations of 0.21, 0.46, and 0.54 g, respectively. Find the (a) mean and (b) standard deviation of the sum of the masses.\n",
    "\n",
    "---"
   ]
  },
  {
   "cell_type": "code",
   "execution_count": 42,
   "metadata": {},
   "outputs": [
    {
     "name": "stdout",
     "output_type": "stream",
     "text": [
      "Mean of the sum = 123.79 \n",
      "Standard Deviation of the sum = 0.7397972695272672\n"
     ]
    }
   ],
   "source": [
    "given_mean = [20.48, 35.97, 67.34]\n",
    "given_std = [0.21,0.46,0.54]\n",
    "\n",
    "sum_mean = sum(given_mean)\n",
    "sum_std = sum([x**2 for x in given_std])**0.5\n",
    "print(f'Mean of the sum = {sum_mean} \\nStandard Deviation of the sum = {sum_std}')"
   ]
  },
  {
   "cell_type": "markdown",
   "metadata": {},
   "source": [
    "## 5)\n",
    "The credit hour distribution at Metropolitan Technological College is as\n",
    "follows:\n",
    "\n",
    "| x    | 6   | 9   | 12  | 15  | 18  |\n",
    "|------|-----|-----|-----|-----|-----|\n",
    "| p(x) | 0.1 | 0.2 | 0.4 | 0.2 | 0.1 |\n",
    "\n",
    "Find $\\mu$ and $\\sigma^2$. Give the 25 (with replacement) possible samples of size 2, their means,\r\n",
    "and their probabilities\n",
    "\n",
    "---\n",
    "\n",
    "### Calculating the mean and variance\n",
    "\n",
    "For a probability distribution, we could calculate the mean by:\n",
    "\n",
    "$$\n",
    "\\mu = \\sum (x \\times p(x))\n",
    "$$"
   ]
  },
  {
   "cell_type": "code",
   "execution_count": 48,
   "metadata": {},
   "outputs": [
    {
     "data": {
      "text/plain": [
       "12.0"
      ]
     },
     "execution_count": 48,
     "metadata": {},
     "output_type": "execute_result"
    }
   ],
   "source": [
    "x_given = [6,9,12,15,18]\n",
    "p_x = [0.1,0.2,0.4,0.2,0.1]\n",
    "x_p_x = [x_given[i]*p_x[i] for i in range(len(x_given))]\n",
    "mean_prob = sum(x_p_x)\n",
    "mean_prob"
   ]
  },
  {
   "cell_type": "markdown",
   "metadata": {},
   "source": [
    "$$\n",
    "\\mu = 12\n",
    "$$\n",
    "\n",
    "For variance:\n",
    "\n",
    "$$\n",
    "\\sigma^2 = \\sum((x-\\mu)^2 \\times p(x))\n",
    "$$"
   ]
  },
  {
   "cell_type": "code",
   "execution_count": 50,
   "metadata": {},
   "outputs": [
    {
     "data": {
      "text/plain": [
       "10.8"
      ]
     },
     "execution_count": 50,
     "metadata": {},
     "output_type": "execute_result"
    }
   ],
   "source": [
    "var_prob = sum([((x_given[i] - mean_prob)**2)*p_x[i] for i in range(len(x_given))])\n",
    "var_prob"
   ]
  },
  {
   "cell_type": "markdown",
   "metadata": {},
   "source": [
    "$$\n",
    "\\sigma^2 = 10.8\n",
    "$$"
   ]
  },
  {
   "cell_type": "code",
   "execution_count": 58,
   "metadata": {},
   "outputs": [
    {
     "data": {
      "text/html": [
       "<div>\n",
       "<style scoped>\n",
       "    .dataframe tbody tr th:only-of-type {\n",
       "        vertical-align: middle;\n",
       "    }\n",
       "\n",
       "    .dataframe tbody tr th {\n",
       "        vertical-align: top;\n",
       "    }\n",
       "\n",
       "    .dataframe thead th {\n",
       "        text-align: right;\n",
       "    }\n",
       "</style>\n",
       "<table border=\"1\" class=\"dataframe\">\n",
       "  <thead>\n",
       "    <tr style=\"text-align: right;\">\n",
       "      <th></th>\n",
       "      <th>A</th>\n",
       "      <th>B</th>\n",
       "      <th>x_bar</th>\n",
       "      <th>prob_a</th>\n",
       "      <th>prob_b</th>\n",
       "      <th>pxa_pxb</th>\n",
       "    </tr>\n",
       "  </thead>\n",
       "  <tbody>\n",
       "    <tr>\n",
       "      <th>0</th>\n",
       "      <td>6</td>\n",
       "      <td>6</td>\n",
       "      <td>6.0</td>\n",
       "      <td>0.1</td>\n",
       "      <td>0.1</td>\n",
       "      <td>0.01</td>\n",
       "    </tr>\n",
       "    <tr>\n",
       "      <th>1</th>\n",
       "      <td>6</td>\n",
       "      <td>9</td>\n",
       "      <td>7.5</td>\n",
       "      <td>0.1</td>\n",
       "      <td>0.2</td>\n",
       "      <td>0.02</td>\n",
       "    </tr>\n",
       "    <tr>\n",
       "      <th>2</th>\n",
       "      <td>6</td>\n",
       "      <td>12</td>\n",
       "      <td>9.0</td>\n",
       "      <td>0.1</td>\n",
       "      <td>0.4</td>\n",
       "      <td>0.04</td>\n",
       "    </tr>\n",
       "    <tr>\n",
       "      <th>3</th>\n",
       "      <td>6</td>\n",
       "      <td>15</td>\n",
       "      <td>10.5</td>\n",
       "      <td>0.1</td>\n",
       "      <td>0.2</td>\n",
       "      <td>0.02</td>\n",
       "    </tr>\n",
       "    <tr>\n",
       "      <th>4</th>\n",
       "      <td>6</td>\n",
       "      <td>18</td>\n",
       "      <td>12.0</td>\n",
       "      <td>0.1</td>\n",
       "      <td>0.1</td>\n",
       "      <td>0.01</td>\n",
       "    </tr>\n",
       "    <tr>\n",
       "      <th>5</th>\n",
       "      <td>9</td>\n",
       "      <td>6</td>\n",
       "      <td>7.5</td>\n",
       "      <td>0.2</td>\n",
       "      <td>0.1</td>\n",
       "      <td>0.02</td>\n",
       "    </tr>\n",
       "    <tr>\n",
       "      <th>6</th>\n",
       "      <td>9</td>\n",
       "      <td>9</td>\n",
       "      <td>9.0</td>\n",
       "      <td>0.2</td>\n",
       "      <td>0.2</td>\n",
       "      <td>0.04</td>\n",
       "    </tr>\n",
       "    <tr>\n",
       "      <th>7</th>\n",
       "      <td>9</td>\n",
       "      <td>12</td>\n",
       "      <td>10.5</td>\n",
       "      <td>0.2</td>\n",
       "      <td>0.4</td>\n",
       "      <td>0.08</td>\n",
       "    </tr>\n",
       "    <tr>\n",
       "      <th>8</th>\n",
       "      <td>9</td>\n",
       "      <td>15</td>\n",
       "      <td>12.0</td>\n",
       "      <td>0.2</td>\n",
       "      <td>0.2</td>\n",
       "      <td>0.04</td>\n",
       "    </tr>\n",
       "    <tr>\n",
       "      <th>9</th>\n",
       "      <td>9</td>\n",
       "      <td>18</td>\n",
       "      <td>13.5</td>\n",
       "      <td>0.2</td>\n",
       "      <td>0.1</td>\n",
       "      <td>0.02</td>\n",
       "    </tr>\n",
       "    <tr>\n",
       "      <th>10</th>\n",
       "      <td>12</td>\n",
       "      <td>6</td>\n",
       "      <td>9.0</td>\n",
       "      <td>0.4</td>\n",
       "      <td>0.1</td>\n",
       "      <td>0.04</td>\n",
       "    </tr>\n",
       "    <tr>\n",
       "      <th>11</th>\n",
       "      <td>12</td>\n",
       "      <td>9</td>\n",
       "      <td>10.5</td>\n",
       "      <td>0.4</td>\n",
       "      <td>0.2</td>\n",
       "      <td>0.08</td>\n",
       "    </tr>\n",
       "    <tr>\n",
       "      <th>12</th>\n",
       "      <td>12</td>\n",
       "      <td>12</td>\n",
       "      <td>12.0</td>\n",
       "      <td>0.4</td>\n",
       "      <td>0.4</td>\n",
       "      <td>0.16</td>\n",
       "    </tr>\n",
       "    <tr>\n",
       "      <th>13</th>\n",
       "      <td>12</td>\n",
       "      <td>15</td>\n",
       "      <td>13.5</td>\n",
       "      <td>0.4</td>\n",
       "      <td>0.2</td>\n",
       "      <td>0.08</td>\n",
       "    </tr>\n",
       "    <tr>\n",
       "      <th>14</th>\n",
       "      <td>12</td>\n",
       "      <td>18</td>\n",
       "      <td>15.0</td>\n",
       "      <td>0.4</td>\n",
       "      <td>0.1</td>\n",
       "      <td>0.04</td>\n",
       "    </tr>\n",
       "    <tr>\n",
       "      <th>15</th>\n",
       "      <td>15</td>\n",
       "      <td>6</td>\n",
       "      <td>10.5</td>\n",
       "      <td>0.2</td>\n",
       "      <td>0.1</td>\n",
       "      <td>0.02</td>\n",
       "    </tr>\n",
       "    <tr>\n",
       "      <th>16</th>\n",
       "      <td>15</td>\n",
       "      <td>9</td>\n",
       "      <td>12.0</td>\n",
       "      <td>0.2</td>\n",
       "      <td>0.2</td>\n",
       "      <td>0.04</td>\n",
       "    </tr>\n",
       "    <tr>\n",
       "      <th>17</th>\n",
       "      <td>15</td>\n",
       "      <td>12</td>\n",
       "      <td>13.5</td>\n",
       "      <td>0.2</td>\n",
       "      <td>0.4</td>\n",
       "      <td>0.08</td>\n",
       "    </tr>\n",
       "    <tr>\n",
       "      <th>18</th>\n",
       "      <td>15</td>\n",
       "      <td>15</td>\n",
       "      <td>15.0</td>\n",
       "      <td>0.2</td>\n",
       "      <td>0.2</td>\n",
       "      <td>0.04</td>\n",
       "    </tr>\n",
       "    <tr>\n",
       "      <th>19</th>\n",
       "      <td>15</td>\n",
       "      <td>18</td>\n",
       "      <td>16.5</td>\n",
       "      <td>0.2</td>\n",
       "      <td>0.1</td>\n",
       "      <td>0.02</td>\n",
       "    </tr>\n",
       "    <tr>\n",
       "      <th>20</th>\n",
       "      <td>18</td>\n",
       "      <td>6</td>\n",
       "      <td>12.0</td>\n",
       "      <td>0.1</td>\n",
       "      <td>0.1</td>\n",
       "      <td>0.01</td>\n",
       "    </tr>\n",
       "    <tr>\n",
       "      <th>21</th>\n",
       "      <td>18</td>\n",
       "      <td>9</td>\n",
       "      <td>13.5</td>\n",
       "      <td>0.1</td>\n",
       "      <td>0.2</td>\n",
       "      <td>0.02</td>\n",
       "    </tr>\n",
       "    <tr>\n",
       "      <th>22</th>\n",
       "      <td>18</td>\n",
       "      <td>12</td>\n",
       "      <td>15.0</td>\n",
       "      <td>0.1</td>\n",
       "      <td>0.4</td>\n",
       "      <td>0.04</td>\n",
       "    </tr>\n",
       "    <tr>\n",
       "      <th>23</th>\n",
       "      <td>18</td>\n",
       "      <td>15</td>\n",
       "      <td>16.5</td>\n",
       "      <td>0.1</td>\n",
       "      <td>0.2</td>\n",
       "      <td>0.02</td>\n",
       "    </tr>\n",
       "    <tr>\n",
       "      <th>24</th>\n",
       "      <td>18</td>\n",
       "      <td>18</td>\n",
       "      <td>18.0</td>\n",
       "      <td>0.1</td>\n",
       "      <td>0.1</td>\n",
       "      <td>0.01</td>\n",
       "    </tr>\n",
       "  </tbody>\n",
       "</table>\n",
       "</div>"
      ],
      "text/plain": [
       "     A   B  x_bar  prob_a  prob_b  pxa_pxb\n",
       "0    6   6    6.0     0.1     0.1     0.01\n",
       "1    6   9    7.5     0.1     0.2     0.02\n",
       "2    6  12    9.0     0.1     0.4     0.04\n",
       "3    6  15   10.5     0.1     0.2     0.02\n",
       "4    6  18   12.0     0.1     0.1     0.01\n",
       "5    9   6    7.5     0.2     0.1     0.02\n",
       "6    9   9    9.0     0.2     0.2     0.04\n",
       "7    9  12   10.5     0.2     0.4     0.08\n",
       "8    9  15   12.0     0.2     0.2     0.04\n",
       "9    9  18   13.5     0.2     0.1     0.02\n",
       "10  12   6    9.0     0.4     0.1     0.04\n",
       "11  12   9   10.5     0.4     0.2     0.08\n",
       "12  12  12   12.0     0.4     0.4     0.16\n",
       "13  12  15   13.5     0.4     0.2     0.08\n",
       "14  12  18   15.0     0.4     0.1     0.04\n",
       "15  15   6   10.5     0.2     0.1     0.02\n",
       "16  15   9   12.0     0.2     0.2     0.04\n",
       "17  15  12   13.5     0.2     0.4     0.08\n",
       "18  15  15   15.0     0.2     0.2     0.04\n",
       "19  15  18   16.5     0.2     0.1     0.02\n",
       "20  18   6   12.0     0.1     0.1     0.01\n",
       "21  18   9   13.5     0.1     0.2     0.02\n",
       "22  18  12   15.0     0.1     0.4     0.04\n",
       "23  18  15   16.5     0.1     0.2     0.02\n",
       "24  18  18   18.0     0.1     0.1     0.01"
      ]
     },
     "execution_count": 58,
     "metadata": {},
     "output_type": "execute_result"
    }
   ],
   "source": [
    "def sample_prob(x):\n",
    "    match x:\n",
    "        case 6:\n",
    "            return 0.1\n",
    "        case 9:\n",
    "            return 0.2\n",
    "        case 12:\n",
    "            return 0.4\n",
    "        case 15:\n",
    "            return 0.2\n",
    "        case 18:\n",
    "            return 0.1\n",
    "        case _:\n",
    "            return \"\"\n",
    "        \n",
    "perm = list(itertools.product(x_given, x_given))\n",
    "a = [x[0] for x in perm]\n",
    "b = [x[1] for x in perm]\n",
    "data = {\n",
    "    'A' : a, \n",
    "    'B' : b\n",
    "}\n",
    "df_e = pd.DataFrame(data)\n",
    "df_e['x_bar'] = (df_e['A'] + df_e['B']) / 2\n",
    "df_e['prob_a'] = df_e['A'].apply(sample_prob)\n",
    "df_e['prob_b'] = df_e['B'].apply(sample_prob)\n",
    "df_e['pxa_pxb'] = df_e['prob_a'] * df_e['prob_b']\n",
    "df_e"
   ]
  },
  {
   "cell_type": "markdown",
   "metadata": {},
   "source": [
    "Remember that our earlier mean computation\n",
    "$$\n",
    "\\mu = 12\n",
    "$$\n",
    "\n",
    "Then let's calculate the mean of each our sample size to confirm its validity."
   ]
  },
  {
   "cell_type": "code",
   "execution_count": 54,
   "metadata": {},
   "outputs": [
    {
     "data": {
      "text/plain": [
       "12.0"
      ]
     },
     "execution_count": 54,
     "metadata": {},
     "output_type": "execute_result"
    }
   ],
   "source": [
    "df_e['x_bar'].mean()"
   ]
  }
 ],
 "metadata": {
  "kaggle": {
   "accelerator": "none",
   "dataSources": [],
   "dockerImageVersionId": 30761,
   "isGpuEnabled": false,
   "isInternetEnabled": false,
   "language": "python",
   "sourceType": "notebook"
  },
  "kernelspec": {
   "display_name": "Python 3 (ipykernel)",
   "language": "python",
   "name": "python3"
  },
  "language_info": {
   "codemirror_mode": {
    "name": "ipython",
    "version": 3
   },
   "file_extension": ".py",
   "mimetype": "text/x-python",
   "name": "python",
   "nbconvert_exporter": "python",
   "pygments_lexer": "ipython3",
   "version": "3.12.4"
  }
 },
 "nbformat": 4,
 "nbformat_minor": 4
}
