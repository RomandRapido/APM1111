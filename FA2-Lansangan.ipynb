{
 "cells": [
  {
   "cell_type": "markdown",
   "id": "6142efb2-5aec-4943-81a3-2fbe1b4eebe1",
   "metadata": {},
   "source": [
    "<div style=\"text-align: center;\"> <h3>Statistical Theory</h3>\n",
    "<h5>Formative Assessment 2</h5>\n",
    "<h5><u>By Romand Lansangan</u></h5>\n",
    "    </div>\n",
    "    \n",
    "---"
   ]
  },
  {
   "cell_type": "markdown",
   "id": "13e08960-6109-4aa2-b3a1-1745fe6a1bf7",
   "metadata": {},
   "source": [
    "#### (3.49) Prove that:\n",
    "$$\n",
    "\\sum_{j=1}^N (X_j - 1)^2 = \\sum_{j=1}^N X_j^2 - 2\\sum_{j=1}^N X_j + N\n",
    "$$"
   ]
  },
  {
   "cell_type": "markdown",
   "id": "63a4f27c-d2e8-4680-ae59-ad2aff6b61c7",
   "metadata": {},
   "source": [
    "Proof:\n",
    "\n",
    "<b>Expanding the summand</b> we'll have,\n",
    "\n",
    "$$\n",
    "\\sum_{j=1}^N (X_j - 1)^2 = \\sum_{j=1}^N X_j^2 - 2\\sum_{j=1}^N X_j + \\sum_{j=1}^N 1\n",
    "$$\n",
    "\n",
    "Note that in $ \\sum_{j=1}^N 1 $ we just ought to add 1 Nth times. Therefore,\n",
    "\n",
    "$$\n",
    "\\sum_{j=1}^N (X_j - 1)^2 = \\sum_{j=1}^N X_j^2 - 2\\sum_{j=1}^N X_j + \\sum_{j=1}^N N\n",
    "$$\n",
    "\n",
    "As desired $\\square$"
   ]
  },
  {
   "cell_type": "markdown",
   "id": "c9100c55-70df-4240-8acb-9d60923f0323",
   "metadata": {},
   "source": [
    "---\n",
    "#### (3.51)\n",
    "Two variables, U and V, assume the values $U_t = 3 , U_2 = -2 , U_3 = 5, and V_1 = -4, V_2 = -1 , V_3 = 6$ , respectively. Calculate\n",
    "\n",
    "##### (a)\n",
    "$$\n",
    "\\sum UV\n",
    "$$\n",
    "\n",
    "We could use python to calculate (a)"
   ]
  },
  {
   "cell_type": "code",
   "execution_count": 4,
   "id": "391cbe4a-f0e4-4eca-a2a0-5227a0c86b74",
   "metadata": {},
   "outputs": [],
   "source": [
    "u_n = (3,-2,5)\n",
    "v_n = (-4, -1, 6)"
   ]
  },
  {
   "cell_type": "markdown",
   "id": "e8927ba9-37ac-4e90-8db0-f5d5fc7f6c0d",
   "metadata": {},
   "source": [
    "Let us multiply the each pair for (UV)"
   ]
  },
  {
   "cell_type": "code",
   "execution_count": 6,
   "id": "566a6520-467e-4ae1-b27d-b553ee89b7f3",
   "metadata": {},
   "outputs": [
    {
     "data": {
      "text/plain": [
       "[-12, 2, 30]"
      ]
     },
     "execution_count": 6,
     "metadata": {},
     "output_type": "execute_result"
    }
   ],
   "source": [
    "series_a = [u_n[i] * v_n[i] for i in range(len(u_n))]\n",
    "series_a"
   ]
  },
  {
   "cell_type": "markdown",
   "id": "ae1eaa62-4781-4bc7-b188-904b37c0a29a",
   "metadata": {},
   "source": [
    "Getting the sum of the results,"
   ]
  },
  {
   "cell_type": "code",
   "execution_count": 8,
   "id": "9c5c732e-e516-4275-8c17-38956a5d1a0e",
   "metadata": {},
   "outputs": [
    {
     "data": {
      "text/plain": [
       "20"
      ]
     },
     "execution_count": 8,
     "metadata": {},
     "output_type": "execute_result"
    }
   ],
   "source": [
    "sum(series_a)"
   ]
  },
  {
   "cell_type": "markdown",
   "id": "adf43a64-7b8f-4a44-84c5-eaaffdc5fce5",
   "metadata": {},
   "source": [
    "Therefore,\n",
    "\n",
    "$$\n",
    "\\begin{align*}\n",
    "\\sum UV &= (3 \\times -4) + (-2 \\times -1) + (5 \\times 6) \\\\\n",
    "        &= -12 + 2 + 30 \\\\\n",
    "        &= 20\n",
    "\\end{align*}\n",
    "$$"
   ]
  },
  {
   "cell_type": "markdown",
   "id": "701df7cc-e92d-4a21-b65f-8c31f1c6cc24",
   "metadata": {},
   "source": [
    "\n"
   ]
  },
  {
   "cell_type": "markdown",
   "id": "7df33627-5e52-4e8c-b8db-47359664f950",
   "metadata": {},
   "source": [
    "##### (b)\n",
    "$$\n",
    "\\sum (U+3)(V-4)\n",
    "$$\n",
    "\n",
    "Similarly, we could also use python to compute this"
   ]
  },
  {
   "cell_type": "code",
   "execution_count": 11,
   "id": "f1a806e4-a291-4a97-9f6d-8e98a301ddd0",
   "metadata": {},
   "outputs": [
    {
     "data": {
      "text/plain": [
       "[6, 1, 8]"
      ]
     },
     "execution_count": 11,
     "metadata": {},
     "output_type": "execute_result"
    }
   ],
   "source": [
    "u_n_plus_three = [u + 3 for u in u_n]\n",
    "u_n_plus_three"
   ]
  },
  {
   "cell_type": "code",
   "execution_count": 12,
   "id": "e22df379-57f8-444b-85ae-9882a77cf364",
   "metadata": {},
   "outputs": [
    {
     "data": {
      "text/plain": [
       "[-8, -5, 2]"
      ]
     },
     "execution_count": 12,
     "metadata": {},
     "output_type": "execute_result"
    }
   ],
   "source": [
    "v_n_minus_four = [v - 4 for v in v_n]\n",
    "v_n_minus_four"
   ]
  },
  {
   "cell_type": "markdown",
   "id": "c0f02aa7-9246-429f-8b94-92c377a92d29",
   "metadata": {},
   "source": [
    "Then multiplying the two series or vector,"
   ]
  },
  {
   "cell_type": "code",
   "execution_count": 14,
   "id": "44e460d2-7d3e-46a1-bd2d-00a45dbea3d4",
   "metadata": {},
   "outputs": [
    {
     "data": {
      "text/plain": [
       "[-48, -5, 16]"
      ]
     },
     "execution_count": 14,
     "metadata": {},
     "output_type": "execute_result"
    }
   ],
   "source": [
    "series_b = [u_n_plus_three[i] * v_n_minus_four[i] for i in range(len(u_n_plus_three))]\n",
    "series_b"
   ]
  },
  {
   "cell_type": "code",
   "execution_count": 15,
   "id": "f99a3a7a-7b6e-4828-b002-1e993e75f09e",
   "metadata": {},
   "outputs": [
    {
     "data": {
      "text/plain": [
       "-37"
      ]
     },
     "execution_count": 15,
     "metadata": {},
     "output_type": "execute_result"
    }
   ],
   "source": [
    "sum(series_b)"
   ]
  },
  {
   "cell_type": "markdown",
   "id": "2ca8605a-98d5-425d-a7d7-ef312e908a7f",
   "metadata": {},
   "source": [
    "Therefore,\n",
    "\n",
    "\n",
    "$$\n",
    "\\begin{align*}\n",
    "\\sum (U+3)(V-4) &= (3 + 3)(-4 -4) + (-2 + 3)(-1 - 4) + (5 + 3)(6 - 4) \\\\\n",
    "        &= (6)(-8) + (1)(-5) + (8)(2) \\\\\n",
    "        &= -48 - 5 + 16 \\\\\n",
    "        &= -37\n",
    "\\end{align*}\n",
    "$$"
   ]
  },
  {
   "cell_type": "markdown",
   "id": "7542bb44-eb8e-42dc-bc37-53f4299905ba",
   "metadata": {},
   "source": [
    "\n"
   ]
  },
  {
   "cell_type": "markdown",
   "id": "a3136f49-aee4-49a5-9cf6-5c5c3bc2804d",
   "metadata": {},
   "source": [
    "##### (c)\n",
    "$$\n",
    "\\sum V^2\n",
    "$$"
   ]
  },
  {
   "cell_type": "code",
   "execution_count": 18,
   "id": "65aade3c-43d6-4416-bf3f-5dec51095e8b",
   "metadata": {},
   "outputs": [
    {
     "data": {
      "text/plain": [
       "[16, 1, 36]"
      ]
     },
     "execution_count": 18,
     "metadata": {},
     "output_type": "execute_result"
    }
   ],
   "source": [
    "series_c = [v**2 for v in v_n]\n",
    "series_c"
   ]
  },
  {
   "cell_type": "code",
   "execution_count": 19,
   "id": "67276fd7-3b45-498e-ad79-010b7b924882",
   "metadata": {},
   "outputs": [
    {
     "data": {
      "text/plain": [
       "53"
      ]
     },
     "execution_count": 19,
     "metadata": {},
     "output_type": "execute_result"
    }
   ],
   "source": [
    "sum(series_c)"
   ]
  },
  {
   "cell_type": "markdown",
   "id": "4f12c2be-89a4-46a8-a377-7d27b97a3459",
   "metadata": {},
   "source": [
    "$$\n",
    "\\begin{align*}\n",
    "\\sum V^2 &= (-4)^2 + (-1)^2 + 6^2 \\\\\n",
    "        &= 16 + 1 + 36 \\\\\n",
    "        &= 53\n",
    "\\end{align*}\n",
    "$$"
   ]
  },
  {
   "cell_type": "markdown",
   "id": "de62ced8-0df1-4372-89e2-32f600b2614c",
   "metadata": {},
   "source": [
    "\n"
   ]
  },
  {
   "cell_type": "markdown",
   "id": "1ae823f3-3052-4fff-bc00-62a356b749e0",
   "metadata": {},
   "source": [
    "##### (d)\n",
    "\n",
    "$$\n",
    "(\\sum U ) (\\sum V )^2\n",
    "$$"
   ]
  },
  {
   "cell_type": "code",
   "execution_count": 22,
   "id": "69fc8394-9939-4c2f-bdeb-e4317bd09792",
   "metadata": {},
   "outputs": [
    {
     "data": {
      "text/plain": [
       "6"
      ]
     },
     "execution_count": 22,
     "metadata": {},
     "output_type": "execute_result"
    }
   ],
   "source": [
    "sum_u_n = sum(u_n)\n",
    "sum_u_n"
   ]
  },
  {
   "cell_type": "code",
   "execution_count": 23,
   "id": "5ce3a3dd-b80f-446b-b309-122a44a20daa",
   "metadata": {},
   "outputs": [
    {
     "data": {
      "text/plain": [
       "1"
      ]
     },
     "execution_count": 23,
     "metadata": {},
     "output_type": "execute_result"
    }
   ],
   "source": [
    "sum_v_n = sum(v_n)\n",
    "sum_v_n"
   ]
  },
  {
   "cell_type": "code",
   "execution_count": 24,
   "id": "16277a9b-fe25-4764-9717-6502c784e410",
   "metadata": {},
   "outputs": [
    {
     "data": {
      "text/plain": [
       "6"
      ]
     },
     "execution_count": 24,
     "metadata": {},
     "output_type": "execute_result"
    }
   ],
   "source": [
    "sum_u_n * (sum_v_n**2)"
   ]
  },
  {
   "cell_type": "markdown",
   "id": "b38e8ef9-4b31-4a9f-8ebc-47f1f439f08e",
   "metadata": {},
   "source": [
    "$$\n",
    "\\begin{align*}\n",
    "(\\sum U ) (\\sum V )^2 &= 6 \\times 1^2 \\\\\n",
    "        &= 6\n",
    "\\end{align*}\n",
    "$$"
   ]
  },
  {
   "cell_type": "markdown",
   "id": "fe77f357-d637-4eda-84fb-cd2511a34781",
   "metadata": {},
   "source": [
    "\n"
   ]
  },
  {
   "cell_type": "markdown",
   "id": "ca2d202f-8b7d-4788-8479-50f29efa5b59",
   "metadata": {},
   "source": [
    "##### (e)\n",
    "\n",
    "$$\n",
    "\\sum UV^2\n",
    "$$"
   ]
  },
  {
   "cell_type": "code",
   "execution_count": 27,
   "id": "b4c348e4-00f1-4580-917f-6c3ea66da7b6",
   "metadata": {},
   "outputs": [
    {
     "data": {
      "text/plain": [
       "[48, -2, 180]"
      ]
     },
     "execution_count": 27,
     "metadata": {},
     "output_type": "execute_result"
    }
   ],
   "source": [
    "series_e = [u_n[index] * series_c[index] for index in range(len(u_n))]\n",
    "series_e"
   ]
  },
  {
   "cell_type": "code",
   "execution_count": 28,
   "id": "94eae22c-7b35-4b7c-9808-c868b309ed37",
   "metadata": {},
   "outputs": [
    {
     "data": {
      "text/plain": [
       "226"
      ]
     },
     "execution_count": 28,
     "metadata": {},
     "output_type": "execute_result"
    }
   ],
   "source": [
    "sum(series_e)"
   ]
  },
  {
   "cell_type": "markdown",
   "id": "3cf5d456-b124-4472-a098-796f6baf7411",
   "metadata": {},
   "source": [
    "$$\n",
    "\\begin{align*}\n",
    "\\sum UV^2 &= (3)(-4)^2 + (-2)(-1)^2 + (5)6^2 \\\\\n",
    "        &= 48 - 2 + 180 \\\\\n",
    "        &= 226\n",
    "\\end{align*}\n",
    "$$"
   ]
  },
  {
   "cell_type": "markdown",
   "id": "7b9c0b91-1adc-429d-a920-146ead2f95ed",
   "metadata": {},
   "source": [
    "\n"
   ]
  },
  {
   "cell_type": "markdown",
   "id": "42c2e441-d3f2-4202-95a0-5548c28ee35b",
   "metadata": {},
   "source": [
    "##### (f)\n",
    "\n",
    "$$\n",
    "\\sum (U^2 - 2V^2 + 2)\n",
    "$$"
   ]
  },
  {
   "cell_type": "code",
   "execution_count": 31,
   "id": "1b8cd851-117e-460d-8dc5-a03ee8d361e6",
   "metadata": {},
   "outputs": [
    {
     "data": {
      "text/plain": [
       "[9, 4, 25]"
      ]
     },
     "execution_count": 31,
     "metadata": {},
     "output_type": "execute_result"
    }
   ],
   "source": [
    "u_n_squared = [u**2 for u in u_n]\n",
    "u_n_squared"
   ]
  },
  {
   "cell_type": "code",
   "execution_count": 32,
   "id": "a7c64699-556e-48b4-8aff-8b05b711797b",
   "metadata": {},
   "outputs": [
    {
     "data": {
      "text/plain": [
       "[32, 2, 72]"
      ]
     },
     "execution_count": 32,
     "metadata": {},
     "output_type": "execute_result"
    }
   ],
   "source": [
    "two_v_n_squared = [2*(v**2) for v in v_n]\n",
    "two_v_n_squared"
   ]
  },
  {
   "cell_type": "code",
   "execution_count": 33,
   "id": "1a41a9e6-85ea-4c23-a4e7-5b98ce6558dc",
   "metadata": {},
   "outputs": [
    {
     "data": {
      "text/plain": [
       "[-21, 4, -45]"
      ]
     },
     "execution_count": 33,
     "metadata": {},
     "output_type": "execute_result"
    }
   ],
   "source": [
    "series_f = [u_n_squared[index] - two_v_n_squared[index] + 2 for index in range(len(u_n_squared))]\n",
    "series_f"
   ]
  },
  {
   "cell_type": "code",
   "execution_count": 34,
   "id": "f1260e3a-6fce-48bc-9225-046a6c1931c3",
   "metadata": {},
   "outputs": [
    {
     "data": {
      "text/plain": [
       "-62"
      ]
     },
     "execution_count": 34,
     "metadata": {},
     "output_type": "execute_result"
    }
   ],
   "source": [
    "sum(series_f)"
   ]
  },
  {
   "cell_type": "markdown",
   "id": "591b2fc2-10da-482e-b6e1-8f67b4f5b8c8",
   "metadata": {},
   "source": [
    "$$\n",
    "\\begin{align*}\n",
    "\\sum (U^2 - 2V^2 + 2) &= (3^2 - 2(-4)^2 + 2) + ((-2)^2 - 2(-1)^2 + 2) + (5^2 - 2(6)^2 + 2) \\\\\n",
    "        &= -21 + 4 -45\\\\\n",
    "        &= -62\n",
    "\\end{align*}\n",
    "$$"
   ]
  },
  {
   "cell_type": "markdown",
   "id": "32d2eabf-f8f4-482b-b486-0af601d73394",
   "metadata": {},
   "source": [
    "\n"
   ]
  },
  {
   "cell_type": "markdown",
   "id": "8dfe5029-679f-4eb6-b75e-8ef08297c458",
   "metadata": {},
   "source": [
    "##### (g)\n",
    "$$\n",
    "\\sum (U/V)\n",
    "$$"
   ]
  },
  {
   "cell_type": "code",
   "execution_count": 37,
   "id": "6d3f9fd7-f76b-4cac-b2c1-a1db32addb9d",
   "metadata": {},
   "outputs": [
    {
     "data": {
      "text/plain": [
       "[-0.75, 2.0, 0.8333333333333334]"
      ]
     },
     "execution_count": 37,
     "metadata": {},
     "output_type": "execute_result"
    }
   ],
   "source": [
    "series_g = [u_n[index] / v_n[index] for index in range(len(u_n))]\n",
    "series_g"
   ]
  },
  {
   "cell_type": "code",
   "execution_count": 38,
   "id": "094ec436-e488-4760-b612-77ecc4ff46a8",
   "metadata": {},
   "outputs": [
    {
     "data": {
      "text/plain": [
       "2.0833333333333335"
      ]
     },
     "execution_count": 38,
     "metadata": {},
     "output_type": "execute_result"
    }
   ],
   "source": [
    "sum(series_g)"
   ]
  },
  {
   "cell_type": "markdown",
   "id": "a1a3f752-168a-471b-a1d8-0e820f69d72c",
   "metadata": {},
   "source": [
    "$$\n",
    "\\begin{align*}\n",
    "\\sum (U/V) &= (3/-4) + (-2/-1) + (5/(6) \\\\\n",
    "        &= -0.75 + 2.0 + 0.8\\overline{33}\\\\\n",
    "        &\\approx 2.08\\overline{33}\n",
    "\\end{align*}\n",
    "$$"
   ]
  },
  {
   "cell_type": "markdown",
   "id": "213f42ac-ab0f-479d-b2ae-c6a3ae17fc07",
   "metadata": {},
   "source": [
    "---\n",
    "### (3.90)\n",
    "\n",
    "Find the geometric mean of the sets <b>(a) 3, 5, 8, 3, 7, 2 </b> and <b>(b) 28.5, 73.6, 47.2, 31.5, 64.8</b>."
   ]
  },
  {
   "cell_type": "markdown",
   "id": "297766b0-1bc8-40f5-b472-59758fb95681",
   "metadata": {},
   "source": [
    "##### (a)\n",
    "\n",
    "Given {3,5,8,3,7,2}\n",
    "\n",
    "The geometric mean $G$ of a set of $N$ numbers $ X_1,X_2,X_3...X_N $ is defined as:\n",
    "\n",
    "$$\n",
    "G = \\sqrt[N]{X_1X_2X_3...X_N}\n",
    "$$\n"
   ]
  },
  {
   "cell_type": "markdown",
   "id": "13d3bdb3-32c2-4b92-981f-bd81e847e56f",
   "metadata": {},
   "source": [
    "Using the given set, we'll have:\n",
    "\n",
    "$$\n",
    "G_a = \\sqrt[6]{3 \\times 5\\times 8\\times 3\\times 7\\times 2}\n",
    "$$"
   ]
  },
  {
   "cell_type": "code",
   "execution_count": 43,
   "id": "4cd3b7b8-21ef-4f6a-99f4-e559d2fd57e7",
   "metadata": {},
   "outputs": [
    {
     "data": {
      "text/plain": [
       "5040"
      ]
     },
     "execution_count": 43,
     "metadata": {},
     "output_type": "execute_result"
    }
   ],
   "source": [
    "radicand_a = 3*5*8*3*7*2\n",
    "radicand_a"
   ]
  },
  {
   "cell_type": "code",
   "execution_count": 44,
   "id": "312668ca-d4b2-40a9-9e46-f08aee45ce45",
   "metadata": {},
   "outputs": [
    {
     "data": {
      "text/plain": [
       "4.140680833465288"
      ]
     },
     "execution_count": 44,
     "metadata": {},
     "output_type": "execute_result"
    }
   ],
   "source": [
    "radicand_a**(1/6)"
   ]
  },
  {
   "cell_type": "markdown",
   "id": "45ed75e3-52bd-4560-a81e-4e110b864767",
   "metadata": {},
   "source": [
    "$$\n",
    "\\begin{align*}\n",
    "G_a &= \\sqrt[6]{3 \\times 5\\times 8\\times 3\\times 7\\times 2} \\\\\n",
    "    &= \\sqrt[6]{5040}\\\\\n",
    "    &\\approx 4.14\n",
    "\\end{align*}\n",
    "$$"
   ]
  },
  {
   "cell_type": "markdown",
   "id": "ec0f130e-9f11-406f-bd08-5f35898c8732",
   "metadata": {},
   "source": [
    "\n"
   ]
  },
  {
   "cell_type": "markdown",
   "id": "3138d05e-e6d7-4d86-98f0-343b01cd4f1a",
   "metadata": {},
   "source": [
    "##### (b)\n",
    "\n",
    "Given {28.5, 73.6, 47.2, 31.5, 64.8}\n",
    "\n",
    "$$\n",
    "G_b  = \\sqrt[5]{28.5\\times 73.6 \\times 47.2 \\times 31.5 \\times 64.8}\n",
    "$$"
   ]
  },
  {
   "cell_type": "code",
   "execution_count": 76,
   "id": "f8fdf81f-30e6-4bf0-856b-98c3097597ff",
   "metadata": {},
   "outputs": [
    {
     "data": {
      "text/plain": [
       "202092516.864"
      ]
     },
     "execution_count": 76,
     "metadata": {},
     "output_type": "execute_result"
    }
   ],
   "source": [
    "radicand_b = 28.5*73.6*47.2*31.5*64.8\n",
    "radicand_b"
   ]
  },
  {
   "cell_type": "code",
   "execution_count": 78,
   "id": "3f05b2ee-6fc6-40cb-aa17-ca3bf3368f3f",
   "metadata": {},
   "outputs": [
    {
     "data": {
      "text/plain": [
       "45.82579906814073"
      ]
     },
     "execution_count": 78,
     "metadata": {},
     "output_type": "execute_result"
    }
   ],
   "source": [
    "radicand_b**(1/5)"
   ]
  },
  {
   "cell_type": "markdown",
   "id": "d0a7209e-a9fe-40dd-9041-b80c761220cb",
   "metadata": {},
   "source": [
    "$$\n",
    "\\begin{align*}\n",
    "G_a &= \\sqrt[6]{28.5\\times 73.6 \\times 47.2 \\times 31.5 \\times 64.8} \\\\\n",
    "    &= \\sqrt[6]{202092516.864}\\\\\n",
    "    &\\approx 45.83\n",
    "\\end{align*}\n",
    "$$"
   ]
  }
 ],
 "metadata": {
  "kernelspec": {
   "display_name": "Python 3 (ipykernel)",
   "language": "python",
   "name": "python3"
  },
  "language_info": {
   "codemirror_mode": {
    "name": "ipython",
    "version": 3
   },
   "file_extension": ".py",
   "mimetype": "text/x-python",
   "name": "python",
   "nbconvert_exporter": "python",
   "pygments_lexer": "ipython3",
   "version": "3.12.4"
  }
 },
 "nbformat": 4,
 "nbformat_minor": 5
}
