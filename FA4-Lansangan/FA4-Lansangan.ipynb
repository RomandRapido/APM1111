{
 "cells": [
  {
   "cell_type": "markdown",
   "metadata": {},
   "source": [
    "<div style=\"text-align: center;\"> <h3>Statistical Theory</h3>\n",
    "<h5>Formative Assessment 4</h5>\n",
    "<h5><u>By Romand Lansangan</u></h5>\n",
    "    </div>\n",
    "    \n",
    "---"
   ]
  },
  {
   "cell_type": "markdown",
   "metadata": {},
   "source": [
    "#### Instruction:\n",
    "The data in Table 5.1 samples of size 50 from a normal distribution, a skewed-right distribution, a skewed-left distribution, and a uniform distribution.\n",
    "\n",
    "The normal data are female height measurements, the skewed-right data are age at marriage for females, the skewed-left data are obituary data that give the age at death for females, and the uniform data are the amount of cola put into a 12 ounce container by a soft drinks machine.\n",
    "\n",
    "![](https://github.com/RomandRapido/APM1111/blob/main/FA4-Lansangan/Table%205.1.jpg?raw=true)\n",
    "\n",
    "Compute the following using R or Python.\n"
   ]
  },
  {
   "cell_type": "markdown",
   "metadata": {},
   "source": [
    "#### 1) \n",
    "Find the (a) first, (b) second, (c) third, and (d ) fourth moments <b>for each of the sets of data (normal, skewed-right, skewed-left, uniform)</b>."
   ]
  },
  {
   "cell_type": "markdown",
   "metadata": {},
   "source": [
    "First and foremost, let us create a function for calculating moments. \n",
    "\n",
    "If $X_1, X_2, . . . ,X_N$ are the N values assumed by the variable X, we defined the rth moment as\n",
    "\n",
    "$$\n",
    "\\overline{X^r} = \\frac{X^r_1 + X^r_2 ... + X^r_N}{N}  = \\frac{\\sum^N_{j=1}X^r_j}{N} = \\frac{\\sum X^r}{N}\n",
    "$$\n",
    "\n",
    "where r is the moment (i.e. for first moment r = 1, for second r = 2, etc.) \n",
    "\n",
    "The rth moment about any origin A is defined as\n",
    "\n",
    "$$\n",
    "m'_r = \\frac{\\sum^N_{k=1}(X_j - A)^r}{N} = \\frac{\\sum (X - A)^r}{N} = \\overline{(X-A)^r}\n",
    "$$\n",
    "\n",
    "So basically, it's the mean of the centered data around a specific value (A) raised to r, which is the moment.\n",
    "\n",
    "Thus, we'll have the following function to compute the moments"
   ]
  },
  {
   "cell_type": "code",
   "execution_count": 5,
   "metadata": {
    "_cell_guid": "b1076dfc-b9ad-4769-8c92-a6c4dae69d19",
    "_uuid": "8f2839f25d086af736a60e9eeb907d3b93b6e0e5"
   },
   "outputs": [],
   "source": [
    "import pandas as pd"
   ]
  },
  {
   "cell_type": "code",
   "execution_count": 6,
   "metadata": {},
   "outputs": [],
   "source": [
    "def moments_calculator(df):\n",
    "    first_moment = df.mean()\n",
    "    second_moment = df.apply(lambda x: x**2).mean()\n",
    "    third_moment = df.apply(lambda x: x**3).mean()\n",
    "    fourth_moment = df.apply(lambda x: x**4).mean()\n",
    "    return {\n",
    "       'first_moment' : first_moment,\n",
    "        'second_moment' : second_moment,\n",
    "        'third_moment' : third_moment,\n",
    "        'fourth_moment' : fourth_moment\n",
    "    }"
   ]
  },
  {
   "cell_type": "markdown",
   "metadata": {},
   "source": [
    "For a more presentable printing of the data, let us also create function for printing"
   ]
  },
  {
   "cell_type": "code",
   "execution_count": 8,
   "metadata": {},
   "outputs": [],
   "source": [
    "def pretty_print(moments, title):\n",
    "    print(title)\n",
    "    for moment, series in moments.items():\n",
    "        print(f\"    {moment}:\")\n",
    "        series_str = series.to_string().replace(\"\\n\", \"\\n        \")\n",
    "        print(f\"        {series_str}\")"
   ]
  },
  {
   "cell_type": "markdown",
   "metadata": {},
   "source": [
    "Now let us proceed to importing the data, I have created a csv file corresponding the data given ([Click Here to view file](https://github.com/RomandRapido/APM1111/blob/main/FA4-Lansangan/FA4_Stats.csv))"
   ]
  },
  {
   "cell_type": "code",
   "execution_count": 10,
   "metadata": {},
   "outputs": [
    {
     "data": {
      "text/html": [
       "<div>\n",
       "<style scoped>\n",
       "    .dataframe tbody tr th:only-of-type {\n",
       "        vertical-align: middle;\n",
       "    }\n",
       "\n",
       "    .dataframe tbody tr th {\n",
       "        vertical-align: top;\n",
       "    }\n",
       "\n",
       "    .dataframe thead th {\n",
       "        text-align: right;\n",
       "    }\n",
       "</style>\n",
       "<table border=\"1\" class=\"dataframe\">\n",
       "  <thead>\n",
       "    <tr style=\"text-align: right;\">\n",
       "      <th></th>\n",
       "      <th>Normal</th>\n",
       "      <th>Skewed-right</th>\n",
       "      <th>Skewed-left</th>\n",
       "      <th>Uniform</th>\n",
       "    </tr>\n",
       "  </thead>\n",
       "  <tbody>\n",
       "    <tr>\n",
       "      <th>0</th>\n",
       "      <td>67</td>\n",
       "      <td>31</td>\n",
       "      <td>102</td>\n",
       "      <td>12.1</td>\n",
       "    </tr>\n",
       "    <tr>\n",
       "      <th>1</th>\n",
       "      <td>70</td>\n",
       "      <td>43</td>\n",
       "      <td>55</td>\n",
       "      <td>12.1</td>\n",
       "    </tr>\n",
       "    <tr>\n",
       "      <th>2</th>\n",
       "      <td>63</td>\n",
       "      <td>30</td>\n",
       "      <td>70</td>\n",
       "      <td>12.4</td>\n",
       "    </tr>\n",
       "    <tr>\n",
       "      <th>3</th>\n",
       "      <td>65</td>\n",
       "      <td>30</td>\n",
       "      <td>95</td>\n",
       "      <td>12.1</td>\n",
       "    </tr>\n",
       "    <tr>\n",
       "      <th>4</th>\n",
       "      <td>68</td>\n",
       "      <td>38</td>\n",
       "      <td>73</td>\n",
       "      <td>12.1</td>\n",
       "    </tr>\n",
       "    <tr>\n",
       "      <th>5</th>\n",
       "      <td>60</td>\n",
       "      <td>26</td>\n",
       "      <td>79</td>\n",
       "      <td>12.2</td>\n",
       "    </tr>\n",
       "    <tr>\n",
       "      <th>6</th>\n",
       "      <td>70</td>\n",
       "      <td>29</td>\n",
       "      <td>60</td>\n",
       "      <td>12.2</td>\n",
       "    </tr>\n",
       "    <tr>\n",
       "      <th>7</th>\n",
       "      <td>64</td>\n",
       "      <td>55</td>\n",
       "      <td>73</td>\n",
       "      <td>12.2</td>\n",
       "    </tr>\n",
       "    <tr>\n",
       "      <th>8</th>\n",
       "      <td>69</td>\n",
       "      <td>46</td>\n",
       "      <td>89</td>\n",
       "      <td>11.9</td>\n",
       "    </tr>\n",
       "    <tr>\n",
       "      <th>9</th>\n",
       "      <td>61</td>\n",
       "      <td>26</td>\n",
       "      <td>85</td>\n",
       "      <td>12.2</td>\n",
       "    </tr>\n",
       "  </tbody>\n",
       "</table>\n",
       "</div>"
      ],
      "text/plain": [
       "   Normal  Skewed-right  Skewed-left  Uniform\n",
       "0      67            31          102     12.1\n",
       "1      70            43           55     12.1\n",
       "2      63            30           70     12.4\n",
       "3      65            30           95     12.1\n",
       "4      68            38           73     12.1\n",
       "5      60            26           79     12.2\n",
       "6      70            29           60     12.2\n",
       "7      64            55           73     12.2\n",
       "8      69            46           89     11.9\n",
       "9      61            26           85     12.2"
      ]
     },
     "execution_count": 10,
     "metadata": {},
     "output_type": "execute_result"
    }
   ],
   "source": [
    "df_raw = pd.read_csv('FA4_Stats.csv')\n",
    "df_raw.head(10)"
   ]
  },
  {
   "cell_type": "code",
   "execution_count": 11,
   "metadata": {},
   "outputs": [
    {
     "data": {
      "text/html": [
       "<div>\n",
       "<style scoped>\n",
       "    .dataframe tbody tr th:only-of-type {\n",
       "        vertical-align: middle;\n",
       "    }\n",
       "\n",
       "    .dataframe tbody tr th {\n",
       "        vertical-align: top;\n",
       "    }\n",
       "\n",
       "    .dataframe thead th {\n",
       "        text-align: right;\n",
       "    }\n",
       "</style>\n",
       "<table border=\"1\" class=\"dataframe\">\n",
       "  <thead>\n",
       "    <tr style=\"text-align: right;\">\n",
       "      <th></th>\n",
       "      <th>Normal</th>\n",
       "      <th>Skewed-right</th>\n",
       "      <th>Skewed-left</th>\n",
       "      <th>Uniform</th>\n",
       "    </tr>\n",
       "  </thead>\n",
       "  <tbody>\n",
       "    <tr>\n",
       "      <th>count</th>\n",
       "      <td>50.000000</td>\n",
       "      <td>50.000000</td>\n",
       "      <td>50.000000</td>\n",
       "      <td>50.000000</td>\n",
       "    </tr>\n",
       "    <tr>\n",
       "      <th>mean</th>\n",
       "      <td>65.120000</td>\n",
       "      <td>35.480000</td>\n",
       "      <td>74.200000</td>\n",
       "      <td>12.056000</td>\n",
       "    </tr>\n",
       "    <tr>\n",
       "      <th>std</th>\n",
       "      <td>2.911203</td>\n",
       "      <td>13.510752</td>\n",
       "      <td>20.696051</td>\n",
       "      <td>0.283678</td>\n",
       "    </tr>\n",
       "    <tr>\n",
       "      <th>min</th>\n",
       "      <td>59.000000</td>\n",
       "      <td>19.000000</td>\n",
       "      <td>10.000000</td>\n",
       "      <td>11.600000</td>\n",
       "    </tr>\n",
       "    <tr>\n",
       "      <th>25%</th>\n",
       "      <td>63.000000</td>\n",
       "      <td>27.250000</td>\n",
       "      <td>70.000000</td>\n",
       "      <td>11.800000</td>\n",
       "    </tr>\n",
       "    <tr>\n",
       "      <th>50%</th>\n",
       "      <td>65.000000</td>\n",
       "      <td>32.000000</td>\n",
       "      <td>77.000000</td>\n",
       "      <td>12.050000</td>\n",
       "    </tr>\n",
       "    <tr>\n",
       "      <th>75%</th>\n",
       "      <td>67.000000</td>\n",
       "      <td>38.000000</td>\n",
       "      <td>88.500000</td>\n",
       "      <td>12.300000</td>\n",
       "    </tr>\n",
       "    <tr>\n",
       "      <th>max</th>\n",
       "      <td>71.000000</td>\n",
       "      <td>85.000000</td>\n",
       "      <td>104.000000</td>\n",
       "      <td>12.500000</td>\n",
       "    </tr>\n",
       "  </tbody>\n",
       "</table>\n",
       "</div>"
      ],
      "text/plain": [
       "          Normal  Skewed-right  Skewed-left    Uniform\n",
       "count  50.000000     50.000000    50.000000  50.000000\n",
       "mean   65.120000     35.480000    74.200000  12.056000\n",
       "std     2.911203     13.510752    20.696051   0.283678\n",
       "min    59.000000     19.000000    10.000000  11.600000\n",
       "25%    63.000000     27.250000    70.000000  11.800000\n",
       "50%    65.000000     32.000000    77.000000  12.050000\n",
       "75%    67.000000     38.000000    88.500000  12.300000\n",
       "max    71.000000     85.000000   104.000000  12.500000"
      ]
     },
     "execution_count": 11,
     "metadata": {},
     "output_type": "execute_result"
    }
   ],
   "source": [
    "df_raw.describe()"
   ]
  },
  {
   "cell_type": "markdown",
   "metadata": {},
   "source": [
    "The item one just asked us to find the moments of raw data so no shifting is needed.\n",
    "\n",
    "Calculating the <b>moments of raw data </b>"
   ]
  },
  {
   "cell_type": "code",
   "execution_count": 13,
   "metadata": {},
   "outputs": [
    {
     "name": "stdout",
     "output_type": "stream",
     "text": [
      "Moments Raw\n",
      "    first_moment:\n",
      "        Normal          65.120\n",
      "        Skewed-right    35.480\n",
      "        Skewed-left     74.200\n",
      "        Uniform         12.056\n",
      "    second_moment:\n",
      "        Normal          4248.920\n",
      "        Skewed-right    1437.720\n",
      "        Skewed-left     5925.400\n",
      "        Uniform          145.426\n",
      "    third_moment:\n",
      "        Normal          277770.92000\n",
      "        Skewed-right     68292.44000\n",
      "        Skewed-left     489458.80000\n",
      "        Uniform           1755.15776\n",
      "    fourth_moment:\n",
      "        Normal          1.819417e+07\n",
      "        Skewed-right    3.797594e+06\n",
      "        Skewed-left     4.139616e+07\n",
      "        Uniform         2.119459e+04\n"
     ]
    }
   ],
   "source": [
    "moments_raw = moments_calculator(df_raw)\n",
    "pretty_print(moments_raw, \"Moments Raw\")"
   ]
  },
  {
   "cell_type": "markdown",
   "metadata": {},
   "source": [
    "---\n",
    "\n",
    "#### 2) \n",
    "Find the (a) first, (b) second, (c) third, and (d ) fourth moments <b> about the mean </b> for each of the sets of data (normal, skewed-right, skewed-left, uniform).\n",
    "\n",
    "Let us get the mean of each column first then shift the raw data to be centered around their corresponding mean."
   ]
  },
  {
   "cell_type": "code",
   "execution_count": 15,
   "metadata": {
    "scrolled": true
   },
   "outputs": [
    {
     "data": {
      "text/html": [
       "<div>\n",
       "<style scoped>\n",
       "    .dataframe tbody tr th:only-of-type {\n",
       "        vertical-align: middle;\n",
       "    }\n",
       "\n",
       "    .dataframe tbody tr th {\n",
       "        vertical-align: top;\n",
       "    }\n",
       "\n",
       "    .dataframe thead th {\n",
       "        text-align: right;\n",
       "    }\n",
       "</style>\n",
       "<table border=\"1\" class=\"dataframe\">\n",
       "  <thead>\n",
       "    <tr style=\"text-align: right;\">\n",
       "      <th></th>\n",
       "      <th>Normal</th>\n",
       "      <th>Skewed-right</th>\n",
       "      <th>Skewed-left</th>\n",
       "      <th>Uniform</th>\n",
       "    </tr>\n",
       "  </thead>\n",
       "  <tbody>\n",
       "    <tr>\n",
       "      <th>0</th>\n",
       "      <td>1.88</td>\n",
       "      <td>-4.48</td>\n",
       "      <td>27.8</td>\n",
       "      <td>0.044</td>\n",
       "    </tr>\n",
       "    <tr>\n",
       "      <th>1</th>\n",
       "      <td>4.88</td>\n",
       "      <td>7.52</td>\n",
       "      <td>-19.2</td>\n",
       "      <td>0.044</td>\n",
       "    </tr>\n",
       "    <tr>\n",
       "      <th>2</th>\n",
       "      <td>-2.12</td>\n",
       "      <td>-5.48</td>\n",
       "      <td>-4.2</td>\n",
       "      <td>0.344</td>\n",
       "    </tr>\n",
       "    <tr>\n",
       "      <th>3</th>\n",
       "      <td>-0.12</td>\n",
       "      <td>-5.48</td>\n",
       "      <td>20.8</td>\n",
       "      <td>0.044</td>\n",
       "    </tr>\n",
       "    <tr>\n",
       "      <th>4</th>\n",
       "      <td>2.88</td>\n",
       "      <td>2.52</td>\n",
       "      <td>-1.2</td>\n",
       "      <td>0.044</td>\n",
       "    </tr>\n",
       "    <tr>\n",
       "      <th>5</th>\n",
       "      <td>-5.12</td>\n",
       "      <td>-9.48</td>\n",
       "      <td>4.8</td>\n",
       "      <td>0.144</td>\n",
       "    </tr>\n",
       "    <tr>\n",
       "      <th>6</th>\n",
       "      <td>4.88</td>\n",
       "      <td>-6.48</td>\n",
       "      <td>-14.2</td>\n",
       "      <td>0.144</td>\n",
       "    </tr>\n",
       "    <tr>\n",
       "      <th>7</th>\n",
       "      <td>-1.12</td>\n",
       "      <td>19.52</td>\n",
       "      <td>-1.2</td>\n",
       "      <td>0.144</td>\n",
       "    </tr>\n",
       "    <tr>\n",
       "      <th>8</th>\n",
       "      <td>3.88</td>\n",
       "      <td>10.52</td>\n",
       "      <td>14.8</td>\n",
       "      <td>-0.156</td>\n",
       "    </tr>\n",
       "    <tr>\n",
       "      <th>9</th>\n",
       "      <td>-4.12</td>\n",
       "      <td>-9.48</td>\n",
       "      <td>10.8</td>\n",
       "      <td>0.144</td>\n",
       "    </tr>\n",
       "  </tbody>\n",
       "</table>\n",
       "</div>"
      ],
      "text/plain": [
       "   Normal  Skewed-right  Skewed-left  Uniform\n",
       "0    1.88         -4.48         27.8    0.044\n",
       "1    4.88          7.52        -19.2    0.044\n",
       "2   -2.12         -5.48         -4.2    0.344\n",
       "3   -0.12         -5.48         20.8    0.044\n",
       "4    2.88          2.52         -1.2    0.044\n",
       "5   -5.12         -9.48          4.8    0.144\n",
       "6    4.88         -6.48        -14.2    0.144\n",
       "7   -1.12         19.52         -1.2    0.144\n",
       "8    3.88         10.52         14.8   -0.156\n",
       "9   -4.12         -9.48         10.8    0.144"
      ]
     },
     "execution_count": 15,
     "metadata": {},
     "output_type": "execute_result"
    }
   ],
   "source": [
    "df_about_mean = pd.DataFrame()\n",
    "\n",
    "mean_normal_column = df_raw['Normal'].mean()\n",
    "df_about_mean['Normal'] = df_raw['Normal'] - mean_normal_column\n",
    "\n",
    "mean_skwright_column = df_raw['Skewed-right'].mean()\n",
    "df_about_mean['Skewed-right'] = df_raw['Skewed-right'] - mean_skwright_column\n",
    "\n",
    "mean_skwleft_column = df_raw['Skewed-left'].mean()\n",
    "df_about_mean['Skewed-left'] = df_raw['Skewed-left'] - mean_skwleft_column\n",
    "\n",
    "mean_uniform_column = df_raw['Uniform'].mean()\n",
    "df_about_mean['Uniform'] = df_raw['Uniform'] - mean_uniform_column\n",
    "\n",
    "df_about_mean.head(10)"
   ]
  },
  {
   "cell_type": "code",
   "execution_count": 48,
   "metadata": {},
   "outputs": [
    {
     "data": {
      "text/html": [
       "<div>\n",
       "<style scoped>\n",
       "    .dataframe tbody tr th:only-of-type {\n",
       "        vertical-align: middle;\n",
       "    }\n",
       "\n",
       "    .dataframe tbody tr th {\n",
       "        vertical-align: top;\n",
       "    }\n",
       "\n",
       "    .dataframe thead th {\n",
       "        text-align: right;\n",
       "    }\n",
       "</style>\n",
       "<table border=\"1\" class=\"dataframe\">\n",
       "  <thead>\n",
       "    <tr style=\"text-align: right;\">\n",
       "      <th></th>\n",
       "      <th>Normal</th>\n",
       "      <th>Skewed-right</th>\n",
       "      <th>Skewed-left</th>\n",
       "      <th>Uniform</th>\n",
       "    </tr>\n",
       "  </thead>\n",
       "  <tbody>\n",
       "    <tr>\n",
       "      <th>count</th>\n",
       "      <td>5.000000e+01</td>\n",
       "      <td>5.000000e+01</td>\n",
       "      <td>5.000000e+01</td>\n",
       "      <td>5.000000e+01</td>\n",
       "    </tr>\n",
       "    <tr>\n",
       "      <th>mean</th>\n",
       "      <td>-4.547474e-15</td>\n",
       "      <td>3.410605e-15</td>\n",
       "      <td>-2.842171e-15</td>\n",
       "      <td>-9.237056e-16</td>\n",
       "    </tr>\n",
       "    <tr>\n",
       "      <th>std</th>\n",
       "      <td>2.911203e+00</td>\n",
       "      <td>1.351075e+01</td>\n",
       "      <td>2.069605e+01</td>\n",
       "      <td>2.836785e-01</td>\n",
       "    </tr>\n",
       "    <tr>\n",
       "      <th>min</th>\n",
       "      <td>-6.120000e+00</td>\n",
       "      <td>-1.648000e+01</td>\n",
       "      <td>-6.420000e+01</td>\n",
       "      <td>-4.560000e-01</td>\n",
       "    </tr>\n",
       "    <tr>\n",
       "      <th>25%</th>\n",
       "      <td>-2.120000e+00</td>\n",
       "      <td>-8.230000e+00</td>\n",
       "      <td>-4.200000e+00</td>\n",
       "      <td>-2.560000e-01</td>\n",
       "    </tr>\n",
       "    <tr>\n",
       "      <th>50%</th>\n",
       "      <td>-1.200000e-01</td>\n",
       "      <td>-3.480000e+00</td>\n",
       "      <td>2.800000e+00</td>\n",
       "      <td>-6.000000e-03</td>\n",
       "    </tr>\n",
       "    <tr>\n",
       "      <th>75%</th>\n",
       "      <td>1.880000e+00</td>\n",
       "      <td>2.520000e+00</td>\n",
       "      <td>1.430000e+01</td>\n",
       "      <td>2.440000e-01</td>\n",
       "    </tr>\n",
       "    <tr>\n",
       "      <th>max</th>\n",
       "      <td>5.880000e+00</td>\n",
       "      <td>4.952000e+01</td>\n",
       "      <td>2.980000e+01</td>\n",
       "      <td>4.440000e-01</td>\n",
       "    </tr>\n",
       "  </tbody>\n",
       "</table>\n",
       "</div>"
      ],
      "text/plain": [
       "             Normal  Skewed-right   Skewed-left       Uniform\n",
       "count  5.000000e+01  5.000000e+01  5.000000e+01  5.000000e+01\n",
       "mean  -4.547474e-15  3.410605e-15 -2.842171e-15 -9.237056e-16\n",
       "std    2.911203e+00  1.351075e+01  2.069605e+01  2.836785e-01\n",
       "min   -6.120000e+00 -1.648000e+01 -6.420000e+01 -4.560000e-01\n",
       "25%   -2.120000e+00 -8.230000e+00 -4.200000e+00 -2.560000e-01\n",
       "50%   -1.200000e-01 -3.480000e+00  2.800000e+00 -6.000000e-03\n",
       "75%    1.880000e+00  2.520000e+00  1.430000e+01  2.440000e-01\n",
       "max    5.880000e+00  4.952000e+01  2.980000e+01  4.440000e-01"
      ]
     },
     "execution_count": 48,
     "metadata": {},
     "output_type": "execute_result"
    }
   ],
   "source": [
    "df_about_mean.describe()"
   ]
  },
  {
   "cell_type": "markdown",
   "metadata": {},
   "source": [
    "Notice that the mean is essentially 0. That is perfectly normal and a further proof that the data has been indeed mean-centered."
   ]
  },
  {
   "cell_type": "markdown",
   "metadata": {},
   "source": [
    "Calculating the <b>moments about the mean</b>"
   ]
  },
  {
   "cell_type": "code",
   "execution_count": 17,
   "metadata": {},
   "outputs": [
    {
     "name": "stdout",
     "output_type": "stream",
     "text": [
      "Moments about the Mean\n",
      "    first_moment:\n",
      "        Normal         -4.547474e-15\n",
      "        Skewed-right    3.410605e-15\n",
      "        Skewed-left    -2.842171e-15\n",
      "        Uniform        -9.237056e-16\n",
      "    second_moment:\n",
      "        Normal            8.305600\n",
      "        Skewed-right    178.889600\n",
      "        Skewed-left     419.760000\n",
      "        Uniform           0.078864\n",
      "    third_moment:\n",
      "        Normal             -0.471744\n",
      "        Skewed-right     4588.128384\n",
      "        Skewed-left    -12498.264000\n",
      "        Uniform             0.000335\n",
      "    fourth_moment:\n",
      "        Normal             160.948626\n",
      "        Skewed-right    210642.883436\n",
      "        Skewed-left     927289.747200\n",
      "        Uniform              0.011251\n"
     ]
    }
   ],
   "source": [
    "moments_about_mean = moments_calculator(df_about_mean)\n",
    "pretty_print(moments_about_mean, 'Moments about the Mean')"
   ]
  },
  {
   "cell_type": "markdown",
   "metadata": {},
   "source": [
    "---\n",
    "\n",
    "#### 3)\n",
    "\n",
    "Find the (a) first, (b) second, (c) third, and (d ) fourth moments <b>about the number 75 for the set of female height measurements</b>.\n",
    "\n",
    "The female height measurements can be found under the Normal column of the original data.\n",
    "\n",
    "Shifting the raw data to be centered around the number 75."
   ]
  },
  {
   "cell_type": "code",
   "execution_count": 19,
   "metadata": {
    "scrolled": true
   },
   "outputs": [
    {
     "data": {
      "text/html": [
       "<div>\n",
       "<style scoped>\n",
       "    .dataframe tbody tr th:only-of-type {\n",
       "        vertical-align: middle;\n",
       "    }\n",
       "\n",
       "    .dataframe tbody tr th {\n",
       "        vertical-align: top;\n",
       "    }\n",
       "\n",
       "    .dataframe thead th {\n",
       "        text-align: right;\n",
       "    }\n",
       "</style>\n",
       "<table border=\"1\" class=\"dataframe\">\n",
       "  <thead>\n",
       "    <tr style=\"text-align: right;\">\n",
       "      <th></th>\n",
       "      <th>Normal</th>\n",
       "    </tr>\n",
       "  </thead>\n",
       "  <tbody>\n",
       "    <tr>\n",
       "      <th>0</th>\n",
       "      <td>-8</td>\n",
       "    </tr>\n",
       "    <tr>\n",
       "      <th>1</th>\n",
       "      <td>-5</td>\n",
       "    </tr>\n",
       "    <tr>\n",
       "      <th>2</th>\n",
       "      <td>-12</td>\n",
       "    </tr>\n",
       "    <tr>\n",
       "      <th>3</th>\n",
       "      <td>-10</td>\n",
       "    </tr>\n",
       "    <tr>\n",
       "      <th>4</th>\n",
       "      <td>-7</td>\n",
       "    </tr>\n",
       "    <tr>\n",
       "      <th>5</th>\n",
       "      <td>-15</td>\n",
       "    </tr>\n",
       "    <tr>\n",
       "      <th>6</th>\n",
       "      <td>-5</td>\n",
       "    </tr>\n",
       "    <tr>\n",
       "      <th>7</th>\n",
       "      <td>-11</td>\n",
       "    </tr>\n",
       "    <tr>\n",
       "      <th>8</th>\n",
       "      <td>-6</td>\n",
       "    </tr>\n",
       "    <tr>\n",
       "      <th>9</th>\n",
       "      <td>-14</td>\n",
       "    </tr>\n",
       "  </tbody>\n",
       "</table>\n",
       "</div>"
      ],
      "text/plain": [
       "   Normal\n",
       "0      -8\n",
       "1      -5\n",
       "2     -12\n",
       "3     -10\n",
       "4      -7\n",
       "5     -15\n",
       "6      -5\n",
       "7     -11\n",
       "8      -6\n",
       "9     -14"
      ]
     },
     "execution_count": 19,
     "metadata": {},
     "output_type": "execute_result"
    }
   ],
   "source": [
    "df_about_sevenfive = pd.DataFrame()\n",
    "\n",
    "constant = 75\n",
    "\n",
    "df_about_sevenfive['Normal'] = df_raw['Normal'] - constant\n",
    "\n",
    "df_about_sevenfive.head(10)"
   ]
  },
  {
   "cell_type": "code",
   "execution_count": 51,
   "metadata": {},
   "outputs": [
    {
     "data": {
      "text/html": [
       "<div>\n",
       "<style scoped>\n",
       "    .dataframe tbody tr th:only-of-type {\n",
       "        vertical-align: middle;\n",
       "    }\n",
       "\n",
       "    .dataframe tbody tr th {\n",
       "        vertical-align: top;\n",
       "    }\n",
       "\n",
       "    .dataframe thead th {\n",
       "        text-align: right;\n",
       "    }\n",
       "</style>\n",
       "<table border=\"1\" class=\"dataframe\">\n",
       "  <thead>\n",
       "    <tr style=\"text-align: right;\">\n",
       "      <th></th>\n",
       "      <th>Normal</th>\n",
       "    </tr>\n",
       "  </thead>\n",
       "  <tbody>\n",
       "    <tr>\n",
       "      <th>count</th>\n",
       "      <td>50.000000</td>\n",
       "    </tr>\n",
       "    <tr>\n",
       "      <th>mean</th>\n",
       "      <td>-9.880000</td>\n",
       "    </tr>\n",
       "    <tr>\n",
       "      <th>std</th>\n",
       "      <td>2.911203</td>\n",
       "    </tr>\n",
       "    <tr>\n",
       "      <th>min</th>\n",
       "      <td>-16.000000</td>\n",
       "    </tr>\n",
       "    <tr>\n",
       "      <th>25%</th>\n",
       "      <td>-12.000000</td>\n",
       "    </tr>\n",
       "    <tr>\n",
       "      <th>50%</th>\n",
       "      <td>-10.000000</td>\n",
       "    </tr>\n",
       "    <tr>\n",
       "      <th>75%</th>\n",
       "      <td>-8.000000</td>\n",
       "    </tr>\n",
       "    <tr>\n",
       "      <th>max</th>\n",
       "      <td>-4.000000</td>\n",
       "    </tr>\n",
       "  </tbody>\n",
       "</table>\n",
       "</div>"
      ],
      "text/plain": [
       "          Normal\n",
       "count  50.000000\n",
       "mean   -9.880000\n",
       "std     2.911203\n",
       "min   -16.000000\n",
       "25%   -12.000000\n",
       "50%   -10.000000\n",
       "75%    -8.000000\n",
       "max    -4.000000"
      ]
     },
     "execution_count": 51,
     "metadata": {},
     "output_type": "execute_result"
    }
   ],
   "source": [
    "df_about_sevenfive.describe()"
   ]
  },
  {
   "cell_type": "code",
   "execution_count": 20,
   "metadata": {},
   "outputs": [
    {
     "name": "stdout",
     "output_type": "stream",
     "text": [
      "Moments about the number 75\n",
      "    first_moment:\n",
      "        Normal   -9.88\n",
      "    second_moment:\n",
      "        Normal    105.92\n",
      "    third_moment:\n",
      "        Normal   -1211.08\n",
      "    fourth_moment:\n",
      "        Normal    14572.64\n"
     ]
    }
   ],
   "source": [
    "moments_about_sevenfive = moments_calculator(df_about_sevenfive)\n",
    "pretty_print(moments_about_sevenfive, \"Moments about the number 75\")"
   ]
  },
  {
   "cell_type": "markdown",
   "metadata": {},
   "source": [
    "---\n",
    "\n",
    "#### 4)\n",
    "Using the results of items 2 and 3 for the set of female height measurements, verify the relations between the moments:\n",
    "\n",
    "##### 4a) \n",
    "\n",
    "$$\n",
    "m_2 = m'_2 - m'^2_1\n",
    "$$"
   ]
  },
  {
   "cell_type": "markdown",
   "metadata": {},
   "source": [
    "Assume that $m'_N$ indicates moments N of the data that is centered around number 75. Thus $m_N$ is the mean-centered data. \n",
    "\n",
    "Let us first assign the calculated data earlier (for item 3) to more intuitive variables for convenience."
   ]
  },
  {
   "cell_type": "code",
   "execution_count": 23,
   "metadata": {},
   "outputs": [],
   "source": [
    "sevenfive_fir = moments_about_sevenfive['first_moment']['Normal']\n",
    "sevenfive_sec = moments_about_sevenfive['second_moment']['Normal']\n",
    "sevenfive_thi = moments_about_sevenfive['third_moment']['Normal']\n",
    "sevenfive_fou = moments_about_sevenfive['fourth_moment']['Normal']"
   ]
  },
  {
   "cell_type": "markdown",
   "metadata": {},
   "source": [
    "Now, let us check if the initial relationship is true."
   ]
  },
  {
   "cell_type": "code",
   "execution_count": 25,
   "metadata": {},
   "outputs": [
    {
     "name": "stdout",
     "output_type": "stream",
     "text": [
      "Second moment about 75: 8.305599999999984\n",
      "Second moment about the mean: 8.3056\n"
     ]
    }
   ],
   "source": [
    "second_moment_check = sevenfive_sec - (sevenfive_fir)**2\n",
    "print(\"Second moment about 75:\", second_moment_check)\n",
    "print(\"Second moment about the mean:\", moments_about_mean['second_moment']['Normal'])"
   ]
  },
  {
   "cell_type": "markdown",
   "metadata": {},
   "source": [
    "Since both the second moments from about 75 and about the mean are relatively same, we can conclude that the initial condition $m_2 = m'_2 - m'^2_1$ <b>is indeed true</b> for our dataset and computation."
   ]
  },
  {
   "cell_type": "markdown",
   "metadata": {},
   "source": [
    "##### 4b) \n",
    "\n",
    "$$\n",
    "m_3 = m'_3 - 3m'_1m'_2 + 2m'^3_1\n",
    "$$"
   ]
  },
  {
   "cell_type": "code",
   "execution_count": 28,
   "metadata": {},
   "outputs": [
    {
     "name": "stdout",
     "output_type": "stream",
     "text": [
      "Third moment about 75: -0.4717440000001716\n",
      "Third moment about the mean: -0.4717440000001135\n"
     ]
    }
   ],
   "source": [
    "third_moment_check = sevenfive_thi - (3*sevenfive_fir*sevenfive_sec) + 2*sevenfive_fir**3 \n",
    "print(\"Third moment about 75:\", third_moment_check)\n",
    "print(\"Third moment about the mean:\", moments_about_mean['third_moment']['Normal'])"
   ]
  },
  {
   "cell_type": "markdown",
   "metadata": {},
   "source": [
    "Since both the third moments from about 75 and about the mean are relatively same, we can conclude that the initial condition $m_3 = m'_3 - 3m'_1m'_2 + 2m'^3_1$ <b>is indeed true</b> for our dataset and computation."
   ]
  },
  {
   "cell_type": "markdown",
   "metadata": {},
   "source": [
    "##### 4c) \n",
    "\n",
    "$$\n",
    "m_4 = m'_4 - 4m'_1m'_3 + 6m'^2_1m'_2 - 3m'^4_1\n",
    "$$"
   ]
  },
  {
   "cell_type": "code",
   "execution_count": 31,
   "metadata": {},
   "outputs": [
    {
     "name": "stdout",
     "output_type": "stream",
     "text": [
      "Fourth moment about 75: 160.94862591999117\n",
      "Fourth moment about the mean: 160.94862592\n"
     ]
    }
   ],
   "source": [
    "fourth_moment_check = sevenfive_fou - (4*sevenfive_fir*sevenfive_thi) + (6*(sevenfive_fir**2)*sevenfive_sec) - 3*(sevenfive_fir**4) \n",
    "print(\"Fourth moment about 75:\", fourth_moment_check)\n",
    "print(\"Fourth moment about the mean:\", moments_about_mean['fourth_moment']['Normal'])"
   ]
  },
  {
   "cell_type": "markdown",
   "metadata": {},
   "source": [
    "Since both the fourth moments from about 75 and about the mean are relatively same, we can conclude that the initial condition $m_4 = m'_4 - 4m'_1m'_3 + 6m'^2_1m'_2 - 3m'^4_1$ <b> is indeed true</b> for our dataset and computation."
   ]
  }
 ],
 "metadata": {
  "kaggle": {
   "accelerator": "none",
   "dataSources": [
    {
     "datasetId": 5652686,
     "sourceId": 9329776,
     "sourceType": "datasetVersion"
    }
   ],
   "dockerImageVersionId": 30761,
   "isGpuEnabled": false,
   "isInternetEnabled": false,
   "language": "python",
   "sourceType": "notebook"
  },
  "kernelspec": {
   "display_name": "Python 3 (ipykernel)",
   "language": "python",
   "name": "python3"
  },
  "language_info": {
   "codemirror_mode": {
    "name": "ipython",
    "version": 3
   },
   "file_extension": ".py",
   "mimetype": "text/x-python",
   "name": "python",
   "nbconvert_exporter": "python",
   "pygments_lexer": "ipython3",
   "version": "3.12.3"
  }
 },
 "nbformat": 4,
 "nbformat_minor": 4
}
