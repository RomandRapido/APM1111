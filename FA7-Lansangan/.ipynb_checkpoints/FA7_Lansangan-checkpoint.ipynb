{
 "cells": [
  {
   "cell_type": "markdown",
   "id": "6142efb2-5aec-4943-81a3-2fbe1b4eebe1",
   "metadata": {},
   "source": [
    "<div style=\"text-align: center;\"> <h2>Invisibility Cloak: Independent Samples T-test</h2>\n",
    "<h5>Formative Assessment 7</h5>\n",
    "<h5><u>By Romand Lansangan</u></h5>\n",
    "    </div>\n",
    "    \n",
    "---"
   ]
  },
  {
   "cell_type": "markdown",
   "id": "d0a7209e-a9fe-40dd-9041-b80c761220cb",
   "metadata": {},
   "source": [
    "### Introduction\n",
    "\n",
    "Researchers in the field of experimental psychology and behavioural science have are both interested in understanding how one's invisibility, therefore lack of accountability, could be impact a person's tendency to commit mischievous acts.  The concept of \"Invisibility Cloak\" comes from a famous novel of JK Rowling titled \"Harry Potter.\" In the said novel, a person wearing a cloak becomes invisible to the naked eye of its peers. This particular concept gives us freedom to explore and delve in how a prospect of unseen actions affects the perons' propensity to mischievously.    \n",
    "\n",
    "\n",
    "### Methodology\n",
    "This study investigates whether a person wearing invisibility cloak influences the frequency of mischievous acts. Therefore, it is in the best interest of the researcher to compare the number of mischievous acts between the two groups of participants: those whose wearing an invisibility cloak and those who are not wearing an invisibility cloak. \n",
    "\n",
    "**Dependent Variable**: Number of Mischievous Acts (Mischiefs) <br>\n",
    "**Independent Variables**: Without Cloak and With Cloak\n",
    "\n",
    "As for the hypothesis,\n",
    "\n",
    "Let $\\mu_1=\\text{Without Cloak}$ and $\\mu_2=\\text{With Cloak}$\n",
    "\n",
    "**Null Hypothesis ($H_0$)**: There is no significant difference in the number of mischievous acts between individuals who wear cloaks and those who do not. ($\\mu_1 = \\mu_2$)\n",
    "\n",
    "**Alternative Hypothesis ($H_1$)**: There is a significant difference in the number of mischievous acts between those with and without a cloak ($\\mu_1 \\neq \\mu_2$)\n",
    "\n",
    "To test this hypothesis, an *independent-samples t-test will be conducted at a 0.05 level of significance*. This statistical method compares the means of two independent groups to test if there's a statistical difference between them. We shall estimate for the true Mean Difference of the Population with 95% confidence.\n",
    "\n",
    "We ought to use python and its packages to conduct this study."
   ]
  },
  {
   "cell_type": "markdown",
   "id": "84105373-75fa-458f-a4f9-b1af762a3ce1",
   "metadata": {},
   "source": [
    "### Data Cleaning\n",
    "Let us start by importing necessary packages in python; followed by importing the csv file."
   ]
  },
  {
   "cell_type": "code",
   "execution_count": 28,
   "id": "8543b244-421f-4eb6-be0d-804da72f39a2",
   "metadata": {},
   "outputs": [],
   "source": [
    "import pandas as pd\n",
    "from scipy.stats import shapiro\n",
    "from scipy.stats import levene\n",
    "from scipy.stats import ttest_ind\n",
    "from tabulate import tabulate\n",
    "import seaborn as sns\n",
    "import matplotlib.pyplot as plt\n",
    "import numpy as np"
   ]
  },
  {
   "cell_type": "code",
   "execution_count": 29,
   "id": "3f606f26-a02b-4aee-bc22-8676dafdf8f9",
   "metadata": {},
   "outputs": [
    {
     "data": {
      "text/html": [
       "<div>\n",
       "<style scoped>\n",
       "    .dataframe tbody tr th:only-of-type {\n",
       "        vertical-align: middle;\n",
       "    }\n",
       "\n",
       "    .dataframe tbody tr th {\n",
       "        vertical-align: top;\n",
       "    }\n",
       "\n",
       "    .dataframe thead th {\n",
       "        text-align: right;\n",
       "    }\n",
       "</style>\n",
       "<table border=\"1\" class=\"dataframe\">\n",
       "  <thead>\n",
       "    <tr style=\"text-align: right;\">\n",
       "      <th></th>\n",
       "      <th>Participant</th>\n",
       "      <th>Cloak</th>\n",
       "      <th>Mischief</th>\n",
       "    </tr>\n",
       "  </thead>\n",
       "  <tbody>\n",
       "    <tr>\n",
       "      <th>0</th>\n",
       "      <td>1</td>\n",
       "      <td>0</td>\n",
       "      <td>3</td>\n",
       "    </tr>\n",
       "    <tr>\n",
       "      <th>1</th>\n",
       "      <td>2</td>\n",
       "      <td>0</td>\n",
       "      <td>1</td>\n",
       "    </tr>\n",
       "    <tr>\n",
       "      <th>2</th>\n",
       "      <td>3</td>\n",
       "      <td>0</td>\n",
       "      <td>5</td>\n",
       "    </tr>\n",
       "    <tr>\n",
       "      <th>3</th>\n",
       "      <td>4</td>\n",
       "      <td>0</td>\n",
       "      <td>4</td>\n",
       "    </tr>\n",
       "    <tr>\n",
       "      <th>4</th>\n",
       "      <td>5</td>\n",
       "      <td>0</td>\n",
       "      <td>6</td>\n",
       "    </tr>\n",
       "  </tbody>\n",
       "</table>\n",
       "</div>"
      ],
      "text/plain": [
       "   Participant  Cloak  Mischief\n",
       "0            1      0         3\n",
       "1            2      0         1\n",
       "2            3      0         5\n",
       "3            4      0         4\n",
       "4            5      0         6"
      ]
     },
     "execution_count": 29,
     "metadata": {},
     "output_type": "execute_result"
    }
   ],
   "source": [
    "df = pd.read_csv('Invisibility Cloak.csv')\n",
    "df.head()"
   ]
  },
  {
   "cell_type": "code",
   "execution_count": 30,
   "id": "2ed62c8a-bbb5-4335-8aef-9486841ee53d",
   "metadata": {},
   "outputs": [
    {
     "data": {
      "text/plain": [
       "0"
      ]
     },
     "execution_count": 30,
     "metadata": {},
     "output_type": "execute_result"
    }
   ],
   "source": [
    "nan_count = df.isna().sum().sum()\n",
    "nan_count"
   ]
  },
  {
   "cell_type": "markdown",
   "id": "8a404fe7-7aa8-43d9-aaf4-953e90a77353",
   "metadata": {},
   "source": [
    "As we can notice, there is no null or na values.\n",
    "\n",
    "Let us now proceed to use the \"Cloak\" column to create a new column to indicate our \"Cloak Status.\" With 0 being \"Without Cloak\" and 1 \"With Cloak\" "
   ]
  },
  {
   "cell_type": "code",
   "execution_count": 32,
   "id": "edfda1d4-2cf8-4e31-bcad-f589b29275dd",
   "metadata": {},
   "outputs": [
    {
     "data": {
      "text/html": [
       "<div>\n",
       "<style scoped>\n",
       "    .dataframe tbody tr th:only-of-type {\n",
       "        vertical-align: middle;\n",
       "    }\n",
       "\n",
       "    .dataframe tbody tr th {\n",
       "        vertical-align: top;\n",
       "    }\n",
       "\n",
       "    .dataframe thead th {\n",
       "        text-align: right;\n",
       "    }\n",
       "</style>\n",
       "<table border=\"1\" class=\"dataframe\">\n",
       "  <thead>\n",
       "    <tr style=\"text-align: right;\">\n",
       "      <th></th>\n",
       "      <th>Participant</th>\n",
       "      <th>Cloak</th>\n",
       "      <th>Mischief</th>\n",
       "      <th>Cloak_Status</th>\n",
       "    </tr>\n",
       "  </thead>\n",
       "  <tbody>\n",
       "    <tr>\n",
       "      <th>0</th>\n",
       "      <td>1</td>\n",
       "      <td>0</td>\n",
       "      <td>3</td>\n",
       "      <td>Without Cloak</td>\n",
       "    </tr>\n",
       "    <tr>\n",
       "      <th>1</th>\n",
       "      <td>2</td>\n",
       "      <td>0</td>\n",
       "      <td>1</td>\n",
       "      <td>Without Cloak</td>\n",
       "    </tr>\n",
       "    <tr>\n",
       "      <th>2</th>\n",
       "      <td>3</td>\n",
       "      <td>0</td>\n",
       "      <td>5</td>\n",
       "      <td>Without Cloak</td>\n",
       "    </tr>\n",
       "    <tr>\n",
       "      <th>3</th>\n",
       "      <td>4</td>\n",
       "      <td>0</td>\n",
       "      <td>4</td>\n",
       "      <td>Without Cloak</td>\n",
       "    </tr>\n",
       "    <tr>\n",
       "      <th>4</th>\n",
       "      <td>5</td>\n",
       "      <td>0</td>\n",
       "      <td>6</td>\n",
       "      <td>Without Cloak</td>\n",
       "    </tr>\n",
       "  </tbody>\n",
       "</table>\n",
       "</div>"
      ],
      "text/plain": [
       "   Participant  Cloak  Mischief   Cloak_Status\n",
       "0            1      0         3  Without Cloak\n",
       "1            2      0         1  Without Cloak\n",
       "2            3      0         5  Without Cloak\n",
       "3            4      0         4  Without Cloak\n",
       "4            5      0         6  Without Cloak"
      ]
     },
     "execution_count": 32,
     "metadata": {},
     "output_type": "execute_result"
    }
   ],
   "source": [
    "df['Cloak_Status'] = df['Cloak'].apply(lambda x: \"Without Cloak\" if x == 0 else \"With Cloak\")\n",
    "df.head()"
   ]
  },
  {
   "cell_type": "markdown",
   "id": "60998c0c-2cc6-425b-85c4-e8ebf36ffd5f",
   "metadata": {},
   "source": [
    "Let us also show the summary of our data set to make sure that there is nothing wrong with it."
   ]
  },
  {
   "cell_type": "code",
   "execution_count": 34,
   "id": "d389c543-ecd1-4447-992e-bf0241cf8cdf",
   "metadata": {},
   "outputs": [
    {
     "data": {
      "text/html": [
       "<div>\n",
       "<style scoped>\n",
       "    .dataframe tbody tr th:only-of-type {\n",
       "        vertical-align: middle;\n",
       "    }\n",
       "\n",
       "    .dataframe tbody tr th {\n",
       "        vertical-align: top;\n",
       "    }\n",
       "\n",
       "    .dataframe thead th {\n",
       "        text-align: right;\n",
       "    }\n",
       "</style>\n",
       "<table border=\"1\" class=\"dataframe\">\n",
       "  <thead>\n",
       "    <tr style=\"text-align: right;\">\n",
       "      <th></th>\n",
       "      <th>Participant</th>\n",
       "      <th>Cloak</th>\n",
       "      <th>Mischief</th>\n",
       "    </tr>\n",
       "  </thead>\n",
       "  <tbody>\n",
       "    <tr>\n",
       "      <th>count</th>\n",
       "      <td>24.000000</td>\n",
       "      <td>24.000000</td>\n",
       "      <td>24.000000</td>\n",
       "    </tr>\n",
       "    <tr>\n",
       "      <th>mean</th>\n",
       "      <td>12.500000</td>\n",
       "      <td>0.500000</td>\n",
       "      <td>4.375000</td>\n",
       "    </tr>\n",
       "    <tr>\n",
       "      <th>std</th>\n",
       "      <td>7.071068</td>\n",
       "      <td>0.510754</td>\n",
       "      <td>1.860633</td>\n",
       "    </tr>\n",
       "    <tr>\n",
       "      <th>min</th>\n",
       "      <td>1.000000</td>\n",
       "      <td>0.000000</td>\n",
       "      <td>0.000000</td>\n",
       "    </tr>\n",
       "    <tr>\n",
       "      <th>25%</th>\n",
       "      <td>6.750000</td>\n",
       "      <td>0.000000</td>\n",
       "      <td>3.750000</td>\n",
       "    </tr>\n",
       "    <tr>\n",
       "      <th>50%</th>\n",
       "      <td>12.500000</td>\n",
       "      <td>0.500000</td>\n",
       "      <td>5.000000</td>\n",
       "    </tr>\n",
       "    <tr>\n",
       "      <th>75%</th>\n",
       "      <td>18.250000</td>\n",
       "      <td>1.000000</td>\n",
       "      <td>5.250000</td>\n",
       "    </tr>\n",
       "    <tr>\n",
       "      <th>max</th>\n",
       "      <td>24.000000</td>\n",
       "      <td>1.000000</td>\n",
       "      <td>8.000000</td>\n",
       "    </tr>\n",
       "  </tbody>\n",
       "</table>\n",
       "</div>"
      ],
      "text/plain": [
       "       Participant      Cloak   Mischief\n",
       "count    24.000000  24.000000  24.000000\n",
       "mean     12.500000   0.500000   4.375000\n",
       "std       7.071068   0.510754   1.860633\n",
       "min       1.000000   0.000000   0.000000\n",
       "25%       6.750000   0.000000   3.750000\n",
       "50%      12.500000   0.500000   5.000000\n",
       "75%      18.250000   1.000000   5.250000\n",
       "max      24.000000   1.000000   8.000000"
      ]
     },
     "execution_count": 34,
     "metadata": {},
     "output_type": "execute_result"
    }
   ],
   "source": [
    "df.describe()"
   ]
  },
  {
   "cell_type": "markdown",
   "id": "d88f2fa2-c1ab-40fc-a496-f3a765132d15",
   "metadata": {},
   "source": [
    "### Confirming Assumptions\n",
    "\n",
    "In order to conduct independent's t-test, we ought to check if the data set conform to it's six assumptions. \n",
    "\n",
    "#### Assumption 1 \n",
    "The dependent variable (Mischief) is a continuous level."
   ]
  },
  {
   "cell_type": "code",
   "execution_count": 36,
   "id": "11b5c968-b59d-4b32-a1bf-1e364e0d1bf9",
   "metadata": {},
   "outputs": [
    {
     "data": {
      "text/plain": [
       "dtype('int64')"
      ]
     },
     "execution_count": 36,
     "metadata": {},
     "output_type": "execute_result"
    }
   ],
   "source": [
    "df['Mischief'].dtypes"
   ]
  },
  {
   "cell_type": "markdown",
   "id": "2395d2db-2d9f-42d2-9cd1-208b627eee01",
   "metadata": {},
   "source": [
    "As one can notice, our dependent variable is an integer. Technically speaking, *int* isn't a continuous value but rather a discrete one. Nevertheles, we can still opt to use independent t-test when all groups are normally distributed (which we shall test in **Assumption 5**). "
   ]
  },
  {
   "cell_type": "markdown",
   "id": "66605b15-3cdc-4f7c-b6c3-ea760723437f",
   "metadata": {},
   "source": [
    "#### Assumption 2 \n",
    "The independent variable (Cloak Status) consists of two categorical, independent groups (With Cloak, Without Cloak)."
   ]
  },
  {
   "cell_type": "code",
   "execution_count": 39,
   "id": "7718a135-eeb5-4dc7-bf2f-952dcfa51765",
   "metadata": {},
   "outputs": [
    {
     "name": "stdout",
     "output_type": "stream",
     "text": [
      "Unique Values for Cloak (Raw): [0 1]\n",
      "Unique values for Cloak Status: ['Without Cloak' 'With Cloak']\n"
     ]
    }
   ],
   "source": [
    "print(f'Unique Values for Cloak (Raw): {df['Cloak'].unique()}\\nUnique values for Cloak Status: {df['Cloak_Status'].unique()}')"
   ]
  },
  {
   "cell_type": "markdown",
   "id": "1de6a3a8-b328-4b8b-8aca-7040b290b6df",
   "metadata": {},
   "source": [
    "#### Assumption 3 \n",
    "Each group are independent from each other. Meaning there is no participant who's with and without a cloak."
   ]
  },
  {
   "cell_type": "code",
   "execution_count": 41,
   "id": "710d0ddc-19be-4e1c-9345-744824687acc",
   "metadata": {},
   "outputs": [
    {
     "data": {
      "text/html": [
       "<div>\n",
       "<style scoped>\n",
       "    .dataframe tbody tr th:only-of-type {\n",
       "        vertical-align: middle;\n",
       "    }\n",
       "\n",
       "    .dataframe tbody tr th {\n",
       "        vertical-align: top;\n",
       "    }\n",
       "\n",
       "    .dataframe thead th {\n",
       "        text-align: right;\n",
       "    }\n",
       "</style>\n",
       "<table border=\"1\" class=\"dataframe\">\n",
       "  <thead>\n",
       "    <tr style=\"text-align: right;\">\n",
       "      <th></th>\n",
       "      <th>Participant</th>\n",
       "      <th>Cloak</th>\n",
       "      <th>Mischief</th>\n",
       "    </tr>\n",
       "    <tr>\n",
       "      <th>Cloak_Status</th>\n",
       "      <th></th>\n",
       "      <th></th>\n",
       "      <th></th>\n",
       "    </tr>\n",
       "  </thead>\n",
       "  <tbody>\n",
       "    <tr>\n",
       "      <th>With Cloak</th>\n",
       "      <td>12</td>\n",
       "      <td>12</td>\n",
       "      <td>12</td>\n",
       "    </tr>\n",
       "    <tr>\n",
       "      <th>Without Cloak</th>\n",
       "      <td>12</td>\n",
       "      <td>12</td>\n",
       "      <td>12</td>\n",
       "    </tr>\n",
       "  </tbody>\n",
       "</table>\n",
       "</div>"
      ],
      "text/plain": [
       "               Participant  Cloak  Mischief\n",
       "Cloak_Status                               \n",
       "With Cloak              12     12        12\n",
       "Without Cloak           12     12        12"
      ]
     },
     "execution_count": 41,
     "metadata": {},
     "output_type": "execute_result"
    }
   ],
   "source": [
    "grouped_df = df.groupby(['Cloak_Status']).count()\n",
    "grouped_df"
   ]
  },
  {
   "cell_type": "code",
   "execution_count": 42,
   "id": "f2ca06e0-70e5-47d1-a131-08bc5f217f5a",
   "metadata": {},
   "outputs": [
    {
     "data": {
      "text/plain": [
       "24"
      ]
     },
     "execution_count": 42,
     "metadata": {},
     "output_type": "execute_result"
    }
   ],
   "source": [
    "len(df)"
   ]
  },
  {
   "cell_type": "markdown",
   "id": "4b5169d6-36c1-4eb6-a8c9-d3654a0076ae",
   "metadata": {},
   "source": [
    "#### Assumption 4\n",
    "There should be no significant outliers in the two groups of your independent variable in terms of the dependent variable.\n",
    "\n",
    "To determine the outliers, we compute for the z-scores of each participant. \n",
    "\n",
    "$$\n",
    "z-score = \\frac{\\text{Deviation}}{Standard Deviation} = \\frac{X - \\mu}{\\sigma}\n",
    "$$\n",
    "\n",
    "But in order to use the z-scores as a determinant of outliers, we ought to test whether the distribution is normal. We could do this by utilizing Shapiro-Wilk Test of Normality.\n",
    "\n",
    "The null hypothesis: There is no significant difference in a normal distribution and the distribution in terms of the number of Mischiefs. <br>\n",
    "The alternate hypothesis: The Sample is not Normally Distributed in terms of the number of Mischiefs."
   ]
  },
  {
   "cell_type": "code",
   "execution_count": 44,
   "id": "5a737550-61d7-4119-98e2-85d7a2b77941",
   "metadata": {},
   "outputs": [
    {
     "name": "stdout",
     "output_type": "stream",
     "text": [
      "Statistics: 0.9543896971354631\n",
      "P-Value: 0.33629686017186955\n"
     ]
    }
   ],
   "source": [
    "statistic, p_value = shapiro(df['Mischief'])\n",
    "print(f\"Statistics: {statistic}\\nP-Value: {p_value}\")"
   ]
  },
  {
   "cell_type": "markdown",
   "id": "32077460-77b6-471c-b5ad-9cc86570881a",
   "metadata": {},
   "source": [
    "In order to use the z-score in looking for outliers, we have to confirm the normality of the \"Mischief\" variable using Shapiro-Wilk Test for normality. The result did not show evidence of significant difference from normal distribution (*W*=.95,*p*=.33) thus we fail to reject the null hyphothesis. Because of this, we can now proceed to calculate the z-score of each participant."
   ]
  },
  {
   "cell_type": "code",
   "execution_count": 46,
   "id": "87a40591-60c3-4d9b-9b56-223627304851",
   "metadata": {
    "scrolled": true
   },
   "outputs": [
    {
     "data": {
      "text/html": [
       "<div>\n",
       "<style scoped>\n",
       "    .dataframe tbody tr th:only-of-type {\n",
       "        vertical-align: middle;\n",
       "    }\n",
       "\n",
       "    .dataframe tbody tr th {\n",
       "        vertical-align: top;\n",
       "    }\n",
       "\n",
       "    .dataframe thead th {\n",
       "        text-align: right;\n",
       "    }\n",
       "</style>\n",
       "<table border=\"1\" class=\"dataframe\">\n",
       "  <thead>\n",
       "    <tr style=\"text-align: right;\">\n",
       "      <th></th>\n",
       "      <th>Participant</th>\n",
       "      <th>Cloak</th>\n",
       "      <th>Mischief</th>\n",
       "      <th>Cloak_Status</th>\n",
       "      <th>z_score</th>\n",
       "    </tr>\n",
       "  </thead>\n",
       "  <tbody>\n",
       "    <tr>\n",
       "      <th>0</th>\n",
       "      <td>1</td>\n",
       "      <td>0</td>\n",
       "      <td>3</td>\n",
       "      <td>Without Cloak</td>\n",
       "      <td>-0.738996</td>\n",
       "    </tr>\n",
       "    <tr>\n",
       "      <th>1</th>\n",
       "      <td>2</td>\n",
       "      <td>0</td>\n",
       "      <td>1</td>\n",
       "      <td>Without Cloak</td>\n",
       "      <td>-1.813898</td>\n",
       "    </tr>\n",
       "    <tr>\n",
       "      <th>2</th>\n",
       "      <td>3</td>\n",
       "      <td>0</td>\n",
       "      <td>5</td>\n",
       "      <td>Without Cloak</td>\n",
       "      <td>0.335907</td>\n",
       "    </tr>\n",
       "    <tr>\n",
       "      <th>3</th>\n",
       "      <td>4</td>\n",
       "      <td>0</td>\n",
       "      <td>4</td>\n",
       "      <td>Without Cloak</td>\n",
       "      <td>-0.201544</td>\n",
       "    </tr>\n",
       "    <tr>\n",
       "      <th>4</th>\n",
       "      <td>5</td>\n",
       "      <td>0</td>\n",
       "      <td>6</td>\n",
       "      <td>Without Cloak</td>\n",
       "      <td>0.873359</td>\n",
       "    </tr>\n",
       "  </tbody>\n",
       "</table>\n",
       "</div>"
      ],
      "text/plain": [
       "   Participant  Cloak  Mischief   Cloak_Status   z_score\n",
       "0            1      0         3  Without Cloak -0.738996\n",
       "1            2      0         1  Without Cloak -1.813898\n",
       "2            3      0         5  Without Cloak  0.335907\n",
       "3            4      0         4  Without Cloak -0.201544\n",
       "4            5      0         6  Without Cloak  0.873359"
      ]
     },
     "execution_count": 46,
     "metadata": {},
     "output_type": "execute_result"
    }
   ],
   "source": [
    "mean = df['Mischief'].mean()\n",
    "std = df['Mischief'].std()\n",
    "df['z_score'] = df['Mischief'].apply(lambda x: (x-mean)/std)\n",
    "df.head()"
   ]
  },
  {
   "cell_type": "markdown",
   "id": "01561cf8-bfaa-46ea-8a3b-400050375297",
   "metadata": {},
   "source": [
    "Usually, in normally distributed samples, a $|z-score| \\ge 3$ is considered outlier. But in terms of our miniscule sample size of ($N=24$) we can opt to use $|z-score| \\ge 2.5$ as outliers, therefore only a participant of $|z-score| < 2.5 $ will be considered in our independent-samples t-test."
   ]
  },
  {
   "cell_type": "code",
   "execution_count": 48,
   "id": "fbbd6297-1cb9-427a-96cd-01e82502741b",
   "metadata": {
    "scrolled": true
   },
   "outputs": [
    {
     "data": {
      "text/plain": [
       "0"
      ]
     },
     "execution_count": 48,
     "metadata": {},
     "output_type": "execute_result"
    }
   ],
   "source": [
    "len(df[abs(df['z_score']) > 2.5])"
   ]
  },
  {
   "cell_type": "markdown",
   "id": "bee4584c-7f7d-421c-bdc9-4a4dc1f193ba",
   "metadata": {},
   "source": [
    "Furtunately, there is no such participant that could be considered exteme outlier. Therefore, we can proceed without deleting any rows.\n",
    "\n",
    "Of course, we could always check by using Raincloud Plots."
   ]
  },
  {
   "cell_type": "code",
   "execution_count": 50,
   "id": "8b3ce7c5-a26a-446f-9715-2bd7066423b5",
   "metadata": {},
   "outputs": [
    {
     "data": {
      "image/png": "[encoded data removed]",
      "text/plain": [
       "<Figure size 800x600 with 1 Axes>"
      ]
     },
     "metadata": {},
     "output_type": "display_data"
    }
   ],
   "source": [
    "np.random.seed(42)\n",
    "plt.figure(figsize=(8, 6))\n",
    "sns.set(style=\"whitegrid\")\n",
    "\n",
    "sns.stripplot(x=\"Cloak\", y=\"Mischief\", data=df, jitter=True, dodge=True, \n",
    "              hue=\"Cloak\", palette=[\"#2ECC71\", \"#E74C3C\"], alpha=0.7, zorder=1, legend=False)\n",
    "\n",
    "sns.boxplot(x=\"Cloak\", y=\"Mischief\", data=df, whis=np.inf, fliersize=0, \n",
    "            hue=\"Cloak\", width=0.25, palette=[\"#2ECC71\", \"#E74C3C\"], zorder=2, dodge=False, legend=False)\n",
    "\n",
    "plt.title(\"Raincloud Plots (Without Distribution)\")\n",
    "plt.ylabel(\"Mischief\")\n",
    "plt.xlabel(\"Cloak\")\n",
    "plt.show()\n"
   ]
  },
  {
   "cell_type": "markdown",
   "id": "93a24d44-0798-45f8-8376-031e8e96e807",
   "metadata": {},
   "source": [
    "#### Assumption 5\n",
    "Your dependent variable should be approximately normally distributed for each group of the independent variable.\n",
    "\n",
    "The null hypothesis: There is no significant difference in a normal distribution and the distribution of each group in terms of the number of Mischiefs. <br>\n",
    "The alternate hypothesis: The two groups are not normally distributed in terms of the number of Mischiefs."
   ]
  },
  {
   "cell_type": "code",
   "execution_count": 52,
   "id": "2044925b-b7b5-4e28-8952-5aec92eaec5f",
   "metadata": {},
   "outputs": [
    {
     "name": "stdout",
     "output_type": "stream",
     "text": [
      "With a cloak: ShapiroResult(statistic=0.9726166907872743, pvalue=0.9361892037703956)\n",
      "Without a cloak: ShapiroResult(statistic=0.9127634937409539, pvalue=0.2314459072953191)\n"
     ]
    }
   ],
   "source": [
    "df_with_cloak = df[df['Cloak_Status'] == \"With Cloak\"]['Mischief']\n",
    "df_without_cloak = df[df['Cloak_Status'] == \"Without Cloak\"]['Mischief']\n",
    "\n",
    "shapiro_with = shapiro(df_with_cloak)\n",
    "shapiro_without = shapiro(df_without_cloak)\n",
    "print(f'With a cloak: {shapiro_with}')\n",
    "print(f'Without a cloak: {shapiro_without}')"
   ]
  },
  {
   "cell_type": "markdown",
   "id": "9e8481a0-a388-4104-8a37-b5f98053a78d",
   "metadata": {},
   "source": [
    "To test for normality between groups, we used Shapiro-Wilk Test of Normality. The result shows that neither the group *With Cloak* (*W*=.97,*p*=.94) nor *Without Cloak* (*W*=.91,*p*=.23) succeed in rejecting the null hyphothesis. Asserting that both our groups are normally distributed.\n",
    "\n",
    "#### Assumption 6\n",
    "You have homogeneity of variances (i.e., the variance of the dependent variable is equal in each group of your independent variable).\n",
    "\n",
    "To do so, we shall use Levene's Test for Equality of Variances.\n",
    "\n",
    "Null Hypothesis: The variances are equal across the groups. In other words, there is no significant difference in the variances between the groups. <br>\n",
    "Alternate Hypothesis: The variances are not equal across the groups. This implies that there is a significant difference in the variances between at least two of the groups."
   ]
  },
  {
   "cell_type": "code",
   "execution_count": 54,
   "id": "472474cd-f215-473c-ba54-baba3b53ebd0",
   "metadata": {},
   "outputs": [
    {
     "name": "stdout",
     "output_type": "stream",
     "text": [
      "LeveneResult(statistic=0.2697547683923706, pvalue=0.6086825890641905)\n"
     ]
    }
   ],
   "source": [
    "levene = levene(df_with_cloak, df_without_cloak)\n",
    "print(levene)"
   ]
  },
  {
   "cell_type": "markdown",
   "id": "954362ad-3e18-4651-a71d-20d6284b78da",
   "metadata": {},
   "source": [
    "Levene's test for equality of variances was conducted to assess the homogeneity of variances between the individuals with cloak and those who do not. The results showed that the variances were not significantly different (*F*(1,22)=.27,*p*=.61), indicating the we fail to reject the null hypothesis. With that out of the way, we can now proceed with the independent-samples t-test.\n",
    "\n",
    "### Independent Samples T-test\n",
    "We ought to include the following relevant values:\n",
    "\n",
    "$$\n",
    "\\begin{align*}\n",
    "\\mu_{with - without} &= \\mu_{with} - \\mu_{without} \\\\\n",
    "\\sigma_{with - without} &= \\sqrt{\\frac{\\sigma_{with}^2}{N_{with}} + \\frac{\\sigma_{without}^2}{N_{without}}} \\\\\n",
    "\\mu &\\pm 1.96 \\ \\sigma_{with - without}\n",
    "\\end{align*}\n",
    "$$\n",
    "\n",
    "Where: <br>\n",
    "$S_{with}$ are the statistics of sample *With Cloak*; <br>\n",
    "$S_{with}$ are the statistics of sample *Without Cloak*; <br>\n",
    "$\\mu$ is the Population Parameter for Mean Difference.\n",
    "\n",
    "Note that the we use 1.96 because it is the corresponding *critical value* of 95% *confidence level*.\n"
   ]
  },
  {
   "cell_type": "code",
   "execution_count": 56,
   "id": "f9a60af7-160b-4b36-9c22-05699fc7b36f",
   "metadata": {},
   "outputs": [
    {
     "data": {
      "text/html": [
       "<div>\n",
       "<style scoped>\n",
       "    .dataframe tbody tr th:only-of-type {\n",
       "        vertical-align: middle;\n",
       "    }\n",
       "\n",
       "    .dataframe tbody tr th {\n",
       "        vertical-align: top;\n",
       "    }\n",
       "\n",
       "    .dataframe thead th {\n",
       "        text-align: right;\n",
       "    }\n",
       "</style>\n",
       "<table border=\"1\" class=\"dataframe\">\n",
       "  <thead>\n",
       "    <tr style=\"text-align: right;\">\n",
       "      <th></th>\n",
       "      <th></th>\n",
       "      <th>t</th>\n",
       "      <th>df</th>\n",
       "      <th>p</th>\n",
       "      <th>Mean Difference</th>\n",
       "      <th>SE Difference</th>\n",
       "      <th>95% CI Lower</th>\n",
       "      <th>95% CI Upper</th>\n",
       "    </tr>\n",
       "  </thead>\n",
       "  <tbody>\n",
       "    <tr>\n",
       "      <th>0</th>\n",
       "      <td>Mischief</td>\n",
       "      <td>1.713459</td>\n",
       "      <td>22</td>\n",
       "      <td>0.100686</td>\n",
       "      <td>1.25</td>\n",
       "      <td>0.729518</td>\n",
       "      <td>-0.179856</td>\n",
       "      <td>2.679856</td>\n",
       "    </tr>\n",
       "  </tbody>\n",
       "</table>\n",
       "</div>"
      ],
      "text/plain": [
       "                    t  df         p  Mean Difference  SE Difference  \\\n",
       "0  Mischief  1.713459  22  0.100686             1.25       0.729518   \n",
       "\n",
       "   95% CI Lower  95% CI Upper  \n",
       "0     -0.179856      2.679856  "
      ]
     },
     "execution_count": 56,
     "metadata": {},
     "output_type": "execute_result"
    }
   ],
   "source": [
    "mean_difference =   df_with_cloak.mean() - df_without_cloak.mean()\n",
    "se_difference = ((df_with_cloak.std()**2 / len(df_with_cloak)) + (df_without_cloak.std()**2 / len(df_without_cloak)))**0.5\n",
    "p_value = ttest_ind(df_without_cloak,df_with_cloak, equal_var=True)\n",
    "confidence_interval  = (mean_difference - (1.96*se_difference), mean_difference + (1.96*se_difference))\n",
    "t_statistic, p_value = ttest_ind(df_with_cloak, df_without_cloak, equal_var=True)\n",
    "\n",
    "data = {\n",
    "    \"\": [\"Mischief\"],\n",
    "    \"t\": [t_statistic],\n",
    "    \"df\": [22],\n",
    "    \"p\": [p_value],\n",
    "    \"Mean Difference\": [mean_difference],\n",
    "    \"SE Difference\": [se_difference],\n",
    "    \"95% CI Lower\": [confidence_interval[0]],\n",
    "    \"95% CI Upper\": [confidence_interval[1]]\n",
    "}\n",
    "\n",
    "df_result = pd.DataFrame(data)\n",
    "df_result"
   ]
  },
  {
   "cell_type": "code",
   "execution_count": 57,
   "id": "b0e50b08-b122-4bca-bbd4-e17f6e06091d",
   "metadata": {},
   "outputs": [
    {
     "data": {
      "image/png": "[encoded data removed]",
      "text/plain": [
       "<Figure size 500x600 with 1 Axes>"
      ]
     },
     "metadata": {},
     "output_type": "display_data"
    }
   ],
   "source": [
    "data = {\n",
    "    'Cloak': [0.9, 1.1], \n",
    "    'Cloak Label': ['Without a cloak', 'With a cloak'],\n",
    "    'Mischief': [df_without_cloak.mean(), df_with_cloak.mean()],\n",
    "    'SE': [df_without_cloak.std() / np.sqrt(len(df_without_cloak)), df_with_cloak.std() / np.sqrt(len(df_with_cloak))]  \n",
    "}\n",
    "\n",
    "confidence_limits = 1.96 * np.array(data['SE'])\n",
    "df_plot = pd.DataFrame(data)\n",
    "\n",
    "sns.set(style=\"whitegrid\")\n",
    "\n",
    "plt.figure(figsize=(5, 6))\n",
    "plt.errorbar(df_plot['Cloak'], df_plot['Mischief'], yerr=confidence_limits, fmt='o-', \n",
    "             color='teal', ecolor='black', capsize=5, capthick=2, markersize=10, linewidth=2)\n",
    "\n",
    "for i, (x, y, ci) in enumerate(zip(df_plot['Cloak'], df_plot['Mischief'], confidence_limits)):\n",
    "    plt.text(x, y + ci + 0.2, f\"{y:.2f} ± {ci:.2f}\", ha='center', color='teal')\n",
    "\n",
    "plt.xticks([0.9, 1.1], df_plot['Cloak Label'], fontsize=10)\n",
    "plt.xlabel(\"Cloak\", fontsize=12)\n",
    "plt.ylabel(\"Mischief\", fontsize=12)\n",
    "plt.title(\"Mischief by Cloak Status with 95% Confidence Intervals\", fontsize=14)\n",
    "\n",
    "plt.ylim(2, 7) \n",
    "plt.tight_layout()\n",
    "plt.show()\n",
    "\n"
   ]
  },
  {
   "cell_type": "markdown",
   "id": "77ce56e0-70f8-4315-abf4-e86a60368609",
   "metadata": {},
   "source": [
    "An independent samples t-test was conducted to test whether there is no statistical significance in difference of the mean of the number of mischievous acts to commit mischievous acts of those who wears cloak and those who does not. The results indicated that there was no significant difference in mischievous acts between the two groups (*𝑡*(22)=1.71,*p*=.101). Therefore we have failed to reject the null hypothesis at the 0.05 significance level. However, the mean difference in mischievous acts was 1.25 (*SE*=.73) with a 95% confidence interval of -0.18 to 2.68. Meaning, there have been an increased in mischievous acts of 1.25 in our sample with those who wears cloaks compared to those who does not.\n",
    "\n",
    "### Manual Computation of the Z-Score of the Difference\n",
    "Let us verify the result by calculating the Z-Score of the the mean difference and approximating it in terms of standardized normal distribution.\n",
    "\n",
    "Since our null hypothesis is that both $\\mu_1$ and $\\mu_2$ are equal, $\\mu_{\\mu_2 - \\mu_1} = 0$ by *Sampling Distributions Differences*.\n",
    "\n",
    "$$\n",
    "z_{\\mu_2 - \\mu_1} = \\frac{\\mu_2 - \\mu_1 - \\mu_{\\mu_1 - \\mu_2}}{\\sigma_{\\mu_2 - \\mu_1}} \\ \\ \\ \\ where \\ \\sigma_{\\mu_2 - \\mu_1} = \\sqrt{\\frac{\\sigma_{1}^2}{N_1} + \\frac{\\sigma_2^2}{N_2}}\n",
    "$$"
   ]
  },
  {
   "cell_type": "code",
   "execution_count": 81,
   "id": "7625588d-e164-4cbc-9da0-ca1f8881b2cb",
   "metadata": {
    "scrolled": true
   },
   "outputs": [
    {
     "name": "stdout",
     "output_type": "stream",
     "text": [
      "mu_1 = 3.75\n",
      "mu_2 = 5.0\n",
      "Sigma_dif = 0.7295183134760701\n",
      "Z-Score of difference: 1.7134593839651469\n"
     ]
    }
   ],
   "source": [
    "mu_1 = df_without_cloak.mean()\n",
    "mu_2 = df_with_cloak.mean()\n",
    "sigma_dif = np.sqrt(((df_with_cloak.std())**2/len(df_with_cloak)) + ((df_without_cloak.std())**2/len(df_without_cloak)))\n",
    "print(f'mu_1 = {mu_1}\\nmu_2 = {mu_2}\\nSigma_dif = {sigma_dif}')\n",
    "z = (mu_2 - mu_1) / sigma_dif\n",
    "print(f\"Z-Score of difference: {z}\")"
   ]
  },
  {
   "cell_type": "markdown",
   "id": "5c753bf6-8e73-49bf-b492-2730d2d85066",
   "metadata": {},
   "source": [
    "$$\n",
    "z = \\frac{5 - 3.75 - 0}{0.7295} \\approx 1.71\n",
    "$$\n",
    "\n",
    "As one can notice, the manual computation of Z-Score is equals to the t-value of the automated Independent Samples T-test.\n",
    "\n",
    "Since we are working with a 0.05 level of significance, our *acceptance region shall be* $|z| < 1.96$. Therefore, since $z = 1.71$, we have shown that there is no significant statistical evidence to reject our null hypothesis."
   ]
  },
  {
   "cell_type": "markdown",
   "id": "1d3cc3c9-42bd-4fa1-9318-2a15de85f651",
   "metadata": {},
   "source": [
    "### Conclusion\n",
    "Restating the hypothesis,\n",
    "\n",
    "Let $\\mu_1$ represent the mean number of mischievous acts for participants without a cloak and $\\mu_2$ for those with a cloak.\n",
    "\n",
    "**Null Hypothesis ($H_0$)**: There is no significant difference in the number of mischievous acts between individuals who wear cloaks and those who do not. ($\\mu_1 = \\mu_2$)\n",
    "\n",
    "**Alternative Hypothesis ($H_1$)**: There is a significant difference in the number of mischievous acts between those with and without a cloak ($\\mu_1 \\neq \\mu_2$)\n",
    "\n",
    "\n",
    "The independent samples t-test indicated that there was no statistically significant difference in the mean number of mischievous acts between participants with and without cloaks $(t(22)=1.71,p=.101)$. Therefore we failed to have gotten sufficient statistical evidence to reject the null hypothesis ($H_0: \\mu_1 = \\mu_2$​) at a 0.05 significance level. The further manual calculation of Z-score further solidified this result. \n",
    "\n",
    "The mean difference of $1.25$ indicates that participants who wear cloaks in our sample are more likely to engage in mischievous acts 1.25 more than those who doesn't wear cloak. With a standard error of $0.72$, we have confidence limit of ($1.25 \\pm 1.96 \\times 0.72 \\approx 1.25 \\pm 1.42$). We could estimate with $95\\%$ confidence that the true mean difference of the population (or parameter) lies between $-0.18$ and $2.68$.\n",
    "\n",
    "These findings imply that although  wearing a cloak fails to pose statistically significant numbers to conclude an increase or decrease in individual's proepnsity toward mischievous behaviour, participants in our sample engaged more (even slightly) in mischievous behaviour. An increased sample size or a larger time frame to gather data may pose more significant results, although that in and of itself, could be reserve to be proven by future researchers.\n"
   ]
  }
 ],
 "metadata": {
  "kernelspec": {
   "display_name": "Python 3 (ipykernel)",
   "language": "python",
   "name": "python3"
  },
  "language_info": {
   "codemirror_mode": {
    "name": "ipython",
    "version": 3
   },
   "file_extension": ".py",
   "mimetype": "text/x-python",
   "name": "python",
   "nbconvert_exporter": "python",
   "pygments_lexer": "ipython3",
   "version": "3.12.4"
  }
 },
 "nbformat": 4,
 "nbformat_minor": 5
}
