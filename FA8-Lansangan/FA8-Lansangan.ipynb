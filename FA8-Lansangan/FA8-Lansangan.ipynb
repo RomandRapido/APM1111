{
 "cells": [
  {
   "cell_type": "markdown",
   "id": "d749e449",
   "metadata": {},
   "source": [
    "<div style=\"text-align: center;\"> <h3>Statistical Theory</h3>\n",
    "<h5>Formative Assessment 8</h5>\n",
    "<h5><u>By Romand Lansangan</u></h5>\n",
    "    </div>\n",
    "    \n",
    "---"
   ]
  },
  {
   "cell_type": "markdown",
   "id": "e35ceba3",
   "metadata": {},
   "source": [
    "## Introduction\n",
    "The PlantGrowth dataset is a classic dataset in R to practice the applications of different statistical technique, in our case ANOVA. \n",
    "\n",
    "The PlantGrowth dataset is a simulated data of weight of plants (dependent variable) subjected to different treatments/groups(independent variable), namely the controlled (ctrl), first treatment (trt1), second treatment (trt2). Trt1 and trt2 could represent different intervention such as fertilizers, growth enhancers, location, etc. The point of conducting an ANOVA is to determine whether these intervention poses different result (which means they have an effect). \n",
    "\n",
    "## Methodology\n",
    "**Null Hypothesis ($H_0$)**: There is no significant difference in the average plant weights accross all treatment groups ($\\mu_1 = \\mu_2 = \\mu_3$). Meaning, the interventions induce no significant effect on the plant weights.  \n",
    "\n",
    "**Alternative Hypothesis ($H_1$)**: At least one treatment group has a significantly different average plant weight from the others. Meaning, at least one intervention induce an significant effect on the plant weights.\n",
    "\n",
    "We ought to test the null hypothesis at a 0.05 significance level. In other words, we ought to reject the null hypothesis if and only if p-value < 0.05. But it is also worth noting the choosing a 0.05 level of significance poses a risk of commiting a type I error (false positive; rejecting null hypothesis when it should be accepted) 5% of the time.\n",
    "\n",
    "---"
   ]
  },
  {
   "cell_type": "code",
   "execution_count": 45,
   "id": "441a38a8",
   "metadata": {},
   "outputs": [],
   "source": [
    "import pandas as pd\n",
    "from scipy.stats import shapiro\n",
    "from scipy.stats import levene\n",
    "from scipy.stats import f_oneway\n",
    "from scipy.stats import ttest_ind"
   ]
  },
  {
   "cell_type": "code",
   "execution_count": 18,
   "id": "99d18496",
   "metadata": {},
   "outputs": [
    {
     "data": {
      "text/html": [
       "<div>\n",
       "<style scoped>\n",
       "    .dataframe tbody tr th:only-of-type {\n",
       "        vertical-align: middle;\n",
       "    }\n",
       "\n",
       "    .dataframe tbody tr th {\n",
       "        vertical-align: top;\n",
       "    }\n",
       "\n",
       "    .dataframe thead th {\n",
       "        text-align: right;\n",
       "    }\n",
       "</style>\n",
       "<table border=\"1\" class=\"dataframe\">\n",
       "  <thead>\n",
       "    <tr style=\"text-align: right;\">\n",
       "      <th></th>\n",
       "      <th>weight</th>\n",
       "      <th>group</th>\n",
       "    </tr>\n",
       "  </thead>\n",
       "  <tbody>\n",
       "    <tr>\n",
       "      <th>0</th>\n",
       "      <td>4.17</td>\n",
       "      <td>ctrl</td>\n",
       "    </tr>\n",
       "    <tr>\n",
       "      <th>1</th>\n",
       "      <td>5.58</td>\n",
       "      <td>ctrl</td>\n",
       "    </tr>\n",
       "    <tr>\n",
       "      <th>2</th>\n",
       "      <td>5.18</td>\n",
       "      <td>ctrl</td>\n",
       "    </tr>\n",
       "    <tr>\n",
       "      <th>3</th>\n",
       "      <td>6.11</td>\n",
       "      <td>ctrl</td>\n",
       "    </tr>\n",
       "    <tr>\n",
       "      <th>4</th>\n",
       "      <td>4.50</td>\n",
       "      <td>ctrl</td>\n",
       "    </tr>\n",
       "  </tbody>\n",
       "</table>\n",
       "</div>"
      ],
      "text/plain": [
       "   weight group\n",
       "0    4.17  ctrl\n",
       "1    5.58  ctrl\n",
       "2    5.18  ctrl\n",
       "3    6.11  ctrl\n",
       "4    4.50  ctrl"
      ]
     },
     "execution_count": 18,
     "metadata": {},
     "output_type": "execute_result"
    }
   ],
   "source": [
    "df = pd.read_csv('PlantGrowth.csv')\n",
    "df.head()"
   ]
  },
  {
   "cell_type": "code",
   "execution_count": 19,
   "id": "72100aac",
   "metadata": {},
   "outputs": [],
   "source": [
    "df_ctrl = df[df['group'] == 'ctrl']['weight']\n",
    "df_trt1 = df[df['group'] == 'trt1']['weight']\n",
    "df_trt2 = df[df['group'] == 'trt2']['weight']"
   ]
  },
  {
   "cell_type": "markdown",
   "id": "454c1e5b",
   "metadata": {},
   "source": [
    "## Checking for assumptions\n",
    "\n",
    "\n",
    "### Assumption 1: You have one dependent variable that is measured at the continuous level.\n",
    "As was stated in introduction, the plant weight is our dependent variable which is measured at a continuous level.\n",
    "\n",
    "### Assumption 2: You have one independent variable that consists of three or more categorical, independent groups. \n",
    "The indendent variable is the group/treatment to plants and it has three categorical and independent groups (because no plant could be subjected to two treatments), namely trt1, trt2, and ctrl.\n",
    "\n",
    "### Assumption 3: You should have independence of observations, which means that there is no relationship between the observations in each group of the independent variable or among the groups themselves. \n",
    "There's no clear documentation to the research design of the PlantGrowth dataset. But we could still assume that the dataset meets this criteria for no plants are involved in more than one treatment group and a plants measurements were only taken once (or each plant has only one corresponding weight). \n",
    "\n",
    "### Assumption 4: There should be no significant outliers in the three or more groups of your independent variable in terms of the dependent variable.\n",
    "For this particular assumption, let us use the IQR method to detect outliers."
   ]
  },
  {
   "cell_type": "code",
   "execution_count": 20,
   "id": "52c13ae6",
   "metadata": {},
   "outputs": [],
   "source": [
    "df_ctrl_quant = df_ctrl.quantile([0.25, 0.75])\n",
    "df_trt1_quant = df_trt1.quantile([0.25, 0.75])\n",
    "df_trt2_quant = df_trt2.quantile([0.25, 0.75])"
   ]
  },
  {
   "cell_type": "code",
   "execution_count": 21,
   "id": "445944f0",
   "metadata": {},
   "outputs": [
    {
     "data": {
      "text/html": [
       "<div>\n",
       "<style scoped>\n",
       "    .dataframe tbody tr th:only-of-type {\n",
       "        vertical-align: middle;\n",
       "    }\n",
       "\n",
       "    .dataframe tbody tr th {\n",
       "        vertical-align: top;\n",
       "    }\n",
       "\n",
       "    .dataframe thead th {\n",
       "        text-align: right;\n",
       "    }\n",
       "</style>\n",
       "<table border=\"1\" class=\"dataframe\">\n",
       "  <thead>\n",
       "    <tr style=\"text-align: right;\">\n",
       "      <th></th>\n",
       "      <th>group</th>\n",
       "      <th>lower quartile</th>\n",
       "      <th>upper quartile</th>\n",
       "      <th>iqr</th>\n",
       "      <th>lower_limit</th>\n",
       "      <th>upper_limit</th>\n",
       "    </tr>\n",
       "  </thead>\n",
       "  <tbody>\n",
       "    <tr>\n",
       "      <th>0</th>\n",
       "      <td>ctrl</td>\n",
       "      <td>4.5500</td>\n",
       "      <td>5.2925</td>\n",
       "      <td>0.7425</td>\n",
       "      <td>3.43625</td>\n",
       "      <td>6.40625</td>\n",
       "    </tr>\n",
       "    <tr>\n",
       "      <th>1</th>\n",
       "      <td>trt1</td>\n",
       "      <td>4.2075</td>\n",
       "      <td>4.8700</td>\n",
       "      <td>0.6625</td>\n",
       "      <td>3.21375</td>\n",
       "      <td>5.86375</td>\n",
       "    </tr>\n",
       "    <tr>\n",
       "      <th>2</th>\n",
       "      <td>trt2</td>\n",
       "      <td>5.2675</td>\n",
       "      <td>5.7350</td>\n",
       "      <td>0.4675</td>\n",
       "      <td>4.56625</td>\n",
       "      <td>6.43625</td>\n",
       "    </tr>\n",
       "  </tbody>\n",
       "</table>\n",
       "</div>"
      ],
      "text/plain": [
       "  group  lower quartile  upper quartile     iqr  lower_limit  upper_limit\n",
       "0  ctrl          4.5500          5.2925  0.7425      3.43625      6.40625\n",
       "1  trt1          4.2075          4.8700  0.6625      3.21375      5.86375\n",
       "2  trt2          5.2675          5.7350  0.4675      4.56625      6.43625"
      ]
     },
     "execution_count": 21,
     "metadata": {},
     "output_type": "execute_result"
    }
   ],
   "source": [
    "label_group = ['ctrl', 'trt1', 'trt2']\n",
    "lower_quart = [df_ctrl_quant[0.25], df_trt1_quant[0.25], df_trt2_quant[0.25]] \n",
    "upper_quart = [df_ctrl_quant[0.75], df_trt1_quant[0.75], df_trt2_quant[0.75]] \n",
    "\n",
    "df_data = pd.DataFrame({'group': label_group, 'lower quartile': lower_quart, 'upper quartile': upper_quart})\n",
    "df_data['iqr'] = df_data['upper quartile'] - df_data['lower quartile']\n",
    "df_data['lower_limit'] = df_data['lower quartile'] - (1.5 * df_data['iqr'])\n",
    "df_data['upper_limit'] = df_data['upper quartile'] + (1.5 * df_data['iqr'])\n",
    "df_data"
   ]
  },
  {
   "cell_type": "code",
   "execution_count": 22,
   "id": "aa55913a",
   "metadata": {},
   "outputs": [
    {
     "data": {
      "text/plain": [
       "Series([], Name: weight, dtype: float64)"
      ]
     },
     "execution_count": 22,
     "metadata": {},
     "output_type": "execute_result"
    }
   ],
   "source": [
    "filtered_df_ctrl = df_ctrl[\n",
    "    (df_ctrl < df_data.loc[df_data['group'] == 'ctrl', 'lower_limit'].values[0]) |\n",
    "    (df_ctrl > df_data.loc[df_data['group'] == 'ctrl', 'upper_limit'].values[0])\n",
    "]\n",
    "filtered_df_ctrl"
   ]
  },
  {
   "cell_type": "markdown",
   "id": "b1ec7918",
   "metadata": {},
   "source": [
    "No outlier detected on controlled group."
   ]
  },
  {
   "cell_type": "code",
   "execution_count": 23,
   "id": "9b453545",
   "metadata": {
    "scrolled": true
   },
   "outputs": [
    {
     "data": {
      "text/plain": [
       "14    5.87\n",
       "16    6.03\n",
       "Name: weight, dtype: float64"
      ]
     },
     "execution_count": 23,
     "metadata": {},
     "output_type": "execute_result"
    }
   ],
   "source": [
    "filtered_df_trt1 = df_trt1[\n",
    "    (df_trt1 < df_data.loc[df_data['group'] == 'trt1', 'lower_limit'].values[0]) |\n",
    "    (df_trt1 > df_data.loc[df_data['group'] == 'trt1', 'upper_limit'].values[0])\n",
    "]\n",
    "filtered_df_trt1"
   ]
  },
  {
   "cell_type": "markdown",
   "id": "fd898641",
   "metadata": {},
   "source": [
    "Two outliers are detected in trt1 group. But it is not clear whether they are significant outlier or not. Let us just retain the original data frame and also create a new dataframe for trt1 group without outliers. Then we shall see if the outliers are significant or not."
   ]
  },
  {
   "cell_type": "code",
   "execution_count": 34,
   "id": "6a1f1837-dbf8-4a19-85b6-72a6f092c410",
   "metadata": {
    "scrolled": true
   },
   "outputs": [
    {
     "name": "stdout",
     "output_type": "stream",
     "text": [
      "Length of original: 10\n",
      "Length of without outliers: 8\n"
     ]
    }
   ],
   "source": [
    "filtered_df_trt1_without_outliers = df_trt1[\n",
    "    (df_trt1 > df_data.loc[df_data['group'] == 'trt1', 'lower_limit'].values[0]) &\n",
    "    (df_trt1 < df_data.loc[df_data['group'] == 'trt1', 'upper_limit'].values[0])\n",
    "]\n",
    "print(f'Length of original: {len(df_trt1)}')\n",
    "print(f'Length of without outliers: {len(filtered_df_trt1_without_outliers)}')"
   ]
  },
  {
   "cell_type": "code",
   "execution_count": 25,
   "id": "5893efe0",
   "metadata": {},
   "outputs": [
    {
     "data": {
      "text/plain": [
       "Series([], Name: weight, dtype: float64)"
      ]
     },
     "execution_count": 25,
     "metadata": {},
     "output_type": "execute_result"
    }
   ],
   "source": [
    "filtered_df_trtb2 = df_trt2[\n",
    "    (df_trt2 < df_data.loc[df_data['group'] == 'trt2', 'lower_limit'].values[0]) |\n",
    "    (df_trt2 > df_data.loc[df_data['group'] == 'trt2', 'upper_limit'].values[0])\n",
    "]\n",
    "filtered_df_trt2"
   ]
  },
  {
   "cell_type": "markdown",
   "id": "c5fd659a",
   "metadata": {},
   "source": [
    "No outliers in trt2"
   ]
  },
  {
   "cell_type": "markdown",
   "id": "9a4050f6",
   "metadata": {},
   "source": [
    "### Assumption 5: Your dependent variable should be approximately normally distributed for each group of the independent variable.\n",
    "Let us use Shapiro-Wilk test of normality for checking. "
   ]
  },
  {
   "cell_type": "code",
   "execution_count": 26,
   "id": "256e8a60",
   "metadata": {
    "scrolled": true
   },
   "outputs": [
    {
     "data": {
      "text/html": [
       "<div>\n",
       "<style scoped>\n",
       "    .dataframe tbody tr th:only-of-type {\n",
       "        vertical-align: middle;\n",
       "    }\n",
       "\n",
       "    .dataframe tbody tr th {\n",
       "        vertical-align: top;\n",
       "    }\n",
       "\n",
       "    .dataframe thead th {\n",
       "        text-align: right;\n",
       "    }\n",
       "</style>\n",
       "<table border=\"1\" class=\"dataframe\">\n",
       "  <thead>\n",
       "    <tr style=\"text-align: right;\">\n",
       "      <th></th>\n",
       "      <th>group</th>\n",
       "      <th>shapiro_stat</th>\n",
       "      <th>shapiro_p_value</th>\n",
       "    </tr>\n",
       "  </thead>\n",
       "  <tbody>\n",
       "    <tr>\n",
       "      <th>0</th>\n",
       "      <td>ctrl</td>\n",
       "      <td>0.956681</td>\n",
       "      <td>0.747473</td>\n",
       "    </tr>\n",
       "    <tr>\n",
       "      <th>1</th>\n",
       "      <td>trt1</td>\n",
       "      <td>0.930411</td>\n",
       "      <td>0.451944</td>\n",
       "    </tr>\n",
       "    <tr>\n",
       "      <th>2</th>\n",
       "      <td>trt2</td>\n",
       "      <td>0.941005</td>\n",
       "      <td>0.564252</td>\n",
       "    </tr>\n",
       "    <tr>\n",
       "      <th>3</th>\n",
       "      <td>trt1(without outlier)</td>\n",
       "      <td>0.946654</td>\n",
       "      <td>0.677479</td>\n",
       "    </tr>\n",
       "  </tbody>\n",
       "</table>\n",
       "</div>"
      ],
      "text/plain": [
       "                   group  shapiro_stat  shapiro_p_value\n",
       "0                   ctrl      0.956681         0.747473\n",
       "1                   trt1      0.930411         0.451944\n",
       "2                   trt2      0.941005         0.564252\n",
       "3  trt1(without outlier)      0.946654         0.677479"
      ]
     },
     "execution_count": 26,
     "metadata": {},
     "output_type": "execute_result"
    }
   ],
   "source": [
    "stats_crtl, p_val_crtl = shapiro(df_ctrl)\n",
    "stats_trt1, p_val_trt1 = shapiro(df_ctrl)\n",
    "stats_trt2, p_val_trt2 = shapiro(df_trt2)\n",
    "stats_trt1_wo, p_val_trt1_wo = shapiro(filtered_df_trt1_without_outliers)\n",
    "\n",
    "trt1_wo_data = {'group': 'trt1(without outlier)', 'shapiro_stat': stats_trt1_wo, 'shapiro_p_value': p_val_trt1_wo}\n",
    "\n",
    "stats_list = [stats_crtl, stats_trt1, stats_trt2]\n",
    "p_val_list = [p_val_crtl, p_val_trt1, p_val_trt2]\n",
    "df_data['shapiro_stat'] = stats_list\n",
    "df_data['shapiro_p_value'] = p_val_list\n",
    "df_data = pd.concat([df_data, pd.DataFrame([trt1_wo_data])], ignore_index=True)\n",
    "df_data[['group', 'shapiro_stat', 'shapiro_p_value']]"
   ]
  },
  {
   "cell_type": "markdown",
   "id": "96dc5ff9",
   "metadata": {},
   "source": [
    "All are normally distributed."
   ]
  },
  {
   "cell_type": "markdown",
   "id": "1ca73089",
   "metadata": {},
   "source": [
    "### Assumption 5: You have homogeneity of variances.\n",
    "Let us use Levenes test for equality of variances. "
   ]
  },
  {
   "cell_type": "code",
   "execution_count": 27,
   "id": "6940acdd",
   "metadata": {
    "scrolled": true
   },
   "outputs": [
    {
     "data": {
      "text/plain": [
       "LeveneResult(statistic=1.1191856948703909, pvalue=0.3412266241254737)"
      ]
     },
     "execution_count": 27,
     "metadata": {},
     "output_type": "execute_result"
    }
   ],
   "source": [
    "levenes_test = levene(df_ctrl, df_trt1, df_trt2)\n",
    "levenes_test"
   ]
  },
  {
   "cell_type": "markdown",
   "id": "622c98e9",
   "metadata": {},
   "source": [
    "Passed the test with raw trt1"
   ]
  },
  {
   "cell_type": "code",
   "execution_count": 28,
   "id": "9cbf11db",
   "metadata": {
    "scrolled": true
   },
   "outputs": [
    {
     "data": {
      "text/plain": [
       "LeveneResult(statistic=0.3181677818182353, pvalue=0.7303831803655645)"
      ]
     },
     "execution_count": 28,
     "metadata": {},
     "output_type": "execute_result"
    }
   ],
   "source": [
    "levenes_test = levene(df_ctrl, filtered_df_trt1_without_outliers, df_trt2)\n",
    "levenes_test"
   ]
  },
  {
   "cell_type": "markdown",
   "id": "34637f67",
   "metadata": {},
   "source": [
    "Passed the test with the variation of trt1 that has no outliers"
   ]
  },
  {
   "cell_type": "markdown",
   "id": "55f178d8",
   "metadata": {},
   "source": [
    "## One-Way Anova"
   ]
  },
  {
   "cell_type": "code",
   "execution_count": 29,
   "id": "f410df23",
   "metadata": {},
   "outputs": [
    {
     "data": {
      "text/plain": [
       "F_onewayResult(statistic=4.846087862380136, pvalue=0.0159099583256229)"
      ]
     },
     "execution_count": 29,
     "metadata": {},
     "output_type": "execute_result"
    }
   ],
   "source": [
    "one_way_anova = f_oneway(df_ctrl, df_trt1, df_trt2)\n",
    "one_way_anova"
   ]
  },
  {
   "cell_type": "code",
   "execution_count": 30,
   "id": "75ea30b4",
   "metadata": {},
   "outputs": [
    {
     "data": {
      "text/plain": [
       "F_onewayResult(statistic=12.394319269011733, pvalue=0.0001820212004664887)"
      ]
     },
     "execution_count": 30,
     "metadata": {},
     "output_type": "execute_result"
    }
   ],
   "source": [
    "one_way_anova = f_oneway(df_ctrl, filtered_df_trt1_without_outliers, df_trt2)\n",
    "one_way_anova"
   ]
  },
  {
   "cell_type": "markdown",
   "id": "03843574-d3a5-4157-a1f6-6737aa83af57",
   "metadata": {},
   "source": [
    "The result from both the levene's test of homogeneity and one-way anova differs significantly between the dataset that has outlier and that dataset that doesn't have any outlier. Although that calculation results differs significantly from two dataset, both one-way anova results poses a significant statistical evidence to reject the null hypothesis. Based on the consistency of signficiant difference, we ough to use the dataset that has no outlier for the post-hoc analysis, despite the two posing simillar conclusion."
   ]
  },
  {
   "cell_type": "code",
   "execution_count": 47,
   "id": "aa071522-078f-4d92-9bd2-05cf4e3ae1d7",
   "metadata": {},
   "outputs": [
    {
     "data": {
      "text/html": [
       "<div>\n",
       "<style scoped>\n",
       "    .dataframe tbody tr th:only-of-type {\n",
       "        vertical-align: middle;\n",
       "    }\n",
       "\n",
       "    .dataframe tbody tr th {\n",
       "        vertical-align: top;\n",
       "    }\n",
       "\n",
       "    .dataframe thead th {\n",
       "        text-align: right;\n",
       "    }\n",
       "</style>\n",
       "<table border=\"1\" class=\"dataframe\">\n",
       "  <thead>\n",
       "    <tr style=\"text-align: right;\">\n",
       "      <th></th>\n",
       "      <th>value</th>\n",
       "      <th>group</th>\n",
       "    </tr>\n",
       "  </thead>\n",
       "  <tbody>\n",
       "    <tr>\n",
       "      <th>0</th>\n",
       "      <td>4.17</td>\n",
       "      <td>ctrl</td>\n",
       "    </tr>\n",
       "    <tr>\n",
       "      <th>1</th>\n",
       "      <td>5.58</td>\n",
       "      <td>ctrl</td>\n",
       "    </tr>\n",
       "    <tr>\n",
       "      <th>2</th>\n",
       "      <td>5.18</td>\n",
       "      <td>ctrl</td>\n",
       "    </tr>\n",
       "    <tr>\n",
       "      <th>3</th>\n",
       "      <td>6.11</td>\n",
       "      <td>ctrl</td>\n",
       "    </tr>\n",
       "    <tr>\n",
       "      <th>4</th>\n",
       "      <td>4.50</td>\n",
       "      <td>ctrl</td>\n",
       "    </tr>\n",
       "  </tbody>\n",
       "</table>\n",
       "</div>"
      ],
      "text/plain": [
       "   value group\n",
       "0   4.17  ctrl\n",
       "1   5.58  ctrl\n",
       "2   5.18  ctrl\n",
       "3   6.11  ctrl\n",
       "4   4.50  ctrl"
      ]
     },
     "execution_count": 47,
     "metadata": {},
     "output_type": "execute_result"
    }
   ],
   "source": [
    "df1 = pd.DataFrame({'value': df_ctrl, 'group': 'ctrl'})\n",
    "df2 = pd.DataFrame({'value': df_trt1, 'group': 'trt1'})\n",
    "df3 = pd.DataFrame({'value': filtered_df_trt1_without_outliers, 'group': 'trt2'})\n",
    "\n",
    "combined_df = pd.concat([df1, df2, df3], ignore_index=True)\n",
    "combined_df.head()"
   ]
  },
  {
   "cell_type": "code",
   "execution_count": 50,
   "id": "a6714afd-fd8e-41a3-a524-7f36564c8e15",
   "metadata": {},
   "outputs": [
    {
     "data": {
      "text/html": [
       "<div>\n",
       "<style scoped>\n",
       "    .dataframe tbody tr th:only-of-type {\n",
       "        vertical-align: middle;\n",
       "    }\n",
       "\n",
       "    .dataframe tbody tr th {\n",
       "        vertical-align: top;\n",
       "    }\n",
       "\n",
       "    .dataframe thead th {\n",
       "        text-align: right;\n",
       "    }\n",
       "</style>\n",
       "<table border=\"1\" class=\"dataframe\">\n",
       "  <thead>\n",
       "    <tr style=\"text-align: right;\">\n",
       "      <th></th>\n",
       "      <th>Group 1</th>\n",
       "      <th>Group 2</th>\n",
       "      <th>t-statistic</th>\n",
       "      <th>p-value</th>\n",
       "    </tr>\n",
       "  </thead>\n",
       "  <tbody>\n",
       "    <tr>\n",
       "      <th>0</th>\n",
       "      <td>ctrl</td>\n",
       "      <td>trt1</td>\n",
       "      <td>1.191260</td>\n",
       "      <td>0.249023</td>\n",
       "    </tr>\n",
       "    <tr>\n",
       "      <th>1</th>\n",
       "      <td>ctrl</td>\n",
       "      <td>trt2</td>\n",
       "      <td>2.736845</td>\n",
       "      <td>0.014624</td>\n",
       "    </tr>\n",
       "    <tr>\n",
       "      <th>2</th>\n",
       "      <td>trt1</td>\n",
       "      <td>trt2</td>\n",
       "      <td>1.014711</td>\n",
       "      <td>0.325343</td>\n",
       "    </tr>\n",
       "  </tbody>\n",
       "</table>\n",
       "</div>"
      ],
      "text/plain": [
       "  Group 1 Group 2  t-statistic   p-value\n",
       "0    ctrl    trt1     1.191260  0.249023\n",
       "1    ctrl    trt2     2.736845  0.014624\n",
       "2    trt1    trt2     1.014711  0.325343"
      ]
     },
     "execution_count": 50,
     "metadata": {},
     "output_type": "execute_result"
    }
   ],
   "source": [
    "grouped = combined_df.groupby('group')['value']\n",
    "\n",
    "group_names = grouped.groups.keys()\n",
    "results = []\n",
    "for g1 in group_names:\n",
    "    for g2 in group_names:\n",
    "        groups_comb = [g1, g2]\n",
    "        if groups_comb in [['ctrl', 'trt1'], ['ctrl', 'trt2'], ['trt1', 'trt2']]:\n",
    "            if g1 != g2 and (g2, g1) not in [(r['Group 2'], r['Group 1']) for r in results]:\n",
    "                stat, pval = ttest_ind(grouped.get_group(g1), grouped.get_group(g2), equal_var=True)  # Equal variance assumed\n",
    "                results.append({'Group 1': g1, 'Group 2': g2, 't-statistic': stat, 'p-value': pval})\n",
    "\n",
    "pairwise_results = pd.DataFrame(results)\n",
    "\n",
    "pairwise_results"
   ]
  }
 ],
 "metadata": {
  "kernelspec": {
   "display_name": "Python 3 (ipykernel)",
   "language": "python",
   "name": "python3"
  },
  "language_info": {
   "codemirror_mode": {
    "name": "ipython",
    "version": 3
   },
   "file_extension": ".py",
   "mimetype": "text/x-python",
   "name": "python",
   "nbconvert_exporter": "python",
   "pygments_lexer": "ipython3",
   "version": "3.12.7"
  }
 },
 "nbformat": 4,
 "nbformat_minor": 5
}
