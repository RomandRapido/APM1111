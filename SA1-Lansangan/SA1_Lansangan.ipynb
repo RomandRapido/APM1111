{
 "cells": [
  {
   "cell_type": "markdown",
   "id": "07753a60-c98b-412d-b0cd-1c8a546c2bd5",
   "metadata": {},
   "source": [
    "<div style=\"text-align: center;\"> <h3>Statistical Theory</h3>\n",
    "<h5>Formative Assessment 3</h5>\n",
    "<h5><u>By Romand Lansangan</u></h5>\n",
    "    </div>\n",
    "    \n",
    "---"
   ]
  },
  {
   "cell_type": "markdown",
   "id": "9f5aa400-87be-4194-b9d7-7db4aa5a8baa",
   "metadata": {},
   "source": [
    "### Introduction\n",
    "From personal to professional context, mobile phones have become an integral part of every individual's daily lives from all walks of life—a phenomenon especially true to college students. Understanding how much time they spend their time on their cellphones provides us a summary of the extent to how much college student's lives revolves arount these rectangular boxes. Knowing such insights may prove to be principal on shaping the future courses of actions for the students and the institutions that might concern them. \n",
    "\n",
    "In this study, we shall utilize the data set from a study to determine the average time spent on cellphones by male and female college students from Midwestern University. In the said data set, we are presented with 2 columns, one for \"Male\" and other for \"Females.\" Under the columns are the number of hours they spent talking on their cell phones per week.  \n",
    "![](table_1.jpg)\n",
    "\n"
   ]
  },
  {
   "cell_type": "markdown",
   "id": "b69f52fe-c522-448f-a4aa-cce751b23ac3",
   "metadata": {},
   "source": [
    "A study was undertaken to compare the mean time spent on cell phones by male and female college students per week. Fifty male and 50 female students were selected from Midwestern University and the number of hours per week spent talking on their cell phones determined. The results in hours are shown in Table 10.6. It is desired to test versus based on these samples.\n",
    "\n",
    "\n",
    "This study aims to examine whether there is a difference in the average time spent on cell phones between male and female college students at Midwestern University. A sample of 50 male and 50 female students was selected, and their weekly cell phone usage in hours was recorded.\n",
    "\n",
    "The objective is to determine if the observed difference in mean phone usage is statistically significant or if it could have occurred by chance. To this end, a hypothesis test will be conducted to compare the mean time spent on cell phones by male and female students."
   ]
  },
  {
   "cell_type": "code",
   "execution_count": 208,
   "id": "0f698808-8286-4655-b149-9dcaefad5f3a",
   "metadata": {},
   "outputs": [],
   "source": [
    "import pandas as pd\n",
    "from scipy.stats import ttest_ind\n",
    "from scipy.stats import shapiro\n",
    "import seaborn as sns\n",
    "import matplotlib.pyplot as plt\n",
    "import numpy as np\n",
    "from scipy.stats import levene\n"
   ]
  },
  {
   "cell_type": "markdown",
   "id": "baee50da-27cb-458b-a457-9a7b4b97e764",
   "metadata": {},
   "source": [
    "Mean difference.\n",
    "\n",
    "H0: There is no significant difference in the average time spent talking on cellphones per week between boys and girls attending college ($\\mu_1=\\mu_2$). <br>\n",
    "H1: There is a significant difference between the average time spent talking on cellphones per week between boys and girls attending college ($\\mu_1 \\ne \\mu_2$)."
   ]
  },
  {
   "cell_type": "code",
   "execution_count": 131,
   "id": "5462aeaa-6bab-4163-b7b5-9e0cbf307619",
   "metadata": {},
   "outputs": [
    {
     "data": {
      "text/html": [
       "<div>\n",
       "<style scoped>\n",
       "    .dataframe tbody tr th:only-of-type {\n",
       "        vertical-align: middle;\n",
       "    }\n",
       "\n",
       "    .dataframe tbody tr th {\n",
       "        vertical-align: top;\n",
       "    }\n",
       "\n",
       "    .dataframe thead th {\n",
       "        text-align: right;\n",
       "    }\n",
       "</style>\n",
       "<table border=\"1\" class=\"dataframe\">\n",
       "  <thead>\n",
       "    <tr style=\"text-align: right;\">\n",
       "      <th></th>\n",
       "      <th>Males</th>\n",
       "      <th>Females</th>\n",
       "    </tr>\n",
       "  </thead>\n",
       "  <tbody>\n",
       "    <tr>\n",
       "      <th>0</th>\n",
       "      <td>12</td>\n",
       "      <td>11</td>\n",
       "    </tr>\n",
       "    <tr>\n",
       "      <th>1</th>\n",
       "      <td>7</td>\n",
       "      <td>10</td>\n",
       "    </tr>\n",
       "    <tr>\n",
       "      <th>2</th>\n",
       "      <td>7</td>\n",
       "      <td>11</td>\n",
       "    </tr>\n",
       "    <tr>\n",
       "      <th>3</th>\n",
       "      <td>10</td>\n",
       "      <td>10</td>\n",
       "    </tr>\n",
       "    <tr>\n",
       "      <th>4</th>\n",
       "      <td>8</td>\n",
       "      <td>11</td>\n",
       "    </tr>\n",
       "  </tbody>\n",
       "</table>\n",
       "</div>"
      ],
      "text/plain": [
       "   Males  Females\n",
       "0     12       11\n",
       "1      7       10\n",
       "2      7       11\n",
       "3     10       10\n",
       "4      8       11"
      ]
     },
     "execution_count": 131,
     "metadata": {},
     "output_type": "execute_result"
    }
   ],
   "source": [
    "df = pd.read_csv('data_sa1.csv')\n",
    "df.head()"
   ]
  },
  {
   "cell_type": "code",
   "execution_count": 190,
   "id": "8262032b-33fa-4eaf-b987-70957b7d36a1",
   "metadata": {},
   "outputs": [
    {
     "data": {
      "text/html": [
       "<div>\n",
       "<style scoped>\n",
       "    .dataframe tbody tr th:only-of-type {\n",
       "        vertical-align: middle;\n",
       "    }\n",
       "\n",
       "    .dataframe tbody tr th {\n",
       "        vertical-align: top;\n",
       "    }\n",
       "\n",
       "    .dataframe thead th {\n",
       "        text-align: right;\n",
       "    }\n",
       "</style>\n",
       "<table border=\"1\" class=\"dataframe\">\n",
       "  <thead>\n",
       "    <tr style=\"text-align: right;\">\n",
       "      <th></th>\n",
       "      <th>Hours_Spent</th>\n",
       "      <th>Gender</th>\n",
       "    </tr>\n",
       "  </thead>\n",
       "  <tbody>\n",
       "    <tr>\n",
       "      <th>0</th>\n",
       "      <td>12</td>\n",
       "      <td>m</td>\n",
       "    </tr>\n",
       "    <tr>\n",
       "      <th>1</th>\n",
       "      <td>7</td>\n",
       "      <td>m</td>\n",
       "    </tr>\n",
       "    <tr>\n",
       "      <th>2</th>\n",
       "      <td>7</td>\n",
       "      <td>m</td>\n",
       "    </tr>\n",
       "    <tr>\n",
       "      <th>3</th>\n",
       "      <td>10</td>\n",
       "      <td>m</td>\n",
       "    </tr>\n",
       "    <tr>\n",
       "      <th>4</th>\n",
       "      <td>8</td>\n",
       "      <td>m</td>\n",
       "    </tr>\n",
       "    <tr>\n",
       "      <th>...</th>\n",
       "      <td>...</td>\n",
       "      <td>...</td>\n",
       "    </tr>\n",
       "    <tr>\n",
       "      <th>95</th>\n",
       "      <td>7</td>\n",
       "      <td>f</td>\n",
       "    </tr>\n",
       "    <tr>\n",
       "      <th>96</th>\n",
       "      <td>11</td>\n",
       "      <td>f</td>\n",
       "    </tr>\n",
       "    <tr>\n",
       "      <th>97</th>\n",
       "      <td>10</td>\n",
       "      <td>f</td>\n",
       "    </tr>\n",
       "    <tr>\n",
       "      <th>98</th>\n",
       "      <td>9</td>\n",
       "      <td>f</td>\n",
       "    </tr>\n",
       "    <tr>\n",
       "      <th>99</th>\n",
       "      <td>11</td>\n",
       "      <td>f</td>\n",
       "    </tr>\n",
       "  </tbody>\n",
       "</table>\n",
       "<p>100 rows × 2 columns</p>\n",
       "</div>"
      ],
      "text/plain": [
       "    Hours_Spent Gender\n",
       "0            12      m\n",
       "1             7      m\n",
       "2             7      m\n",
       "3            10      m\n",
       "4             8      m\n",
       "..          ...    ...\n",
       "95            7      f\n",
       "96           11      f\n",
       "97           10      f\n",
       "98            9      f\n",
       "99           11      f\n",
       "\n",
       "[100 rows x 2 columns]"
      ]
     },
     "execution_count": 190,
     "metadata": {},
     "output_type": "execute_result"
    }
   ],
   "source": [
    "df_males = df['Males'].to_frame()\n",
    "df_males['Gender'] = \"m\"\n",
    "\n",
    "df_females = df['Females'].to_frame()\n",
    "df_females['Gender'] = \"f\"\n",
    "\n",
    "df_males.columns = ['Hours_Spent', 'Gender']\n",
    "df_females.columns = ['Hours_Spent', 'Gender']\n",
    "\n",
    "combined_df = pd.concat([df_males, df_females], ignore_index=True)\n",
    "combined_df"
   ]
  },
  {
   "cell_type": "code",
   "execution_count": 188,
   "id": "9479300f-bf4b-4d53-b483-9f4249e33629",
   "metadata": {},
   "outputs": [
    {
     "data": {
      "text/html": [
       "<div>\n",
       "<style scoped>\n",
       "    .dataframe tbody tr th:only-of-type {\n",
       "        vertical-align: middle;\n",
       "    }\n",
       "\n",
       "    .dataframe tbody tr th {\n",
       "        vertical-align: top;\n",
       "    }\n",
       "\n",
       "    .dataframe thead th {\n",
       "        text-align: right;\n",
       "    }\n",
       "</style>\n",
       "<table border=\"1\" class=\"dataframe\">\n",
       "  <thead>\n",
       "    <tr style=\"text-align: right;\">\n",
       "      <th></th>\n",
       "      <th>Hours_Spent</th>\n",
       "      <th>Gender</th>\n",
       "      <th>z</th>\n",
       "    </tr>\n",
       "  </thead>\n",
       "  <tbody>\n",
       "    <tr>\n",
       "      <th>10</th>\n",
       "      <td>4</td>\n",
       "      <td>m</td>\n",
       "      <td>-2.701748</td>\n",
       "    </tr>\n",
       "    <tr>\n",
       "      <th>42</th>\n",
       "      <td>15</td>\n",
       "      <td>m</td>\n",
       "      <td>2.404649</td>\n",
       "    </tr>\n",
       "    <tr>\n",
       "      <th>82</th>\n",
       "      <td>6</td>\n",
       "      <td>f</td>\n",
       "      <td>-2.083702</td>\n",
       "    </tr>\n",
       "    <tr>\n",
       "      <th>93</th>\n",
       "      <td>14</td>\n",
       "      <td>f</td>\n",
       "      <td>2.421599</td>\n",
       "    </tr>\n",
       "  </tbody>\n",
       "</table>\n",
       "</div>"
      ],
      "text/plain": [
       "    Hours_Spent Gender         z\n",
       "10            4      m -2.701748\n",
       "42           15      m  2.404649\n",
       "82            6      f -2.083702\n",
       "93           14      f  2.421599"
      ]
     },
     "execution_count": 188,
     "metadata": {},
     "output_type": "execute_result"
    }
   ],
   "source": [
    "\n",
    "combined_df[abs(combined_df['z']) > 1.96]"
   ]
  },
  {
   "cell_type": "markdown",
   "id": "f44b465f-a6cb-485a-abf6-ec136de4a073",
   "metadata": {},
   "source": [
    "## Assumption 1\n",
    "You have one dependent variable that is measured at the continuous level."
   ]
  },
  {
   "cell_type": "markdown",
   "id": "c45cdd39-ac82-47c4-b1eb-bd777691c60b",
   "metadata": {},
   "source": [
    "## Assumption 2\n",
    "You have one independent variable that consists of two categorical, independent groups (i.e., a dichotomous variable)."
   ]
  },
  {
   "cell_type": "markdown",
   "id": "0cca4cd3-26d6-414e-a99d-94f6d96e367f",
   "metadata": {},
   "source": [
    "## Assumption 3\n",
    "You should have independence of observations, which means that there is no relationship between the observations in each group of the independent variable or between the groups themselves."
   ]
  },
  {
   "cell_type": "markdown",
   "id": "5ed1e5b4-01fb-48b3-834f-b6ddd9186a98",
   "metadata": {},
   "source": [
    "## Assumption 4\n",
    "There should be no significant outliers in the two groups of your independent variable in terms of the dependent variable."
   ]
  },
  {
   "cell_type": "code",
   "execution_count": 200,
   "id": "c3675824-feb2-46d5-b78e-119afd2e6953",
   "metadata": {},
   "outputs": [
    {
     "name": "stdout",
     "output_type": "stream",
     "text": [
      "    Hours_Spent Gender         z\n",
      "10            4      m -2.701748\n"
     ]
    }
   ],
   "source": [
    "mean_males = df_males['Hours_Spent'].mean()\n",
    "std_males = df_males['Hours_Spent'].std()\n",
    "df_males['z'] = (df_males['Hours_Spent'] - mean_males)/std_males\n",
    "\n",
    "\n",
    "mean_females = df_females['Hours_Spent'].mean()\n",
    "std_females = df_females['Hours_Spent'].std()\n",
    "df_females['z'] = (df_females['Hours_Spent'] - mean_females)/std_females\n",
    "\n",
    "combined_df = pd.concat([df_males, df_females], ignore_index=True)\n",
    "print(combined_df[abs(combined_df['z']) > 2.5])\n",
    "\n",
    "combined_df_no_outlier = combined_df[abs(combined_df['z']) < 2.5]"
   ]
  },
  {
   "cell_type": "markdown",
   "id": "1674fa3e-495b-4264-8432-53431c3593bc",
   "metadata": {},
   "source": [
    "## Assumption 5\n",
    "Your dependent variable should be approximately normally distributed for each group of the independent variable."
   ]
  },
  {
   "cell_type": "code",
   "execution_count": 213,
   "id": "11157fb7-f473-4de3-ba3b-5d43b4b3190d",
   "metadata": {
    "scrolled": true
   },
   "outputs": [
    {
     "name": "stdout",
     "output_type": "stream",
     "text": [
      "0.15885169453713505\n",
      "0.12919719507959687\n"
     ]
    }
   ],
   "source": [
    "males_only_series = combined_df_no_outlier[combined_df_no_outlier['Gender']=='m']['Hours_Spent']\n",
    "females_only_series = combined_df_no_outlier[combined_df_no_outlier['Gender']=='f']['Hours_Spent']\n",
    "\n",
    "stats_mal, p_value_mal = shapiro(males_only_series)\n",
    "stats_fem, p_value_fem = shapiro(females_only_series)\n",
    "print(p_value_mal)\n",
    "print(p_value_fem)"
   ]
  },
  {
   "cell_type": "code",
   "execution_count": 206,
   "id": "7249fa02-54ad-4970-a9dc-0af0e3a6020e",
   "metadata": {},
   "outputs": [
    {
     "data": {
      "image/png": "[encoded data removed]",
      "text/plain": [
       "<Figure size 800x600 with 1 Axes>"
      ]
     },
     "metadata": {},
     "output_type": "display_data"
    }
   ],
   "source": [
    "np.random.seed(42)\n",
    "plt.figure(figsize=(8, 6))\n",
    "sns.set(style=\"whitegrid\")\n",
    "\n",
    "sns.stripplot(x=\"Gender\", y=\"Hours_Spent\", data=combined_df_no_outlier, jitter=True, dodge=True, \n",
    "              hue=\"Gender\", palette=[\"#2ECC71\", \"#E74C3C\"], alpha=0.7, zorder=1, legend=False)\n",
    "\n",
    "sns.boxplot(x=\"Gender\", y=\"Hours_Spent\", data=combined_df_no_outlier, whis=np.inf, fliersize=0, \n",
    "            hue=\"Gender\", width=0.25, palette=[\"#2ECC71\", \"#E74C3C\"], zorder=2, dodge=False, legend=False)\n",
    "\n",
    "plt.title(\"Raincloud Plots (Without Distribution)\")\n",
    "plt.ylabel(\"Mischief\")\n",
    "plt.xlabel(\"Cloak\")\n",
    "plt.show()\n"
   ]
  },
  {
   "cell_type": "markdown",
   "id": "0d57c4fd-34ca-46b6-87fd-13c69260123c",
   "metadata": {},
   "source": [
    "## Assumption 6\n",
    "You have homogeneity of variances (i.e., the variance of the dependent variable is equal in each group of your independent variable)."
   ]
  },
  {
   "cell_type": "code",
   "execution_count": 215,
   "id": "a1eb30d5-8c85-4b15-8445-7c3a4797c4e0",
   "metadata": {},
   "outputs": [
    {
     "name": "stdout",
     "output_type": "stream",
     "text": [
      "LeveneResult(statistic=0.2444673109043188, pvalue=0.622115990194636)\n"
     ]
    }
   ],
   "source": [
    "levene = levene(females_only_series, males_only_series)\n",
    "print(levene)"
   ]
  },
  {
   "cell_type": "code",
   "execution_count": 217,
   "id": "663ff65c-4c59-4dc2-8ad5-44eb1e23577f",
   "metadata": {},
   "outputs": [
    {
     "name": "stdout",
     "output_type": "stream",
     "text": [
      "0.5316505676186108\n"
     ]
    }
   ],
   "source": [
    "stats, p_value = ttest_ind(males_only_series, females_only_series)\n",
    "print(p_value)"
   ]
  },
  {
   "cell_type": "code",
   "execution_count": 219,
   "id": "b2618f95-aec7-4d48-834e-869944103034",
   "metadata": {},
   "outputs": [],
   "source": [
    "def desc_stats(data_series):\n",
    "    valid = data_series.size\n",
    "    median = data_series.median()\n",
    "    mean = data_series.mean()\n",
    "    mode = data_series.mode()\n",
    "    std = data_series.std()\n",
    "    var = data_series.var()\n",
    "    skew = data_series.skew()\n",
    "    stdSkew = (((6 * valid * (valid - 1)) / ((valid - 2) * (valid + 1) * (valid + 3)))**0.5)\n",
    "    kurt = data_series.kurt()\n",
    "    stdKurt = (((24 * valid * (valid - 1)**2) / ((valid - 2) * (valid - 3) * (valid + 3) * (valid + 5)))**0.5)\n",
    "    min_val = data_series.min()\n",
    "    max_val = data_series.max()\n",
    "    percentiles = [0.25, 0.50, 0.75, 0.90, 0.95]\n",
    "    quartiles_list = data_series.quantile(percentiles)\n",
    "    return {\n",
    "            'valid_count': valid,\n",
    "            'median': median,\n",
    "            'mean': mean,\n",
    "            'mode': mode.values if not mode.empty else None,\n",
    "            'std': std,\n",
    "            'variance': var,\n",
    "            'skewness': skew,\n",
    "            'std_skew': stdSkew,\n",
    "            'kurtosis': kurt,\n",
    "            'std_kurtosis': stdKurt,\n",
    "            'min': min_val,\n",
    "            'max': max_val,\n",
    "            'percentiles': quartiles_list.to_dict()\n",
    "        }"
   ]
  },
  {
   "cell_type": "code",
   "execution_count": 221,
   "id": "e914d59b-57b8-4f80-8ee6-4afecad914bc",
   "metadata": {},
   "outputs": [
    {
     "data": {
      "text/plain": [
       "{'valid_count': 49,\n",
       " 'median': 10.0,\n",
       " 'mean': 9.938775510204081,\n",
       " 'mode': array([ 9, 10], dtype=int64),\n",
       " 'std': 2.004247191022377,\n",
       " 'variance': 4.017006802721089,\n",
       " 'skewness': 0.20078472297241773,\n",
       " 'std_skew': 0.33982762550634865,\n",
       " 'kurtosis': -0.34861104168125223,\n",
       " 'std_kurtosis': 0.6680646648017314,\n",
       " 'min': 6,\n",
       " 'max': 15,\n",
       " 'percentiles': {0.25: 9.0, 0.5: 10.0, 0.75: 11.0, 0.9: 13.0, 0.95: 13.0}}"
      ]
     },
     "execution_count": 221,
     "metadata": {},
     "output_type": "execute_result"
    }
   ],
   "source": [
    "desc_stats(males_only_series)"
   ]
  },
  {
   "cell_type": "code",
   "execution_count": 223,
   "id": "8c87715e-07ad-4627-952e-3fff99fd7137",
   "metadata": {},
   "outputs": [
    {
     "data": {
      "text/plain": [
       "{'valid_count': 50,\n",
       " 'median': 9.5,\n",
       " 'mean': 9.7,\n",
       " 'mode': array([9], dtype=int64),\n",
       " 'std': 1.7756861278080076,\n",
       " 'variance': 3.1530612244897958,\n",
       " 'skewness': 0.13441178337818513,\n",
       " 'std_skew': 0.33660070854935886,\n",
       " 'kurtosis': -0.44179202858004274,\n",
       " 'std_kurtosis': 0.661908374514148,\n",
       " 'min': 6,\n",
       " 'max': 14,\n",
       " 'percentiles': {0.25: 9.0, 0.5: 9.5, 0.75: 11.0, 0.9: 12.0, 0.95: 12.0}}"
      ]
     },
     "execution_count": 223,
     "metadata": {},
     "output_type": "execute_result"
    }
   ],
   "source": [
    "desc_stats(females_only_series)"
   ]
  }
 ],
 "metadata": {
  "kernelspec": {
   "display_name": "Python 3 (ipykernel)",
   "language": "python",
   "name": "python3"
  },
  "language_info": {
   "codemirror_mode": {
    "name": "ipython",
    "version": 3
   },
   "file_extension": ".py",
   "mimetype": "text/x-python",
   "name": "python",
   "nbconvert_exporter": "python",
   "pygments_lexer": "ipython3",
   "version": "3.12.4"
  }
 },
 "nbformat": 4,
 "nbformat_minor": 5
}
