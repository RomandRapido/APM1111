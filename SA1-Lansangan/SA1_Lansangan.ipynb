{
 "cells": [
  {
   "cell_type": "markdown",
   "id": "07753a60-c98b-412d-b0cd-1c8a546c2bd5",
   "metadata": {},
   "source": [
    "<div style=\"text-align: center;\"> <h3>Statistical Theory</h3>\n",
    "<h5>Summative Assessment 1</h5>\n",
    "<h5><u>By Romand Lansangan</u></h5>\n",
    "    </div>\n",
    "    \n",
    "---"
   ]
  },
  {
   "cell_type": "markdown",
   "id": "9f5aa400-87be-4194-b9d7-7db4aa5a8baa",
   "metadata": {},
   "source": [
    "### Introduction\n",
    "From personal to professional context, mobile phones have become an integral part of every individual's daily lives from all walks of life—a phenomenon especially true to college students. Understanding how much time they spend their time on their cellphones provides us a summary of the extent to how much college student's lives revolves around these rectangular boxes. Knowing such insights may prove to be critical on shaping the future courses of actions for the students and the institutions that might concern them. \n",
    "\n",
    "In this study, we shall utilize the data set from a study about *determining the average time spent on cellphones by male and female college students from Midwestern University*. In the said data set, we are presented with 2 columns, one for \"Male\" and other for \"Females,\" with a sample size of 50 for each. Under the columns are the number of hours they spent talking on their cell phones per week.  \n",
    "<!-- ![](https://github.com/RomandRapido/APM1111/blob/main/SA1-Lansangan/table_1.jpg?raw=true) -->\n",
    "\n",
    "The pupropse of this study is to examine whether there is a significant difference in the average time spent talking on cellphones between the two demographics of college students.\n",
    "\n",
    "### Methodology\n",
    "#### Hypothesis\n",
    "The goal is to determine if there is a statistically significant difference between the mean time spend on cell phones per week of males ($\\mu_1$) and females ($\\mu_2$) college students. We ought to use statistical hypothesis testing to verify the significant validity of the following hypothesis:\n",
    "\n",
    "**Null Hypothesis ($H_0$)**: There is no significant difference in the average time spent talking on cellphones per week between males and females attending Midwestern University ($\\mu_1 = \\mu_2$).\n",
    "\n",
    "**Alternative Hypothesis ($H_1$)**: There is a significant difference between the average time spent talking on cellphones per week between males and females attending Midwestern University ($\\mu_1 \\neq \\mu_2$).\n",
    "\n",
    "#### Statistical Testing Method\n",
    "To test if there's a significant mean difference between two samples, we ought to conduct a **two-sample or independent t-test**, therefore we'll be working with t-distribution. We shall use the said test and distribution since our samples are independent from each other, have a relatively smaller sample size, and because a two samples t-test is computed relative to variance while taking into account the sample sizes through the use of degrees of freedom. \n",
    "$$\n",
    "\\mu_{1 \\ - \\ 2} = \\frac{\\mu_1 \\ - \\ \\mu_2 \\ - \\ \\mu_0}{\\sigma_{1 \\  - \\ 2}} \n",
    "$$\n",
    "where <br>\n",
    "$\\mu_{1 \\ - \\ 2}$ is the mean difference; <br>\n",
    "$\\mu_1$ is the mean of male students;<br>\n",
    "$\\mu_2$ is the mean of female students;<br>\n",
    "$\\mu_0$ is the null hypothesis. Since H0: $\\mu_1=\\mu_2$, the $\\mu_0$ shall be 0 ($\\mu_1 - \\mu_2 = 0$);<br>\n",
    "$\\sigma_{1 \\  - \\ 2} = \\sqrt{\\frac{\\sigma_1^2}{N_1} + \\frac{\\sigma_2^2}{N_2}}$ is the standard error for the mean difference.\n",
    "\n",
    "#### Significance and Confidence Level\n",
    "We ought to estimate the true mean difference population parameter with $95\\% \\ level \\ of \\ confidence$, thus we shall use $0.05 \\ level  \\ of \\ significance$. This indicates that for the evidence to be statistically significant enough to reject the null hypothesis, $p-value < 0.05$. This level of significance is a common practice but we have to keep in mind that picking a 0.05 level of significance poses the risk of commiting a type I error, rejecting the null hypothesis when it is actually true, 5% of the time.\n",
    "\n",
    "#### Procedures\n",
    "1. Cleaning of Data\n",
    "2. Descriptive Statistical Summary (*item 3 in SA1*)\n",
    "3. Checking of the Assumptions\n",
    "5. Hypothesis Testing (*item 2 in SA1*)\n",
    "6. Confidence Intervals (*item 4 in SA1*)\n",
    "7. Conclusion \n",
    "8. Recommendation (*item 5 in SA1*)"
   ]
  },
  {
   "cell_type": "markdown",
   "id": "24ce74fe-f9f7-4ad2-97f4-78d7631cba92",
   "metadata": {},
   "source": [
    "### Cleaning of Data"
   ]
  },
  {
   "cell_type": "code",
   "execution_count": 74,
   "id": "0f698808-8286-4655-b149-9dcaefad5f3a",
   "metadata": {},
   "outputs": [],
   "source": [
    "import pandas as pd\n",
    "from scipy.stats import ttest_ind\n",
    "from scipy.stats import shapiro\n",
    "import seaborn as sns\n",
    "import matplotlib.pyplot as plt\n",
    "import numpy as np\n",
    "from scipy.stats import levene"
   ]
  },
  {
   "cell_type": "code",
   "execution_count": 75,
   "id": "5462aeaa-6bab-4163-b7b5-9e0cbf307619",
   "metadata": {},
   "outputs": [
    {
     "data": {
      "text/html": [
       "<div>\n",
       "<style scoped>\n",
       "    .dataframe tbody tr th:only-of-type {\n",
       "        vertical-align: middle;\n",
       "    }\n",
       "\n",
       "    .dataframe tbody tr th {\n",
       "        vertical-align: top;\n",
       "    }\n",
       "\n",
       "    .dataframe thead th {\n",
       "        text-align: right;\n",
       "    }\n",
       "</style>\n",
       "<table border=\"1\" class=\"dataframe\">\n",
       "  <thead>\n",
       "    <tr style=\"text-align: right;\">\n",
       "      <th></th>\n",
       "      <th>Males</th>\n",
       "      <th>Females</th>\n",
       "    </tr>\n",
       "  </thead>\n",
       "  <tbody>\n",
       "    <tr>\n",
       "      <th>0</th>\n",
       "      <td>12</td>\n",
       "      <td>11</td>\n",
       "    </tr>\n",
       "    <tr>\n",
       "      <th>1</th>\n",
       "      <td>7</td>\n",
       "      <td>10</td>\n",
       "    </tr>\n",
       "    <tr>\n",
       "      <th>2</th>\n",
       "      <td>7</td>\n",
       "      <td>11</td>\n",
       "    </tr>\n",
       "    <tr>\n",
       "      <th>3</th>\n",
       "      <td>10</td>\n",
       "      <td>10</td>\n",
       "    </tr>\n",
       "    <tr>\n",
       "      <th>4</th>\n",
       "      <td>8</td>\n",
       "      <td>11</td>\n",
       "    </tr>\n",
       "  </tbody>\n",
       "</table>\n",
       "</div>"
      ],
      "text/plain": [
       "   Males  Females\n",
       "0     12       11\n",
       "1      7       10\n",
       "2      7       11\n",
       "3     10       10\n",
       "4      8       11"
      ]
     },
     "execution_count": 75,
     "metadata": {},
     "output_type": "execute_result"
    }
   ],
   "source": [
    "df = pd.read_csv('data_sa1.csv')\n",
    "df.head()"
   ]
  },
  {
   "cell_type": "code",
   "execution_count": 76,
   "id": "8262032b-33fa-4eaf-b987-70957b7d36a1",
   "metadata": {},
   "outputs": [
    {
     "data": {
      "text/html": [
       "<div>\n",
       "<style scoped>\n",
       "    .dataframe tbody tr th:only-of-type {\n",
       "        vertical-align: middle;\n",
       "    }\n",
       "\n",
       "    .dataframe tbody tr th {\n",
       "        vertical-align: top;\n",
       "    }\n",
       "\n",
       "    .dataframe thead th {\n",
       "        text-align: right;\n",
       "    }\n",
       "</style>\n",
       "<table border=\"1\" class=\"dataframe\">\n",
       "  <thead>\n",
       "    <tr style=\"text-align: right;\">\n",
       "      <th></th>\n",
       "      <th>Hours_Spent</th>\n",
       "      <th>Gender</th>\n",
       "    </tr>\n",
       "  </thead>\n",
       "  <tbody>\n",
       "    <tr>\n",
       "      <th>0</th>\n",
       "      <td>12</td>\n",
       "      <td>m</td>\n",
       "    </tr>\n",
       "    <tr>\n",
       "      <th>1</th>\n",
       "      <td>7</td>\n",
       "      <td>m</td>\n",
       "    </tr>\n",
       "    <tr>\n",
       "      <th>2</th>\n",
       "      <td>7</td>\n",
       "      <td>m</td>\n",
       "    </tr>\n",
       "    <tr>\n",
       "      <th>3</th>\n",
       "      <td>10</td>\n",
       "      <td>m</td>\n",
       "    </tr>\n",
       "    <tr>\n",
       "      <th>4</th>\n",
       "      <td>8</td>\n",
       "      <td>m</td>\n",
       "    </tr>\n",
       "    <tr>\n",
       "      <th>...</th>\n",
       "      <td>...</td>\n",
       "      <td>...</td>\n",
       "    </tr>\n",
       "    <tr>\n",
       "      <th>95</th>\n",
       "      <td>7</td>\n",
       "      <td>f</td>\n",
       "    </tr>\n",
       "    <tr>\n",
       "      <th>96</th>\n",
       "      <td>11</td>\n",
       "      <td>f</td>\n",
       "    </tr>\n",
       "    <tr>\n",
       "      <th>97</th>\n",
       "      <td>10</td>\n",
       "      <td>f</td>\n",
       "    </tr>\n",
       "    <tr>\n",
       "      <th>98</th>\n",
       "      <td>9</td>\n",
       "      <td>f</td>\n",
       "    </tr>\n",
       "    <tr>\n",
       "      <th>99</th>\n",
       "      <td>11</td>\n",
       "      <td>f</td>\n",
       "    </tr>\n",
       "  </tbody>\n",
       "</table>\n",
       "<p>100 rows × 2 columns</p>\n",
       "</div>"
      ],
      "text/plain": [
       "    Hours_Spent Gender\n",
       "0            12      m\n",
       "1             7      m\n",
       "2             7      m\n",
       "3            10      m\n",
       "4             8      m\n",
       "..          ...    ...\n",
       "95            7      f\n",
       "96           11      f\n",
       "97           10      f\n",
       "98            9      f\n",
       "99           11      f\n",
       "\n",
       "[100 rows x 2 columns]"
      ]
     },
     "execution_count": 76,
     "metadata": {},
     "output_type": "execute_result"
    }
   ],
   "source": [
    "df_males = df['Males'].to_frame()\n",
    "df_males['Gender'] = \"m\"\n",
    "\n",
    "df_females = df['Females'].to_frame()\n",
    "df_females['Gender'] = \"f\"\n",
    "\n",
    "df_males.columns = ['Hours_Spent', 'Gender']\n",
    "df_females.columns = ['Hours_Spent', 'Gender']\n",
    "\n",
    "combined_df = pd.concat([df_males, df_females], ignore_index=True)\n",
    "combined_df"
   ]
  },
  {
   "cell_type": "code",
   "execution_count": 77,
   "id": "a15542a2-d72e-43b5-a4bb-6a98b438b7ca",
   "metadata": {},
   "outputs": [
    {
     "data": {
      "text/plain": [
       "Hours_Spent    0\n",
       "Gender         0\n",
       "dtype: int64"
      ]
     },
     "execution_count": 77,
     "metadata": {},
     "output_type": "execute_result"
    }
   ],
   "source": [
    "combined_df.isna().sum()"
   ]
  },
  {
   "cell_type": "markdown",
   "id": "a3539efa-113e-4c59-95a7-89d419dd27cc",
   "metadata": {},
   "source": [
    "### Descriptive Statistical Summary"
   ]
  },
  {
   "cell_type": "code",
   "execution_count": 79,
   "id": "b606ed27-a1b4-4fe1-9b09-1a7f214c4f41",
   "metadata": {},
   "outputs": [],
   "source": [
    "def desc_stats(data_series):\n",
    "    valid = data_series.size\n",
    "    median = data_series.median()\n",
    "    mean = data_series.mean()\n",
    "    mode = data_series.mode()\n",
    "    std = data_series.std()\n",
    "    var = data_series.var()\n",
    "    skew = data_series.skew()\n",
    "    stdSkew = (((6 * valid * (valid - 1)) / ((valid - 2) * (valid + 1) * (valid + 3)))**0.5)\n",
    "    kurt = data_series.kurt()\n",
    "    stdKurt = (((24 * valid * (valid - 1)**2) / ((valid - 2) * (valid - 3) * (valid + 3) * (valid + 5)))**0.5)\n",
    "    min_val = data_series.min()\n",
    "    max_val = data_series.max()\n",
    "    percentiles = [0.25, 0.50, 0.75]\n",
    "    quartiles_list = data_series.quantile(percentiles)\n",
    "    return {\n",
    "            'valid_count': valid,\n",
    "            'median': median,\n",
    "            'mean': mean,\n",
    "            'mode': mode.values if not mode.empty else None,\n",
    "            'std': std,\n",
    "            'variance': var,\n",
    "            'skewness': skew,\n",
    "            'std_skew': stdSkew,\n",
    "            'kurtosis': kurt,\n",
    "            'std_kurtosis': stdKurt,\n",
    "            'min': min_val,\n",
    "            'max': max_val,\n",
    "            'percentiles': quartiles_list.to_dict()\n",
    "        }"
   ]
  },
  {
   "cell_type": "code",
   "execution_count": 80,
   "id": "e0ec735d-1ed3-456b-853b-89699c5113fa",
   "metadata": {},
   "outputs": [
    {
     "data": {
      "text/html": [
       "<div>\n",
       "<style scoped>\n",
       "    .dataframe tbody tr th:only-of-type {\n",
       "        vertical-align: middle;\n",
       "    }\n",
       "\n",
       "    .dataframe tbody tr th {\n",
       "        vertical-align: top;\n",
       "    }\n",
       "\n",
       "    .dataframe thead th {\n",
       "        text-align: right;\n",
       "    }\n",
       "</style>\n",
       "<table border=\"1\" class=\"dataframe\">\n",
       "  <thead>\n",
       "    <tr style=\"text-align: right;\">\n",
       "      <th></th>\n",
       "      <th>Male</th>\n",
       "      <th>Female</th>\n",
       "    </tr>\n",
       "  </thead>\n",
       "  <tbody>\n",
       "    <tr>\n",
       "      <th>valid_count</th>\n",
       "      <td>50</td>\n",
       "      <td>50</td>\n",
       "    </tr>\n",
       "    <tr>\n",
       "      <th>median</th>\n",
       "      <td>10.0</td>\n",
       "      <td>9.5</td>\n",
       "    </tr>\n",
       "    <tr>\n",
       "      <th>mean</th>\n",
       "      <td>9.82</td>\n",
       "      <td>9.7</td>\n",
       "    </tr>\n",
       "    <tr>\n",
       "      <th>mode</th>\n",
       "      <td>[9, 10]</td>\n",
       "      <td>[9]</td>\n",
       "    </tr>\n",
       "    <tr>\n",
       "      <th>std</th>\n",
       "      <td>2.154161</td>\n",
       "      <td>1.775686</td>\n",
       "    </tr>\n",
       "    <tr>\n",
       "      <th>variance</th>\n",
       "      <td>4.640408</td>\n",
       "      <td>3.153061</td>\n",
       "    </tr>\n",
       "    <tr>\n",
       "      <th>skewness</th>\n",
       "      <td>-0.114676</td>\n",
       "      <td>0.134412</td>\n",
       "    </tr>\n",
       "    <tr>\n",
       "      <th>std_skew</th>\n",
       "      <td>0.336601</td>\n",
       "      <td>0.336601</td>\n",
       "    </tr>\n",
       "    <tr>\n",
       "      <th>kurtosis</th>\n",
       "      <td>0.177262</td>\n",
       "      <td>-0.441792</td>\n",
       "    </tr>\n",
       "    <tr>\n",
       "      <th>std_kurtosis</th>\n",
       "      <td>0.661908</td>\n",
       "      <td>0.661908</td>\n",
       "    </tr>\n",
       "    <tr>\n",
       "      <th>min</th>\n",
       "      <td>4</td>\n",
       "      <td>6</td>\n",
       "    </tr>\n",
       "    <tr>\n",
       "      <th>max</th>\n",
       "      <td>15</td>\n",
       "      <td>14</td>\n",
       "    </tr>\n",
       "    <tr>\n",
       "      <th>percentiles</th>\n",
       "      <td>{0.25: 9.0, 0.5: 10.0, 0.75: 11.0}</td>\n",
       "      <td>{0.25: 9.0, 0.5: 9.5, 0.75: 11.0}</td>\n",
       "    </tr>\n",
       "  </tbody>\n",
       "</table>\n",
       "</div>"
      ],
      "text/plain": [
       "                                            Male  \\\n",
       "valid_count                                   50   \n",
       "median                                      10.0   \n",
       "mean                                        9.82   \n",
       "mode                                     [9, 10]   \n",
       "std                                     2.154161   \n",
       "variance                                4.640408   \n",
       "skewness                               -0.114676   \n",
       "std_skew                                0.336601   \n",
       "kurtosis                                0.177262   \n",
       "std_kurtosis                            0.661908   \n",
       "min                                            4   \n",
       "max                                           15   \n",
       "percentiles   {0.25: 9.0, 0.5: 10.0, 0.75: 11.0}   \n",
       "\n",
       "                                         Female  \n",
       "valid_count                                  50  \n",
       "median                                      9.5  \n",
       "mean                                        9.7  \n",
       "mode                                        [9]  \n",
       "std                                    1.775686  \n",
       "variance                               3.153061  \n",
       "skewness                               0.134412  \n",
       "std_skew                               0.336601  \n",
       "kurtosis                              -0.441792  \n",
       "std_kurtosis                           0.661908  \n",
       "min                                           6  \n",
       "max                                          14  \n",
       "percentiles   {0.25: 9.0, 0.5: 9.5, 0.75: 11.0}  "
      ]
     },
     "execution_count": 80,
     "metadata": {},
     "output_type": "execute_result"
    }
   ],
   "source": [
    "male_sample_desc = desc_stats(df_males['Hours_Spent'])\n",
    "female_sample_desc = desc_stats(df_females['Hours_Spent'])\n",
    "desc_stats_df = pd.DataFrame({'Male': male_sample_desc, 'Female' : female_sample_desc})\n",
    "desc_stats_df"
   ]
  },
  {
   "cell_type": "markdown",
   "id": "1f72ae1f-ca4e-4b6f-9b25-b1451e2678a9",
   "metadata": {},
   "source": [
    "### Checking of the Assumptions"
   ]
  },
  {
   "cell_type": "markdown",
   "id": "f44b465f-a6cb-485a-abf6-ec136de4a073",
   "metadata": {},
   "source": [
    "#### Assumption 1\n",
    "You have one dependent variable that is measured at the continuous level."
   ]
  },
  {
   "cell_type": "code",
   "execution_count": 83,
   "id": "01f8b0ec-3b7f-41a8-8571-3a3d7fb7f4c8",
   "metadata": {},
   "outputs": [
    {
     "data": {
      "text/plain": [
       "Hours_Spent     int64\n",
       "Gender         object\n",
       "dtype: object"
      ]
     },
     "execution_count": 83,
     "metadata": {},
     "output_type": "execute_result"
    }
   ],
   "source": [
    "combined_df.dtypes"
   ]
  },
  {
   "cell_type": "markdown",
   "id": "90581faa-2c1c-4992-b0a4-b552d90dc436",
   "metadata": {},
   "source": [
    "As one can notice, our dependent variable is an integer. Technically speaking, *int* isn't a continuous data type but rather a discrete one. Nevertheless, we can still opt to use independent t-test when all groups are normally distributed (which we shall test in Assumption 5)."
   ]
  },
  {
   "cell_type": "markdown",
   "id": "c45cdd39-ac82-47c4-b1eb-bd777691c60b",
   "metadata": {},
   "source": [
    "#### Assumption 2\n",
    "You have one independent variable that consists of two categorical, independent groups (i.e., a dichotomous variable)."
   ]
  },
  {
   "cell_type": "code",
   "execution_count": 86,
   "id": "c58fd3f4-cf8e-4a89-84f0-f1b170f25c3f",
   "metadata": {},
   "outputs": [
    {
     "data": {
      "text/plain": [
       "array(['m', 'f'], dtype=object)"
      ]
     },
     "execution_count": 86,
     "metadata": {},
     "output_type": "execute_result"
    }
   ],
   "source": [
    "combined_df['Gender'].unique()"
   ]
  },
  {
   "cell_type": "markdown",
   "id": "0cca4cd3-26d6-414e-a99d-94f6d96e367f",
   "metadata": {},
   "source": [
    "#### Assumption 3\n",
    "You should have independence of observations, which means that there is no relationship between the observations in each group of the independent variable or between the groups themselves.\n",
    "\n",
    "\n",
    "As we have mentioned earlier, both groups (Male and Female) are independent from each other."
   ]
  },
  {
   "cell_type": "markdown",
   "id": "5ed1e5b4-01fb-48b3-834f-b6ddd9186a98",
   "metadata": {},
   "source": [
    "#### Assumption 4\n",
    "There should be no significant outliers in the two groups of your independent variable in terms of the dependent variable.\n",
    "\n",
    "For the detection of outlier, we shall opt to use the standardized z-scores. But before we can apply such method, let us first test for normality using Shapiro-Wilk Test for normality. \n",
    "\n",
    "The null hypothesis: There is no significant difference in a normal distribution and the distribution in terms of the number of hours spent on talking on their cellphones (\"Hours_Spent\"). <br>\n",
    "The alternate hypothesis: The sample is not normally distributed in terms of the number ofhours spent talking on cellphones."
   ]
  },
  {
   "cell_type": "code",
   "execution_count": 89,
   "id": "29ff152c-f031-4a08-94f3-807ecbe8c6bc",
   "metadata": {},
   "outputs": [
    {
     "name": "stdout",
     "output_type": "stream",
     "text": [
      "Male: ShapiroResult(statistic=0.9746539794869001, pvalue=0.3539889622001458)\n",
      "Female: ShapiroResult(statistic=0.9638767847871548, pvalue=0.12919719507959687)\n"
     ]
    }
   ],
   "source": [
    "assump_three_test_male = shapiro(combined_df[combined_df['Gender'] == 'm']['Hours_Spent'])\n",
    "assump_three_test_female = shapiro(combined_df[combined_df['Gender'] == 'f']['Hours_Spent'])\n",
    "\n",
    "print(f\"Male: {assump_three_test_male}\")\n",
    "print(f\"Female: {assump_three_test_female}\")"
   ]
  },
  {
   "cell_type": "markdown",
   "id": "8dae384b-07b9-47c1-bc88-664aab804629",
   "metadata": {},
   "source": [
    "In order to use z-score to detect outliers, we conduct a test for normality using Shapiro-Wilk test for normality. The result showed that there is no significant difference that shows the deviation of male group(*W*=.97,*p*=.35) and female group(*W*=.96,*p*=.13) from the normal distribution, with both their p-value being $> 0.05$. Thus we fail to reject the null hypothesis at a 0.05 level of significance. We can now proceed to calculating the z-score for each group.\n",
    "\n",
    "$$\n",
    "z = \\frac{X - \\overline{X}}{\\sigma}\n",
    "$$\n",
    "\n",
    "Note that we ought to calculate the z score for male and female differently, relative to their group's sample statistics."
   ]
  },
  {
   "cell_type": "code",
   "execution_count": 91,
   "id": "c3675824-feb2-46d5-b78e-119afd2e6953",
   "metadata": {},
   "outputs": [
    {
     "data": {
      "text/html": [
       "<div>\n",
       "<style scoped>\n",
       "    .dataframe tbody tr th:only-of-type {\n",
       "        vertical-align: middle;\n",
       "    }\n",
       "\n",
       "    .dataframe tbody tr th {\n",
       "        vertical-align: top;\n",
       "    }\n",
       "\n",
       "    .dataframe thead th {\n",
       "        text-align: right;\n",
       "    }\n",
       "</style>\n",
       "<table border=\"1\" class=\"dataframe\">\n",
       "  <thead>\n",
       "    <tr style=\"text-align: right;\">\n",
       "      <th></th>\n",
       "      <th>Hours_Spent</th>\n",
       "      <th>Gender</th>\n",
       "      <th>z</th>\n",
       "    </tr>\n",
       "  </thead>\n",
       "  <tbody>\n",
       "    <tr>\n",
       "      <th>0</th>\n",
       "      <td>12</td>\n",
       "      <td>m</td>\n",
       "      <td>1.011995</td>\n",
       "    </tr>\n",
       "    <tr>\n",
       "      <th>1</th>\n",
       "      <td>7</td>\n",
       "      <td>m</td>\n",
       "      <td>-1.309095</td>\n",
       "    </tr>\n",
       "    <tr>\n",
       "      <th>2</th>\n",
       "      <td>7</td>\n",
       "      <td>m</td>\n",
       "      <td>-1.309095</td>\n",
       "    </tr>\n",
       "    <tr>\n",
       "      <th>3</th>\n",
       "      <td>10</td>\n",
       "      <td>m</td>\n",
       "      <td>0.083559</td>\n",
       "    </tr>\n",
       "    <tr>\n",
       "      <th>4</th>\n",
       "      <td>8</td>\n",
       "      <td>m</td>\n",
       "      <td>-0.844877</td>\n",
       "    </tr>\n",
       "    <tr>\n",
       "      <th>5</th>\n",
       "      <td>10</td>\n",
       "      <td>m</td>\n",
       "      <td>0.083559</td>\n",
       "    </tr>\n",
       "    <tr>\n",
       "      <th>6</th>\n",
       "      <td>11</td>\n",
       "      <td>m</td>\n",
       "      <td>0.547777</td>\n",
       "    </tr>\n",
       "    <tr>\n",
       "      <th>7</th>\n",
       "      <td>9</td>\n",
       "      <td>m</td>\n",
       "      <td>-0.380659</td>\n",
       "    </tr>\n",
       "    <tr>\n",
       "      <th>8</th>\n",
       "      <td>9</td>\n",
       "      <td>m</td>\n",
       "      <td>-0.380659</td>\n",
       "    </tr>\n",
       "    <tr>\n",
       "      <th>9</th>\n",
       "      <td>13</td>\n",
       "      <td>m</td>\n",
       "      <td>1.476213</td>\n",
       "    </tr>\n",
       "  </tbody>\n",
       "</table>\n",
       "</div>"
      ],
      "text/plain": [
       "   Hours_Spent Gender         z\n",
       "0           12      m  1.011995\n",
       "1            7      m -1.309095\n",
       "2            7      m -1.309095\n",
       "3           10      m  0.083559\n",
       "4            8      m -0.844877\n",
       "5           10      m  0.083559\n",
       "6           11      m  0.547777\n",
       "7            9      m -0.380659\n",
       "8            9      m -0.380659\n",
       "9           13      m  1.476213"
      ]
     },
     "execution_count": 91,
     "metadata": {},
     "output_type": "execute_result"
    }
   ],
   "source": [
    "mean_males = df_males['Hours_Spent'].mean()\n",
    "std_males = df_males['Hours_Spent'].std()\n",
    "df_males['z'] = (df_males['Hours_Spent'] - mean_males)/std_males\n",
    "\n",
    "mean_females = df_females['Hours_Spent'].mean()\n",
    "std_females = df_females['Hours_Spent'].std()\n",
    "df_females['z'] = (df_females['Hours_Spent'] - mean_females)/std_females\n",
    "\n",
    "combined_df = pd.concat([df_males, df_females], ignore_index=True)\n",
    "combined_df.head(10)"
   ]
  },
  {
   "cell_type": "markdown",
   "id": "dea62dff-89de-45ef-9e22-4cd6437a4fc0",
   "metadata": {},
   "source": [
    "Now in small sample size such as the one we have ($N=50$ for each group), our accepted z-score shall be $|z-score| < 2.5$, or only the observed values $2.5\\sigma$ away from their relative mean shall proceed, all those outside are considered outliers."
   ]
  },
  {
   "cell_type": "code",
   "execution_count": 93,
   "id": "87d038b8-7112-43f1-b4f8-c888c5767739",
   "metadata": {},
   "outputs": [
    {
     "name": "stdout",
     "output_type": "stream",
     "text": [
      "    Hours_Spent Gender         z\n",
      "10            4      m -2.701748\n",
      "Empty DataFrame\n",
      "Columns: [Hours_Spent, Gender, z]\n",
      "Index: []\n"
     ]
    }
   ],
   "source": [
    "print(combined_df[abs(combined_df['z']) > 2.5])\n",
    "combined_df_no_outlier = combined_df[abs(combined_df['z']) < 2.5]\n",
    "print(combined_df_no_outlier[abs(combined_df_no_outlier['z']) > 2.5])"
   ]
  },
  {
   "cell_type": "markdown",
   "id": "e7dd84dd-e435-4211-af2e-290b0dfb2f53",
   "metadata": {},
   "source": [
    "In our case, the row with id = 10 is an outlier so we shall remove it."
   ]
  },
  {
   "cell_type": "markdown",
   "id": "1674fa3e-495b-4264-8432-53431c3593bc",
   "metadata": {},
   "source": [
    "#### Assumption 5\n",
    "Your dependent variable should be approximately normally distributed for each group of the independent variable.\n",
    "\n",
    "Using the modified data frame (without outliers), let us once again test for normality using Shapiro-Wilk test.\n",
    "\n",
    "The null hypothesis: There is no significant difference in a normal distribution and the distribution in terms of the number of hours spent on talking on their cellphones (\"Hours_Spent\"). <br>\n",
    "The alternate hypothesis: The sample is not normally distributed in terms of the number ofhours spent talking on cellphones\n"
   ]
  },
  {
   "cell_type": "code",
   "execution_count": 96,
   "id": "11157fb7-f473-4de3-ba3b-5d43b4b3190d",
   "metadata": {
    "scrolled": true
   },
   "outputs": [
    {
     "name": "stdout",
     "output_type": "stream",
     "text": [
      "Male: ShapiroResult(statistic=0.9654655212694788, pvalue=0.15885169453713505)\n",
      "Female: ShapiroResult(statistic=0.9638767847871548, pvalue=0.12919719507959687)\n"
     ]
    }
   ],
   "source": [
    "males_only_series = combined_df_no_outlier[combined_df_no_outlier['Gender']=='m']['Hours_Spent']\n",
    "females_only_series = combined_df_no_outlier[combined_df_no_outlier['Gender']=='f']['Hours_Spent']\n",
    "\n",
    "assump_four_mal = shapiro(males_only_series)\n",
    "assump_four_fem = shapiro(females_only_series)\n",
    "print(f\"Male: {assump_four_mal}\")\n",
    "print(f\"Female: {assump_four_fem}\")"
   ]
  },
  {
   "cell_type": "markdown",
   "id": "b38b0ed7-e6e1-432f-84d2-d2cf746b902f",
   "metadata": {},
   "source": [
    "To test for normality between the two groups, we opted for Shapiro-Wilk test for normality. The result shown that neither the male group(*W*=.97,*p*=.16) nor the female group(*W*=.96,*p*=.13) poses a statitistical evidence that indicates a significance difference from the normal distribution. Therefore we have failed to reject the null hypothesis at a 0.05 significance level. Thus, both the groups are approximately normally distributed.\n",
    "\n",
    "Let's us take a look the Raincloud Plots to further validate this conclusion."
   ]
  },
  {
   "cell_type": "code",
   "execution_count": 98,
   "id": "7249fa02-54ad-4970-a9dc-0af0e3a6020e",
   "metadata": {},
   "outputs": [
    {
     "data": {
      "image/png": "[encoded data removed]",
      "text/plain": [
       "<Figure size 800x600 with 1 Axes>"
      ]
     },
     "metadata": {},
     "output_type": "display_data"
    }
   ],
   "source": [
    "np.random.seed(42)\n",
    "plt.figure(figsize=(8, 6))\n",
    "sns.set(style=\"whitegrid\")\n",
    "\n",
    "sns.stripplot(x=\"Gender\", y=\"Hours_Spent\", data=combined_df_no_outlier, jitter=True, dodge=True, \n",
    "              hue=\"Gender\", palette=[\"#2ECC71\", \"#E74C3C\"], alpha=0.7, zorder=1, legend=False)\n",
    "\n",
    "sns.boxplot(x=\"Gender\", y=\"Hours_Spent\", data=combined_df_no_outlier, whis=np.inf, fliersize=0, \n",
    "            hue=\"Gender\", width=0.25, palette=[\"#2ECC71\", \"#E74C3C\"], zorder=2, dodge=False, legend=False)\n",
    "\n",
    "plt.title(\"Raincloud Plots (Without Distribution)\")\n",
    "plt.ylabel(\"Hours Spend Talking on Cellphone\")\n",
    "plt.xlabel(\"Gender\")\n",
    "plt.show()\n"
   ]
  },
  {
   "cell_type": "markdown",
   "id": "0d57c4fd-34ca-46b6-87fd-13c69260123c",
   "metadata": {},
   "source": [
    "#### Assumption 6\n",
    "You have homogeneity of variances (i.e., the variance of the dependent variable is equal in each group of your independent variable).\n",
    "\n",
    "To check for the equality of variance, let us use Levene's test for homogeneity of variances at a 0.05 significance level.\n",
    "\n",
    "The null hypothesis: There is no significant difference in a normal distribution and the distribution of each group in terms of the number of hours spent talking on cellphones per week. <br>\n",
    "The alternate hypothesis: The two groups are not normally distributedof hours spent talking on cellphones per weeks."
   ]
  },
  {
   "cell_type": "code",
   "execution_count": 100,
   "id": "a1eb30d5-8c85-4b15-8445-7c3a4797c4e0",
   "metadata": {},
   "outputs": [
    {
     "name": "stdout",
     "output_type": "stream",
     "text": [
      "LeveneResult(statistic=0.2444673109043188, pvalue=0.622115990194636)\n"
     ]
    }
   ],
   "source": [
    "levene = levene(females_only_series, males_only_series)\n",
    "print(levene)"
   ]
  },
  {
   "cell_type": "markdown",
   "id": "595f87a2-551e-4469-af49-e6c9c9583533",
   "metadata": {},
   "source": [
    "Levene's test for homogeneity of variances to test for the equality of variances between the two groups. The result showed that there is no significant statistical evidence to reject the null hypothesis(*W*=.24,*p*=.62), therefore we have failed to reject the null hypothesis. Meaning, we have a homogeneity of variances between each group.\n",
    "\n",
    "### Hypothesis Testing\n",
    "We can now use the two-sample independent t-test. But let us first restate the hypothesis:\n",
    "\n",
    "The goal is to determine if there is a statistically significant difference between the mean time spend on cell phones per week of males ($\\mu_1$) and females ($\\mu_2$) college students. We ought to statistical test to verify the significant validy of the following hypothesis:\n",
    "\n",
    "**Null Hypothesis ($H_0$)**: There is no significant difference in the average time spent talking on cellphones per week between males and females attending Midwestern University ($\\mu_1 = \\mu_2$).\n",
    "\n",
    "**Alternative Hypothesis ($H_1$)**: There is a significant difference between the average time spent talking on cellphones per week between males and females attending Midwestern University ($\\mu_1 \\neq \\mu_2$).\n"
   ]
  },
  {
   "cell_type": "code",
   "execution_count": 102,
   "id": "663ff65c-4c59-4dc2-8ad5-44eb1e23577f",
   "metadata": {},
   "outputs": [
    {
     "name": "stdout",
     "output_type": "stream",
     "text": [
      "TtestResult(statistic=0.6277381082236607, pvalue=0.5316505676186108, df=97.0)\n"
     ]
    }
   ],
   "source": [
    "ind_ttest = ttest_ind(males_only_series, females_only_series)\n",
    "print(ind_ttest)"
   ]
  },
  {
   "cell_type": "markdown",
   "id": "b2d94688-4b3c-4c81-ad9b-841349e1a8f3",
   "metadata": {},
   "source": [
    "An independent samples t-test was conducted to test whether there is no statistical significant difference in the mean of the hours spent talking on cellphones between the male and female groups. The result indicated that there was no significant difference between male and female groups when it comes to their average time talking on their cellphone (*t*(97)=0.63,p=.53). **Therefore we have failed to reject the null hypothesis at a 0.05 significance level**\n",
    "\n",
    "### Confidence Intervals\n",
    "To calculate for confidence intervals for $\\mu_1$, $\\mu_2$, and $\\mu_{1 \\ - \\ 2}$, we could use the following formula (Confidence Limit)\n",
    "\n",
    "$$\n",
    "S \\pm t_c \\cdot \\sigma_S\n",
    "$$\n",
    "Where <br>\n",
    "$S$ is the sample statistics; <br>\n",
    "$t_c$ is the critical value in t-distribution of df=97 at a 0.05 level of significance, $t_c=1.984$;<br>\n",
    "$\\sigma_S$ is the standard error in terms of the sample statistics."
   ]
  },
  {
   "cell_type": "code",
   "execution_count": 104,
   "id": "46e359ed-6274-4a08-89d0-b7833fd29648",
   "metadata": {},
   "outputs": [
    {
     "name": "stdout",
     "output_type": "stream",
     "text": [
      "95% Confidence Interval for Males: (9.370714592062882, 10.50683642834528)\n",
      "95% Confidence Interval for Females: (9.201778038154371, 10.198221961845627)\n",
      "95% Confidence Interval for Difference: (-0.5168158674496921, 0.9943668878578562)\n"
     ]
    }
   ],
   "source": [
    "male_n = len(males_only_series)\n",
    "female_n = len(females_only_series)\n",
    "dif_n = len(combined_df_no_outlier)\n",
    "males_mean = males_only_series.mean()\n",
    "males_std = males_only_series.std()\n",
    "female_mean = females_only_series.mean()\n",
    "female_std = females_only_series.std()\n",
    "dif_mean = males_mean - female_mean\n",
    "dif_se = ((males_std**2 / male_n) + (female_std**2 / female_n)) ** 0.5\n",
    "male_se = males_std / (male_n ** 0.5)\n",
    "female_se = female_std / (female_n ** 0.5)\n",
    "\n",
    "male_interval = (\n",
    "    males_mean - (1.984 * male_se),\n",
    "    males_mean + (1.984 * male_se)\n",
    ")\n",
    "\n",
    "female_interval = (\n",
    "    female_mean - (1.984 * female_se),\n",
    "    female_mean + (1.984 * female_se)\n",
    ")\n",
    "\n",
    "dif_interval = (\n",
    "    dif_mean - (1.984 * dif_se),\n",
    "    dif_mean + (1.984 * dif_se)\n",
    ")\n",
    "\n",
    "print(\"95% Confidence Interval for Males:\", male_interval)\n",
    "print(\"95% Confidence Interval for Females:\", female_interval)\n",
    "print(\"95% Confidence Interval for Difference:\", dif_interval)"
   ]
  },
  {
   "cell_type": "markdown",
   "id": "d360f102-28dc-4dea-9f21-90bc28915bf7",
   "metadata": {},
   "source": [
    "The 95% Confidence Intervals are as follows: <br>\n",
    "Male: $[9.37, 10.51]$ <br>\n",
    "Female: $[9.20, 10.20]$ <br>\n",
    "Mean Difference: $[-0.52, 0.99]$\n",
    "\n",
    "Meaning, the true mean of the population corresponding statistics lies within its corresponding interval.\n",
    "\n",
    "To illustrate this, "
   ]
  },
  {
   "cell_type": "code",
   "execution_count": 106,
   "id": "c2f9bf3d-b903-412d-b1b4-4fe2cecfd651",
   "metadata": {},
   "outputs": [
    {
     "data": {
      "image/png": "[encoded data removed]",
      "text/plain": [
       "<Figure size 500x600 with 1 Axes>"
      ]
     },
     "metadata": {},
     "output_type": "display_data"
    }
   ],
   "source": [
    "data = {\n",
    "    'Gender': [0.9, 1.1],\n",
    "    'Gender Label': ['Male', 'Female'],\n",
    "    'Mean': [males_mean, female_mean],\n",
    "    'SE': [male_se, female_se]\n",
    "}\n",
    "\n",
    "confidence_limits = 1.96 * np.array(data['SE'])\n",
    "df_plot = pd.DataFrame(data)\n",
    "\n",
    "sns.set(style=\"whitegrid\")\n",
    "\n",
    "plt.figure(figsize=(5, 6))\n",
    "plt.errorbar(df_plot['Gender'], df_plot['Mean'], yerr=confidence_limits, fmt='o-', \n",
    "             color='teal', ecolor='black', capsize=5, capthick=2, markersize=10, linewidth=2)\n",
    "\n",
    "for i, (x, y, ci) in enumerate(zip(df_plot['Gender'], df_plot['Mean'], confidence_limits)):\n",
    "    plt.text(x, y + ci + 0.05, f\"{y:.2f} ± {ci:.2f}\", ha='center', color='teal')\n",
    "\n",
    "\n",
    "plt.xticks([0.9, 1.1], df_plot['Gender Label'], fontsize=10)\n",
    "plt.xlabel(\"Gender\", fontsize=12)\n",
    "plt.ylabel(\"Mean Hours of Talking on Cell Phone\", fontsize=12)\n",
    "plt.title(\"Talking On Cell Phone by Gender with 95% Confidence Intervals\", fontsize=14)\n",
    "\n",
    "plt.ylim(8, 11) \n",
    "plt.tight_layout()\n",
    "plt.show()"
   ]
  },
  {
   "cell_type": "markdown",
   "id": "c2517160-e11c-441c-a214-d29b0943359e",
   "metadata": {},
   "source": [
    "As one can see, there's a significant overlap in confidence interval between groups, hence the minisicule mean difference interval, thus the rejection of null hypothesis. \n",
    "\n",
    "### Conclusion\n",
    "An independent samples t-test was conducted to verify the null hypothesis $H:0$ There is no significant difference in the average time spent talking on cellphones per week between males and females attending Midwestern University ($\\mu_1 = \\mu_2$)) After confirming the requirements for two samples t-test and removing one extreme outlier in the male group detected by z-scoring method, at 0.05 significance level, the result showed that there were no significant difference between male and femal groups in terms of their average time talking on their cellphone (t(97)=0.63,p=.53). Thus we have failed to reject the null hypothesis at a 0.05 significant level. .\n",
    "We have estimated at a 95% Confidence level that the true population parameter of the groups and their difference lies $[9.37, 10.51]$, $[9.20, 10.20]$, and $[-0.52, 0.99]$, for male mean, female mean, and the mean difference, respectively.\n",
    "\n",
    "\n",
    "### Recommendation\n",
    "**The larger the sample size, the better**. According to the Law of number, the more sample size we have, the closer we are to the population mean. Also, the higher our sample size, the lower the standar error ($SE = \\sigma/\\sqrt{N}$) will be. This is particularly helpful for estimating the interval for sample mean difference $(\\mu_1 - \\mu_2) \\pm z_c SE$, thus resulting to less variability and more precise estimate. Not only that but by the Central Limit Theorem, the sample mean distribution for both the male and female groups will each approach a normal distribution, regardless of the population distribution. All in all, a larger sample size cannot hurt and certainly can help especially in our case because I have initially use IQR method to detect outliers but it turned out that deleting the flagged ourliers significantly affect the normality of the data (it fails with a p-value of 0.04 when it passes with 0.34 before deleting the outliers). So for the sample distribution to be more robust, we need a larger sample size.\n",
    "\n",
    "As for the more testing part, I strongly recommend on **further deliberation on the experiment/testing design**. One instance is that researchers may consider conducting multiple tests across a set time interval (weekly, monthly, etc.) to identify the patterns and behaviours of students across time. In short, I'm recommending a time-series design. Or if the resources may not permit such extensive scope, they could just resort to test for same sample on different time and conduct a Paired Sample t Test. Researches may also consider other factors (course, age, grade) to provide more context to the student's behaviour. \n",
    "\n",
    "As convention, the researchers might still **use 0.05 significance level to be 95% confident** on their estimation of the parameter. Although I have used t-distribution, the researchers may opt to use the **z-scoring method for normal approximation to test the hypothesis of the mean differences between the two groups**. This is because generally speaking, a t-distribution of $N \\geq 30$ will approximate a normal distribution. So each of p-value from their respective methods turns almost identitical to each other. Using the z-scoring method for large samples can provide similar results to the t-distribution, and for very large samples, the choice between the two methods becomes less critical in terms of accuracy."
   ]
  }
 ],
 "metadata": {
  "kernelspec": {
   "display_name": "Python 3 (ipykernel)",
   "language": "python",
   "name": "python3"
  },
  "language_info": {
   "codemirror_mode": {
    "name": "ipython",
    "version": 3
   },
   "file_extension": ".py",
   "mimetype": "text/x-python",
   "name": "python",
   "nbconvert_exporter": "python",
   "pygments_lexer": "ipython3",
   "version": "3.12.3"
  },
  "toc": {
   "base_numbering": 1,
   "nav_menu": {},
   "number_sections": true,
   "sideBar": true,
   "skip_h1_title": false,
   "title_cell": "Table of Contents",
   "title_sidebar": "Contents",
   "toc_cell": false,
   "toc_position": {
    "height": "calc(100% - 180px)",
    "left": "10px",
    "top": "150px",
    "width": "237.05px"
   },
   "toc_section_display": true,
   "toc_window_display": true
  }
 },
 "nbformat": 4,
 "nbformat_minor": 5
}
